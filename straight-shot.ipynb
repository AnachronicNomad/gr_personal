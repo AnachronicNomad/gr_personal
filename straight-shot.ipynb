{
 "cells": [
  {
   "cell_type": "code",
   "execution_count": 1,
   "id": "875e8fd6",
   "metadata": {},
   "outputs": [
    {
     "name": "stdout",
     "output_type": "stream",
     "text": [
      "Python: 3.12.5 (main, Feb 25 2025, 12:37:41) [Clang 16.0.0 (clang-1600.0.26.6)]\n"
     ]
    },
    {
     "data": {
      "text/html": [
       "<html>\\(\\displaystyle \\verb|SageMath|\\verb| |\\verb|version|\\verb| |\\verb|10.6,|\\verb| |\\verb|Release|\\verb| |\\verb|Date:|\\verb| |\\verb|2025-03-31|\\)</html>"
      ],
      "text/latex": [
       "$\\displaystyle \\verb|SageMath|\\verb| |\\verb|version|\\verb| |\\verb|10.6,|\\verb| |\\verb|Release|\\verb| |\\verb|Date:|\\verb| |\\verb|2025-03-31|$"
      ],
      "text/plain": [
       "'SageMath version 10.6, Release Date: 2025-03-31'"
      ]
     },
     "execution_count": 1,
     "metadata": {},
     "output_type": "execute_result"
    }
   ],
   "source": [
    "########\n",
    "## Env Setup / Preamble\n",
    "########\n",
    "%reload_ext autoreload\n",
    "%autoreload complete \n",
    "\n",
    "%reload_ext Cython\n",
    "\n",
    "%display latex\n",
    "\n",
    "################\n",
    "\n",
    "import cython\n",
    "from sage.all import *\n",
    "\n",
    "################\n",
    "\n",
    "import tempfile\n",
    "import mmap\n",
    "from multiprocessing import shared_memory\n",
    "\n",
    "################\n",
    "\n",
    "import numpy as np\n",
    "import scipy.constants\n",
    "\n",
    "np.random.seed( int(scipy.constants.golden_ratio * 1.e6) )\n",
    "\n",
    "from numpy import vectorize\n",
    "from numpy import r_, c_, s_\n",
    "\n",
    "################\n",
    "\n",
    "####    boiler-plate class for named constants\n",
    "from sage.symbolic.constants import Constant\n",
    "class ConstantFromExpression(Constant):\n",
    "    def __init__(self, name, v):\n",
    "        conversions = dict(maxima=repr(maxima.coerce(v)))\n",
    "        Constant.__init__(self, name, conversions=conversions)\n",
    "        self._v = v\n",
    "    def __float__(self): return float(self._v)\n",
    "    def __complex__(self): return complex(self._v)\n",
    "    def _mpfr_(self, R): return R(self._v)\n",
    "    def _real_double_(self, R): return R(self._v)\n",
    "\n",
    "def NamedExpression(name, expr):\n",
    "    return ConstantFromExpression(name,expr).expression()\n",
    "####\n",
    "\n",
    "import sage.symbolic.units as units     # <: TODO\n",
    "\n",
    "𝛑   = NamedExpression('𝛑', scipy.constants.pi)         # pi\n",
    "𝛆_0 = NamedExpression('𝛆_0', scipy.constants.epsilon_0) # electric permittivity\n",
    "𝛍_0 = NamedExpression('𝛍_0', scipy.constants.mu_0)     # magnetic permeability of vacuum\n",
    "\n",
    "𝛋 = 1. / (4 * 𝛑 * 𝛆_0)      # Coulomb's constant in [ N·m²/C² ]\n",
    "𝙦_e = NamedExpression('𝙦_e', -scipy.constants.elementary_charge)\n",
    "\n",
    "𝒉_planck = NamedExpression('𝒉', scipy.constants.Planck)\n",
    "ℏ = NamedExpression('ℏ', scipy.constants.hbar)\n",
    "\n",
    "𝛂 = NamedExpression('𝛂', scipy.constants.fine_structure)\n",
    "\n",
    "𝒎_e = NamedExpression('𝒎_e', scipy.constants.electron_mass)\n",
    "𝒎_p = NamedExpression('𝒎_p', scipy.constants.proton_mass)\n",
    "\n",
    "amu = NamedExpression(\n",
    "    'amu', \n",
    "    scipy.constants.physical_constants['atomic mass constant'][0]\n",
    ")\n",
    "\n",
    "################\n",
    "\n",
    "#Parallelism().set(nproc=8)\n",
    "print(f\"Python: {sys.version}\")\n",
    "version()\n"
   ]
  },
  {
   "cell_type": "markdown",
   "id": "d61d902c",
   "metadata": {},
   "source": [
    "# [7]\n",
    "\n",
    "do a rotation on a 2D metric (like the circle/polar problem) and show same answer"
   ]
  },
  {
   "cell_type": "markdown",
   "id": "260206a4",
   "metadata": {},
   "source": [
    "# [14]\n",
    "\n",
    "Figure out the metric for a 2D curved earth with longitude/latitude coordinates."
   ]
  },
  {
   "cell_type": "code",
   "execution_count": 2,
   "id": "aae56077",
   "metadata": {},
   "outputs": [
    {
     "data": {
      "text/html": [
       "<html>\\(\\displaystyle \\left(A,(\\theta, \\phi)\\right)\\)</html>"
      ],
      "text/latex": [
       "$\\displaystyle \\left(A,(\\theta, \\phi)\\right)$"
      ],
      "text/plain": [
       "Chart (A, (theta, phi))"
      ]
     },
     "execution_count": 2,
     "metadata": {},
     "output_type": "execute_result"
    }
   ],
   "source": [
    "var(\"R\")\n",
    "S2 = manifolds.Sphere(2, radius=R)\n",
    "R3 = S2.ambient()\n",
    "\n",
    "spherical.<𝛉, 𝛗> = S2.spherical_coordinates()\n",
    "spherical\n"
   ]
  },
  {
   "cell_type": "code",
   "execution_count": 3,
   "id": "06548775",
   "metadata": {},
   "outputs": [
    {
     "data": {
      "text/html": [
       "<html>\\(\\displaystyle \\theta :\\ \\left( 0 , \\pi \\right) ;\\quad \\phi :\\ \\left[ -\\pi , \\pi \\right] \\text{(periodic)}\\)</html>"
      ],
      "text/latex": [
       "$\\displaystyle \\theta :\\ \\left( 0 , \\pi \\right) ;\\quad \\phi :\\ \\left[ -\\pi , \\pi \\right] \\text{(periodic)}$"
      ],
      "text/plain": [
       "theta: (0, pi); phi: [-pi, pi] (periodic)"
      ]
     },
     "execution_count": 3,
     "metadata": {},
     "output_type": "execute_result"
    }
   ],
   "source": [
    "# South Pole, 𝛉 = 𝛑\n",
    "spherical.coord_range()\n"
   ]
  },
  {
   "cell_type": "code",
   "execution_count": 4,
   "id": "daeb9294",
   "metadata": {},
   "outputs": [
    {
     "data": {
      "text/html": [
       "<html>\\(\\displaystyle \\left(\\mathbb{E}^{3},(x, y, z)\\right)\\)</html>"
      ],
      "text/latex": [
       "$\\displaystyle \\left(\\mathbb{E}^{3},(x, y, z)\\right)$"
      ],
      "text/plain": [
       "Chart (E^3, (x, y, z))"
      ]
     },
     "execution_count": 4,
     "metadata": {},
     "output_type": "execute_result"
    }
   ],
   "source": [
    "cartesian.<x,y,z> = R3.chart()\n",
    "\n",
    "cartesian\n"
   ]
  },
  {
   "cell_type": "code",
   "execution_count": 5,
   "id": "5b13c8c8",
   "metadata": {},
   "outputs": [
    {
     "data": {
      "text/html": [
       "<html>\\(\\displaystyle \\begin{array}{llcl} \\iota:& \\mathbb{S}^{2}_{R} & \\longrightarrow & \\mathbb{E}^{3} \\\\ \\text{on}\\ A : & \\left(\\theta, \\phi\\right) & \\longmapsto & \\left(x, y, z\\right) = \\left(R \\cos\\left(\\phi\\right) \\sin\\left(\\theta\\right), R \\sin\\left(\\phi\\right) \\sin\\left(\\theta\\right), R \\cos\\left(\\theta\\right)\\right) \\end{array}\\)</html>"
      ],
      "text/latex": [
       "$\\displaystyle \\begin{array}{llcl} \\iota:& \\mathbb{S}^{2}_{R} & \\longrightarrow & \\mathbb{E}^{3} \\\\ \\text{on}\\ A : & \\left(\\theta, \\phi\\right) & \\longmapsto & \\left(x, y, z\\right) = \\left(R \\cos\\left(\\phi\\right) \\sin\\left(\\theta\\right), R \\sin\\left(\\phi\\right) \\sin\\left(\\theta\\right), R \\cos\\left(\\theta\\right)\\right) \\end{array}$"
      ],
      "text/plain": [
       "iota: S^2_R → E^3\n",
       "on A: (theta, phi) ↦ (x, y, z) = (R*cos(phi)*sin(theta), R*sin(phi)*sin(theta), R*cos(theta))"
      ]
     },
     "execution_count": 5,
     "metadata": {},
     "output_type": "execute_result"
    }
   ],
   "source": [
    "𝚽 = S2.embedding()\n",
    "𝚽.display()\n"
   ]
  },
  {
   "cell_type": "code",
   "execution_count": 6,
   "id": "a73293b1",
   "metadata": {},
   "outputs": [
    {
     "data": {
      "text/html": [
       "<html>\\(\\displaystyle \\left(\\begin{array}{rr}\n",
       "R^{2} & 0 \\\\\n",
       "0 & R^{2} \\sin\\left(\\theta\\right)^{2}\n",
       "\\end{array}\\right)\\)</html>"
      ],
      "text/latex": [
       "$\\displaystyle \\left(\\begin{array}{rr}\n",
       "R^{2} & 0 \\\\\n",
       "0 & R^{2} \\sin\\left(\\theta\\right)^{2}\n",
       "\\end{array}\\right)$"
      ],
      "text/plain": [
       "[             R^2                0]\n",
       "[               0 R^2*sin(theta)^2]"
      ]
     },
     "execution_count": 6,
     "metadata": {},
     "output_type": "execute_result"
    }
   ],
   "source": [
    "g = S2.induced_metric()\n",
    "g[:]\n"
   ]
  },
  {
   "cell_type": "code",
   "execution_count": 7,
   "id": "aa9a83d6",
   "metadata": {},
   "outputs": [
    {
     "data": {
      "text/html": [
       "<html>\\(\\displaystyle g = R^{2} \\mathrm{d} \\theta\\otimes \\mathrm{d} \\theta + R^{2} \\sin\\left(\\theta\\right)^{2} \\mathrm{d} \\phi\\otimes \\mathrm{d} \\phi\\)</html>"
      ],
      "text/latex": [
       "$\\displaystyle g = R^{2} \\mathrm{d} \\theta\\otimes \\mathrm{d} \\theta + R^{2} \\sin\\left(\\theta\\right)^{2} \\mathrm{d} \\phi\\otimes \\mathrm{d} \\phi$"
      ],
      "text/plain": [
       "g = R^2 dtheta⊗dtheta + R^2*sin(theta)^2 dphi⊗dphi"
      ]
     },
     "execution_count": 7,
     "metadata": {},
     "output_type": "execute_result"
    }
   ],
   "source": [
    "g.display()\n"
   ]
  },
  {
   "cell_type": "code",
   "execution_count": 8,
   "id": "8405b444",
   "metadata": {},
   "outputs": [],
   "source": [
    "# South Pole, West - Negative Sign \n",
    "# North Pole, East - Positive Sign\n",
    "\n",
    "𝛉_l = lambda l: (𝛑/2) + ((-𝛑 / 180.) * l) \n",
    "𝛗_𝛌 = lambda 𝛌: (𝛑 / 180.) * 𝛌\n",
    "\n",
    "#latlong.<𝛌,l> = S2.chart(r'𝛌:[-180,180] l:[-90,90]')\n",
    "#latlong.transition_map(\n",
    "    #spherical,\n",
    "    #[\n",
    "        #(𝛑/2) + ((-𝛑 / 180.) * l),  # latitude to 𝛉\n",
    "        #(𝛑 / 180.) * 𝛌,             # longitude to 𝛗\n",
    "    #]\n",
    "#)\n"
   ]
  },
  {
   "cell_type": "code",
   "execution_count": 9,
   "id": "12b1f602",
   "metadata": {},
   "outputs": [],
   "source": [
    "# TODO :> need to show metric `g` in terms of <𝛌,l>\n"
   ]
  },
  {
   "cell_type": "markdown",
   "id": "c3645832",
   "metadata": {},
   "source": [
    "# [15]\n",
    "\n",
    "Find EoM for and solve it for Denver to London"
   ]
  },
  {
   "cell_type": "markdown",
   "id": "301e7633",
   "metadata": {},
   "source": [
    "---"
   ]
  },
  {
   "cell_type": "markdown",
   "id": "474dab10",
   "metadata": {},
   "source": [
    "Recall that the metric is given by:\n",
    "\n",
    "$$ ds^2 = R^2\\ \\partial \\theta^2 + R^2\\ \\sin^2\\theta \\partial \\phi^2 $$\n",
    "\n",
    "For now, we can assume $R = 1$, which simplifies to \n",
    "\n",
    "$$ ds^2 = (1)\\ \\partial \\theta^2 + (\\sin^2\\theta)\\ \\partial \\phi^2 $$\n"
   ]
  },
  {
   "cell_type": "markdown",
   "id": "9dcf6032",
   "metadata": {},
   "source": [
    "Now recall that the Geodesic Equation is given by \n",
    "\n",
    "$$ \n",
    "    \\frac{\\partial^2}{\\partial \\tau^2} x^\\mu +  \n",
    "        \\Gamma^{\\mu}_{\\alpha \\beta} \n",
    "        \\frac{\\partial x^\\alpha}{\\partial \\tau}\n",
    "        \\frac{\\partial x^\\beta}{\\partial \\tau}\n",
    "        = 0\n",
    "    \\\\ \\Leftrightarrow \\\\\n",
    "    \\ddot{\\gamma}^\\mu + \\Gamma^{\\mu}_{\\alpha \\beta}\n",
    "    \\dot{\\gamma}^\\alpha \\dot{\\gamma}^\\beta\n",
    "    = 0 \n",
    "$$\n",
    "\n",
    "where the \"proper-time\" $\\tau = s$, our implicit path-length variable of the metric. "
   ]
  },
  {
   "cell_type": "markdown",
   "id": "0c1ccaa1",
   "metadata": {},
   "source": [
    "For our given system, the Christoffel symbols $\\Gamma^\\mu_{\\alpha\\beta}$ are:"
   ]
  },
  {
   "cell_type": "code",
   "execution_count": 38,
   "id": "36a22670",
   "metadata": {},
   "outputs": [
    {
     "data": {
      "text/html": [
       "<html>\\(\\displaystyle \\begin{array}{lcl} \\Gamma_{\\phantom{\\, 1}\\,2\\,2}^{\\,1\\phantom{\\, 2}\\phantom{\\, 2}} & = & -\\cos\\left(\\theta\\right) \\sin\\left(\\theta\\right) \\\\ \\Gamma_{\\phantom{\\, 2}\\,1\\,2}^{\\,2\\phantom{\\, 1}\\phantom{\\, 2}} & = & \\frac{\\cos\\left(\\theta\\right)}{\\sin\\left(\\theta\\right)} \\\\ \\Gamma_{\\phantom{\\, 2}\\,2\\,1}^{\\,2\\phantom{\\, 2}\\phantom{\\, 1}} & = & \\frac{\\cos\\left(\\theta\\right)}{\\sin\\left(\\theta\\right)} \\end{array}\\)</html>"
      ],
      "text/latex": [
       "$\\displaystyle \\begin{array}{lcl} \\Gamma_{\\phantom{\\, 1}\\,2\\,2}^{\\,1\\phantom{\\, 2}\\phantom{\\, 2}} & = & -\\cos\\left(\\theta\\right) \\sin\\left(\\theta\\right) \\\\ \\Gamma_{\\phantom{\\, 2}\\,1\\,2}^{\\,2\\phantom{\\, 1}\\phantom{\\, 2}} & = & \\frac{\\cos\\left(\\theta\\right)}{\\sin\\left(\\theta\\right)} \\\\ \\Gamma_{\\phantom{\\, 2}\\,2\\,1}^{\\,2\\phantom{\\, 2}\\phantom{\\, 1}} & = & \\frac{\\cos\\left(\\theta\\right)}{\\sin\\left(\\theta\\right)} \\end{array}$"
      ],
      "text/plain": [
       "Gam^1_22 = -cos(theta)*sin(theta) \n",
       "Gam^2_12 = cos(theta)/sin(theta) \n",
       "Gam^2_21 = cos(theta)/sin(theta) "
      ]
     },
     "execution_count": 38,
     "metadata": {},
     "output_type": "execute_result"
    }
   ],
   "source": [
    "g.christoffel_symbols_display(\n",
    "    coordinate_labels=False,\n",
    "    only_nonredundant=False\n",
    ")\n"
   ]
  },
  {
   "cell_type": "markdown",
   "id": "c3b26e80",
   "metadata": {},
   "source": [
    "Or equivalently, \n",
    "\n",
    "$$\\begin{aligned} \n",
    "\\Gamma^\\theta_{\\phi\\phi} &= -\\sin\\left(\\theta\\right)\\cos\\left(\\theta\\right) \\\\\n",
    "\\Gamma^\\phi_{\\theta\\phi} = \\Gamma^\\phi_{\\phi\\theta} &= \\cot\\left(\\theta\\right) \\\\\n",
    "\\Rightarrow \\Gamma^\\phi_{\\alpha\\beta} &= 2 \\cot\\theta\n",
    "\\end{aligned}$$"
   ]
  },
  {
   "cell_type": "markdown",
   "id": "860ec412",
   "metadata": {},
   "source": [
    "We may now simplify the geodesic equation, indexed by $\\mu \\in \\{\\theta, \\phi\\}$, to receive the \n",
    "equations of motion in the coordinate system: \n",
    "\n",
    "$$\n",
    "\\begin{align}\n",
    "    \\ddot{\\theta}\\ &-\\ \\sin\\left(\\theta\\right)\\cos\\left(\\theta\\right) &\\left(\\dot\\phi\\right)^2 &= 0 \\\\\n",
    "    \\ddot{\\phi}\\ &+\\ 2 \\cot\\left(\\theta\\right) &\\dot\\theta\\dot\\phi &= 0\n",
    "\\end{align}\n",
    "$$"
   ]
  },
  {
   "cell_type": "markdown",
   "id": "4721b617",
   "metadata": {},
   "source": [
    "We will begin with Eqn. (2) above;\n",
    "\n",
    "$$\\begin{split}\n",
    "    \\ddot{\\phi}\\ +\\ 2 \\cot\\left(\\theta\\right)\\ \\dot\\theta\\dot\\phi = 0 & \\\\\n",
    "    &\\Rightarrow^* \\sin^2\\theta\\ \\ddot{\\phi} + 2 \\sin\\theta \\cos\\theta\\ \\dot\\theta\\dot\\phi = 0 \\\\\n",
    "    &\\Rightarrow^* \\partial_\\tau \\left( \\sin^2\\theta\\ \\dot\\phi \\right) = 0 \\qquad \n",
    "    \\textrm{By Product and Chain Rules} \\\\\n",
    "    &\\Rightarrow^* \\sin^2\\theta\\ \\dot\\phi = c_1 \\qquad \\textrm{By Integration}\\\\\n",
    "    &\\Rightarrow^* \\dot\\phi = c_1 \\csc^2\\theta \\\\\n",
    "\\end{split}$$\n",
    "\n",
    "where $c_1$ is a constant of integration. "
   ]
  },
  {
   "cell_type": "markdown",
   "id": "c30de62f",
   "metadata": {},
   "source": [
    "Back-substituting into Eqn. (1):\n",
    "\n",
    "$$\\begin{split}\n",
    "    \\ddot{\\theta}\\ -\\ \\sin\\left(\\theta\\right)\\cos\\left(\\theta\\right) \\left(\\dot\\phi\\right)^2 = 0 & \\\\\n",
    "    &\\Rightarrow^* \\ddot{\\theta}\\ -\\ \\sin\\left(\\theta\\right)\\cos\\left(\\theta\\right) \\left(c_1\\ \\csc^2\\theta\\right)^2 = 0 \\\\\n",
    "    &\\Rightarrow^* \\ddot{\\theta} - \\left(c_1\\right)^2 \\cot\\theta \\csc^2\\theta = 0 \\\\\n",
    "    &\\Rightarrow^* \\ddot{\\theta} = \\left(c_1\\right)^2 \\cot\\theta \\csc^2\\theta \\\\\n",
    "    &\\Rightarrow^* \\dot{\\theta} = \\left(c_1\\right)^{2} \\left(c_2 - \\cot\\theta\\right) \\qquad \\textrm{By Integration} \\\\\n",
    "\\end{split}$$\n",
    "\n",
    "where $c_2$ is a constant of integration. "
   ]
  },
  {
   "cell_type": "markdown",
   "id": "d0bd7c03",
   "metadata": {},
   "source": [
    "Since we are not given any information about the initial 'velocities' $c_1, c_2$, \n",
    "we must progress further. \n",
    "\n",
    "Substituting and simplifying:\n",
    "\n",
    "$$\\begin{split}\n",
    "\\left[\\begin{align*}\n",
    "    \\ddot\\theta &= \\left(c_1\\right)^2 \\cot\\theta \\csc^2\\theta \\\\\n",
    "    \\ddot\\phi &= -2\\cot\\theta \\left(c_1\\right)^2 \\left(c_2 - \\cot\\theta\\right)(c_1 \\csc^2\\theta) \\\\\n",
    "\\end{align*}\\right]\n",
    "    \\quad &\\Leftrightarrow \\quad \n",
    "\\left[\\begin{align*}\n",
    "    \\ddot\\theta &= \\left(c_1\\right)^2 \\cot\\theta \\csc^2\\theta \\\\\n",
    "    \\ddot\\phi &= -2\\cot\\theta \\left(\\left(c_1\\right)^2 \\left(c_2 - \\cot\\theta\\right)\\right)(c_1 \\csc^2\\theta) \\\\\n",
    "\\end{align*}\\right] \\\\\n",
    "    \\quad &\\Leftrightarrow \\quad \n",
    "\\left[\\begin{align*}\n",
    "    \\ddot\\theta &= \\left(c_1\\right)^2 \\cot\\theta \\csc^2\\theta \\\\\n",
    "    \\ddot\\phi &= -2\\ (c_1)^3 \\csc^2\\theta \\cot\\theta \\left(c_2 - \\cot\\theta \\right) \\\\\n",
    "\\end{align*}\\right]\n",
    "\\end{split}$$"
   ]
  },
  {
   "cell_type": "code",
   "execution_count": 10,
   "id": "ed1e78b5",
   "metadata": {},
   "outputs": [
    {
     "name": "stdout",
     "output_type": "stream",
     "text": [
      "Point Denver on the 2-sphere S^2_R of radius R smoothly embedded in the Euclidean space E^3\n"
     ]
    },
    {
     "data": {
      "text/html": [
       "<html>\\(\\displaystyle \\left(0.279226944444444 \\, 𝛑, -0.583248333333333 \\, 𝛑\\right)\\)</html>"
      ],
      "text/latex": [
       "$\\displaystyle \\left(0.279226944444444 \\, 𝛑, -0.583248333333333 \\, 𝛑\\right)$"
      ],
      "text/plain": [
       "(0.279226944444444*𝛑, -0.583248333333333*𝛑)"
      ]
     },
     "execution_count": 10,
     "metadata": {},
     "output_type": "execute_result"
    }
   ],
   "source": [
    "denver = S2.point( \n",
    "    (\n",
    "        𝛉_l(39.73915), \n",
    "        𝛗_𝛌(-104.9847),\n",
    "    ), \n",
    "    name=\"Denver\"\n",
    ")\n",
    "\n",
    "print(denver)\n",
    "spherical(denver)\n"
   ]
  },
  {
   "cell_type": "code",
   "execution_count": 11,
   "id": "847afe6d",
   "metadata": {},
   "outputs": [
    {
     "name": "stdout",
     "output_type": "stream",
     "text": [
      "Point London on the 2-sphere S^2_R of radius R smoothly embedded in the Euclidean space E^3\n"
     ]
    },
    {
     "data": {
      "text/html": [
       "<html>\\(\\displaystyle \\left(0.213841500000000 \\, 𝛑, -0.000698555555555556 \\, 𝛑\\right)\\)</html>"
      ],
      "text/latex": [
       "$\\displaystyle \\left(0.213841500000000 \\, 𝛑, -0.000698555555555556 \\, 𝛑\\right)$"
      ],
      "text/plain": [
       "(0.213841500000000*𝛑, -0.000698555555555556*𝛑)"
      ]
     },
     "execution_count": 11,
     "metadata": {},
     "output_type": "execute_result"
    }
   ],
   "source": [
    "london = S2.point( \n",
    "    (\n",
    "        𝛉_l(51.50853),\n",
    "        𝛗_𝛌(-0.12574), \n",
    "    ), \n",
    "    name=\"London\"\n",
    ")\n",
    "\n",
    "print(london)\n",
    "spherical(london)\n"
   ]
  },
  {
   "cell_type": "markdown",
   "id": "2173df04",
   "metadata": {},
   "source": [
    "---"
   ]
  },
  {
   "cell_type": "markdown",
   "id": "bf7d9389",
   "metadata": {},
   "source": [
    "Equivalently, we may engage the computer algebra system using the Manifolds \n",
    "construction as follows:"
   ]
  },
  {
   "cell_type": "code",
   "execution_count": 30,
   "id": "0357df74",
   "metadata": {},
   "outputs": [
    {
     "name": "stdout",
     "output_type": "stream",
     "text": [
      "Geodesic geodesic in the 2-sphere S^2_R of radius R smoothly embedded in the Euclidean space E^3 equipped with Riemannian metric g on the 2-sphere S^2_R of radius R smoothly embedded in the Euclidean space E^3, and integrated over the Real interval (smin, smax) as a solution to the following geodesic equations, written with respect to Chart (A, (theta, phi)):\n",
      "\n",
      "Initial point: Point Denver on the 2-sphere S^2_R of radius R smoothly embedded in the Euclidean space E^3 with coordinates [0.279226944444444*𝛑, -0.583248333333333*𝛑] with respect to Chart (A, (theta, phi))\n",
      "Initial tangent vector: Tangent vector at Point Denver on the 2-sphere S^2_R of radius R smoothly embedded in the Euclidean space E^3 with components [0.213841500000000*𝛑, -0.000698555555555556*𝛑] with respect to Chart (A, (theta, phi))\n",
      "\n",
      "d(theta)/ds = Dtheta\n",
      "d(phi)/ds = Dphi\n",
      "d(Dtheta)/ds = Dphi^2*cos(theta)*sin(theta)\n",
      "d(Dphi)/ds = -2*Dphi*Dtheta*cos(theta)/sin(theta)\n",
      "\n"
     ]
    },
    {
     "data": {
      "text/html": [
       "<html>\\(\\displaystyle \\left[\\left[\\mathit{Dphi}^{2} \\cos\\left(\\theta\\right) \\sin\\left(\\theta\\right), -\\frac{2 \\, \\mathit{Dphi} \\mathit{Dtheta} \\cos\\left(\\theta\\right)}{\\sin\\left(\\theta\\right)}\\right], \\mbox{Tangent vector at Point Denver on the 2-sphere S^2_R of radius R smoothly embedded in the Euclidean space E^3}, \\left(A,(\\theta, \\phi)\\right)\\right]\\)</html>"
      ],
      "text/latex": [
       "$\\displaystyle \\left[\\left[\\mathit{Dphi}^{2} \\cos\\left(\\theta\\right) \\sin\\left(\\theta\\right), -\\frac{2 \\, \\mathit{Dphi} \\mathit{Dtheta} \\cos\\left(\\theta\\right)}{\\sin\\left(\\theta\\right)}\\right], \\mbox{Tangent vector at Point Denver on the 2-sphere S^2_R of radius R smoothly embedded in the Euclidean space E^3}, \\left(A,(\\theta, \\phi)\\right)\\right]$"
      ],
      "text/plain": [
       "[[Dphi^2*cos(theta)*sin(theta), -2*Dphi*Dtheta*cos(theta)/sin(theta)],\n",
       " Tangent vector at Point Denver on the 2-sphere S^2_R of radius R smoothly embedded in the Euclidean space E^3,\n",
       " Chart (A, (theta, phi))]"
      ]
     },
     "execution_count": 30,
     "metadata": {},
     "output_type": "execute_result"
    }
   ],
   "source": [
    "var('s')\n",
    "\n",
    "v = S2.tangent_vector(denver,   # point\n",
    "                      (         # direction, ```London - Denver```\n",
    "                          spherical(london) + \n",
    "                          (-1 * spherical(denver))\n",
    "                      ), \n",
    ")\n",
    "\n",
    "[s, s_min, s_max] = var('s smin smax')\n",
    "\n",
    "geodesic = S2.integrated_geodesic(\n",
    "    g,\n",
    "    (s, s_min, s_max),\n",
    "    v,\n",
    "    chart=spherical,\n",
    "    name=\"geodesic\"\n",
    ")\n",
    "\n",
    "geo = geodesic.system(verbose=True)\n",
    "geo\n"
   ]
  },
  {
   "cell_type": "markdown",
   "id": "1069b783",
   "metadata": {},
   "source": [
    "That is, we may express the equations of motion in the coordinate system as\n",
    "\n",
    "$$\n",
    "\\begin{array}{rclc}\n",
    "    \\frac{\\partial^2 \\theta}{\\partial s^2} &=&\\ \\sin\\theta\\cos\\theta\\ &\\partial\\phi^2 \\\\ \n",
    "    \\frac{\\partial^2 \\phi}{\\partial s^2} &=&\\ -2 \\frac{\\cos\\theta}{\\sin{\\theta}}\\ &\\partial\\theta\\ \\partial\\phi \\\\\n",
    "\\end{array}\n",
    "    \\quad \\Leftrightarrow \\quad\n",
    "\\left[\n",
    "\\begin{array}{rclc}\n",
    "    \\ddot{\\theta} &-& \\sin\\theta\\cos\\theta\\ & \\ddot{\\phi} \\\\\n",
    "    \\ddot{\\phi}   &+& 2 \\cot\\theta\\ & \\dot{\\theta}\\dot{\\phi} \\\\\n",
    "\\end{array} \n",
    "\\right] \n",
    "= \\begin{bmatrix} 0 \\\\ 0 \\end{bmatrix}\n",
    "$$\n"
   ]
  },
  {
   "cell_type": "markdown",
   "id": "6689fd37",
   "metadata": {},
   "source": [
    "for which we may use back-substitution to simplify the system. \n",
    "\n",
    "$$\n",
    "\\begin{split}\n",
    "    (2) \\quad \\ddot{\\phi}\\ =\\ -\\frac{1}{\\sin\\theta\\cos\\theta}\\ \\ddot{\\theta}\\ \n",
    "    &\\Rightarrow^* \\quad \\cot\\theta\\ \\dot{\\theta}\\dot{\\phi}\\ =\\ -\\frac{1}{2\\sin\\theta\\cos\\theta}\\ \\ddot{\\theta} \\\\\n",
    "    &\\Rightarrow^* \\quad \\dot{\\theta}\\dot{\\phi}\\ =\\ -\\frac{1}{2}\\sec^2\\theta\\ \\ddot{\\theta} \\\\\n",
    "    &\\Rightarrow^* \\quad \\ddot{\\theta} =\\ -2\\cos^2\\theta\\ \\dot{\\theta}\\dot{\\phi}\\ \\\\\n",
    "\\end{split}\n",
    "$$"
   ]
  },
  {
   "cell_type": "markdown",
   "id": "9c0e00ae",
   "metadata": {},
   "source": [
    "Which may then be represented as:\n",
    "\n",
    "$$\n",
    "\\begin{array}{rcrc}\n",
    "    \\ddot{\\phi} &=& 2 \\cot{\\theta}\\ &\\dot\\theta\\dot\\phi \\\\\n",
    "    \\ddot{\\theta} &=& -2 \\cos^2\\theta\\ &\\dot\\theta\\dot\\phi\n",
    "\\end{array}\n",
    "    \\quad \\Leftrightarrow \\quad \n",
    "\\begin{array}{rcrl}\n",
    "    \\dot\\theta\\dot\\phi &=& \\frac{1}{2} \\tan\\theta\\ &\\ddot\\phi \\\\\n",
    "    \\dot\\theta\\dot\\phi &=& -\\frac{1}{2} \\sec^2\\theta\\ &\\ddot\\theta\n",
    "\\end{array}\n",
    "$$"
   ]
  },
  {
   "cell_type": "markdown",
   "id": "976b9253",
   "metadata": {},
   "source": [
    "This can be simplified to a separable linear first-order system in two variables; \n",
    "\n",
    "$$\n",
    "\\left[\n",
    "    \\begin{array}{rcrc}\n",
    "        \\dot\\theta &=& \\tan\\theta\\ &\\dot\\phi \\\\\n",
    "        \\dot\\phi &=& -\\sec^2\\theta &\\dot\\theta\n",
    "    \\end{array}\n",
    "\\right]\n",
    "    \\quad \\Leftrightarrow \\quad\n",
    "\\left[\n",
    "    \\begin{array}{rcrc}\n",
    "        \\dot\\phi &=& \\cot\\theta\\ &\\dot\\theta \\\\\n",
    "        \\dot\\phi &=& -\\sec^2\\theta &\\dot\\theta\n",
    "    \\end{array}\n",
    "\\right]\n",
    "$$"
   ]
  },
  {
   "cell_type": "markdown",
   "id": "fca64df5",
   "metadata": {},
   "source": [
    "From here, we can either use another round of back-substitution, or implicitly\n",
    "solve the separable equation. "
   ]
  },
  {
   "cell_type": "markdown",
   "id": "c13f8d98",
   "metadata": {},
   "source": [
    "---\n",
    "\n",
    "For funsies, we can also analytically solve the computer algebra form of the geodesic system of equations of motion, and express them as the Lagrangian of an Initial Value Problem in the coordinate system: "
   ]
  },
  {
   "cell_type": "code",
   "execution_count": 32,
   "id": "72ef61f7",
   "metadata": {},
   "outputs": [
    {
     "data": {
      "text/html": [
       "<html>\\(\\displaystyle \\left(\\mathcal{L}^{-1}\\left(\\frac{g_{7377} \\theta_{0} + \\mathit{Dtheta}_{0} + \\mathcal{L}\\left(\\cos\\left(y_{1}\\left(s\\right)\\right) \\sin\\left(y_{1}\\left(s\\right)\\right) y_{4}\\left(s\\right)^{2}, s, g_{7377}\\right)}{g_{7377}^{2}}, g_{7377}, s\\right), \\mathcal{L}^{-1}\\left(\\frac{g_{7377} \\phi_{0} + \\mathit{Dphi}_{0} - 2 \\, \\mathcal{L}\\left(\\frac{\\cos\\left(y_{1}\\left(s\\right)\\right) y_{3}\\left(s\\right) y_{4}\\left(s\\right)}{\\sin\\left(y_{1}\\left(s\\right)\\right)}, s, g_{7377}\\right)}{g_{7377}^{2}}, g_{7377}, s\\right)\\right)\\)</html>"
      ],
      "text/latex": [
       "$\\displaystyle \\left(\\mathcal{L}^{-1}\\left(\\frac{g_{7377} \\theta_{0} + \\mathit{Dtheta}_{0} + \\mathcal{L}\\left(\\cos\\left(y_{1}\\left(s\\right)\\right) \\sin\\left(y_{1}\\left(s\\right)\\right) y_{4}\\left(s\\right)^{2}, s, g_{7377}\\right)}{g_{7377}^{2}}, g_{7377}, s\\right), \\mathcal{L}^{-1}\\left(\\frac{g_{7377} \\phi_{0} + \\mathit{Dphi}_{0} - 2 \\, \\mathcal{L}\\left(\\frac{\\cos\\left(y_{1}\\left(s\\right)\\right) y_{3}\\left(s\\right) y_{4}\\left(s\\right)}{\\sin\\left(y_{1}\\left(s\\right)\\right)}, s, g_{7377}\\right)}{g_{7377}^{2}}, g_{7377}, s\\right)\\right)$"
      ],
      "text/plain": [
       "(ilt((g7377*theta_0 + Dtheta_0 + laplace(cos(y1(s))*sin(y1(s))*y4(s)^2, s, g7377))/g7377^2, g7377, s),\n",
       " ilt((g7377*phi_0 + Dphi_0 - 2*laplace(cos(y1(s))*y3(s)*y4(s)/sin(y1(s)), s, g7377))/g7377^2, g7377, s))"
      ]
     },
     "execution_count": 32,
     "metadata": {},
     "output_type": "execute_result"
    }
   ],
   "source": [
    "sol = geodesic.solve_analytical()\n",
    "sol\n"
   ]
  },
  {
   "cell_type": "markdown",
   "id": "a70f8971",
   "metadata": {},
   "source": [
    "# [16]\n",
    "\n",
    "Calculate the Reimann curvature tensor for a flat space in polar coordinates and on the sphere S2."
   ]
  },
  {
   "cell_type": "code",
   "execution_count": 39,
   "id": "f633d527",
   "metadata": {},
   "outputs": [
    {
     "data": {
      "text/html": [
       "<html>\\(\\displaystyle \\begin{array}{lcl} {\\mathrm{Riem}\\left(g\\right)}_{ \\phantom{\\, \\theta} \\, \\phi \\, \\theta \\, \\phi }^{ \\, \\theta \\phantom{\\, \\phi} \\phantom{\\, \\theta} \\phantom{\\, \\phi} } & = & \\sin\\left(\\theta\\right)^{2} \\\\ {\\mathrm{Riem}\\left(g\\right)}_{ \\phantom{\\, \\theta} \\, \\phi \\, \\phi \\, \\theta }^{ \\, \\theta \\phantom{\\, \\phi} \\phantom{\\, \\phi} \\phantom{\\, \\theta} } & = & -\\sin\\left(\\theta\\right)^{2} \\\\ {\\mathrm{Riem}\\left(g\\right)}_{ \\phantom{\\, \\phi} \\, \\theta \\, \\theta \\, \\phi }^{ \\, \\phi \\phantom{\\, \\theta} \\phantom{\\, \\theta} \\phantom{\\, \\phi} } & = & -1 \\\\ {\\mathrm{Riem}\\left(g\\right)}_{ \\phantom{\\, \\phi} \\, \\theta \\, \\phi \\, \\theta }^{ \\, \\phi \\phantom{\\, \\theta} \\phantom{\\, \\phi} \\phantom{\\, \\theta} } & = & 1 \\end{array}\\)</html>"
      ],
      "text/latex": [
       "$\\displaystyle \\begin{array}{lcl} {\\mathrm{Riem}\\left(g\\right)}_{ \\phantom{\\, \\theta} \\, \\phi \\, \\theta \\, \\phi }^{ \\, \\theta \\phantom{\\, \\phi} \\phantom{\\, \\theta} \\phantom{\\, \\phi} } & = & \\sin\\left(\\theta\\right)^{2} \\\\ {\\mathrm{Riem}\\left(g\\right)}_{ \\phantom{\\, \\theta} \\, \\phi \\, \\phi \\, \\theta }^{ \\, \\theta \\phantom{\\, \\phi} \\phantom{\\, \\phi} \\phantom{\\, \\theta} } & = & -\\sin\\left(\\theta\\right)^{2} \\\\ {\\mathrm{Riem}\\left(g\\right)}_{ \\phantom{\\, \\phi} \\, \\theta \\, \\theta \\, \\phi }^{ \\, \\phi \\phantom{\\, \\theta} \\phantom{\\, \\theta} \\phantom{\\, \\phi} } & = & -1 \\\\ {\\mathrm{Riem}\\left(g\\right)}_{ \\phantom{\\, \\phi} \\, \\theta \\, \\phi \\, \\theta }^{ \\, \\phi \\phantom{\\, \\theta} \\phantom{\\, \\phi} \\phantom{\\, \\theta} } & = & 1 \\end{array}$"
      ],
      "text/plain": [
       "Riem(g)^theta_phi,theta,phi = sin(theta)^2 \n",
       "Riem(g)^theta_phi,phi,theta = -sin(theta)^2 \n",
       "Riem(g)^phi_theta,theta,phi = -1 \n",
       "Riem(g)^phi_theta,phi,theta = 1 "
      ]
     },
     "execution_count": 39,
     "metadata": {},
     "output_type": "execute_result"
    }
   ],
   "source": [
    "Γ = g.connection()\n",
    "\n",
    "𝓡 = Γ.riemann()\n",
    "\n",
    "𝓡.display_comp()\n"
   ]
  },
  {
   "cell_type": "code",
   "execution_count": 42,
   "id": "86fbdb20",
   "metadata": {},
   "outputs": [
    {
     "data": {
      "text/html": [
       "<html>\\(\\displaystyle \\mathrm{Riem}\\left(g\\right) = \\sin\\left(\\theta\\right)^{2} \\frac{\\partial}{\\partial \\theta }\\otimes \\mathrm{d} \\phi\\otimes \\mathrm{d} \\theta\\otimes \\mathrm{d} \\phi -\\sin\\left(\\theta\\right)^{2} \\frac{\\partial}{\\partial \\theta }\\otimes \\mathrm{d} \\phi\\otimes \\mathrm{d} \\phi\\otimes \\mathrm{d} \\theta -\\frac{\\partial}{\\partial \\phi }\\otimes \\mathrm{d} \\theta\\otimes \\mathrm{d} \\theta\\otimes \\mathrm{d} \\phi +\\frac{\\partial}{\\partial \\phi }\\otimes \\mathrm{d} \\theta\\otimes \\mathrm{d} \\phi\\otimes \\mathrm{d} \\theta\\)</html>"
      ],
      "text/latex": [
       "$\\displaystyle \\mathrm{Riem}\\left(g\\right) = \\sin\\left(\\theta\\right)^{2} \\frac{\\partial}{\\partial \\theta }\\otimes \\mathrm{d} \\phi\\otimes \\mathrm{d} \\theta\\otimes \\mathrm{d} \\phi -\\sin\\left(\\theta\\right)^{2} \\frac{\\partial}{\\partial \\theta }\\otimes \\mathrm{d} \\phi\\otimes \\mathrm{d} \\phi\\otimes \\mathrm{d} \\theta -\\frac{\\partial}{\\partial \\phi }\\otimes \\mathrm{d} \\theta\\otimes \\mathrm{d} \\theta\\otimes \\mathrm{d} \\phi +\\frac{\\partial}{\\partial \\phi }\\otimes \\mathrm{d} \\theta\\otimes \\mathrm{d} \\phi\\otimes \\mathrm{d} \\theta$"
      ],
      "text/plain": [
       "Riem(g) = sin(theta)^2 ∂/∂theta⊗dphi⊗dtheta⊗dphi - sin(theta)^2 ∂/∂theta⊗dphi⊗dphi⊗dtheta - ∂/∂phi⊗dtheta⊗dtheta⊗dphi + ∂/∂phi⊗dtheta⊗dphi⊗dtheta"
      ]
     },
     "execution_count": 42,
     "metadata": {},
     "output_type": "execute_result"
    }
   ],
   "source": [
    "𝓡.display()\n"
   ]
  },
  {
   "cell_type": "markdown",
   "id": "aa3e8734",
   "metadata": {},
   "source": [
    "__!! Note :> Key takeaway here is that both may be considered to locally be \"flat\", since the terms will cancel.__"
   ]
  },
  {
   "cell_type": "markdown",
   "id": "96be5485",
   "metadata": {},
   "source": [
    "# [17]\n",
    "\n",
    "Compute the change in a vector due to transport around closed curve in S2"
   ]
  },
  {
   "cell_type": "markdown",
   "id": "ddfafe32",
   "metadata": {},
   "source": [
    "# [19]\n",
    "\n",
    "You watch a muon speed to earth with energy 100 GeV. How long will it take to decay?  To reach the ground from the upper atmosphere?"
   ]
  },
  {
   "cell_type": "markdown",
   "id": "2dfde3d4",
   "metadata": {},
   "source": [
    "# [20]\n",
    "\n",
    "show that the momentum 4-vector has an invariant length of -m^2c^4"
   ]
  },
  {
   "cell_type": "markdown",
   "id": "c25e20ed",
   "metadata": {},
   "source": [
    "# [22]\n",
    "\n",
    "Get the Ricci Tensor/scalar to show the field equation for huv is correct"
   ]
  },
  {
   "cell_type": "markdown",
   "id": "fd00a08c",
   "metadata": {},
   "source": [
    "# [23]\n",
    "\n",
    "Get hmn for sun and show that it satisfies the linearized equation, get geodesic equation for light from hmn"
   ]
  },
  {
   "cell_type": "markdown",
   "id": "956b9f78",
   "metadata": {},
   "source": [
    "# [24] \n",
    "\n",
    "Reproduce figure 4.5 from pg 140 of the text on the deflection of light."
   ]
  },
  {
   "cell_type": "markdown",
   "id": "590b4df3",
   "metadata": {},
   "source": [
    "# [25]\n",
    "\n",
    "verify the solution of the scalar wave equation, the \"plane wave\" solution."
   ]
  },
  {
   "cell_type": "markdown",
   "id": "a9c50d59",
   "metadata": {},
   "source": [
    "# [26]\n",
    "\n",
    "Do Exercises 3, 4, and 5 in Section 3.1 of Ohanian.\n"
   ]
  },
  {
   "cell_type": "markdown",
   "id": "0ac5ba58",
   "metadata": {},
   "source": [
    "## §3.1 ex. 3\n",
    "\n",
    ">   Show that the gauge transformation (3.19) produces no change in $F_{\\mu\\nu}$.\n",
    ">\n",
    ">   $$ A^\\nu \\rightarrow A^\\nu + \\partial^\\nu \\Lambda \\tag{3.19} $$\n",
    ">\n",
    ">   given: \n",
    ">\n",
    ">   *   $$ F^{\\mu\\nu} \\equiv \\partial^\\mu A^\\nu - \\partial^\\nu A^\\mu \\tag{3.15} $$\n",
    ">   *   $\\Lambda$ is any arbitrary scalar function, the _gauge function_.  "
   ]
  },
  {
   "cell_type": "markdown",
   "id": "6b8ca2cf",
   "metadata": {},
   "source": [
    "## §3.1 ex. 4\n",
    "\n",
    ">   Show that for a wave propagating in the $z$-direction, Eqs. (3.24) and (3.20), \n",
    ">   with $j^\\nu = 0$, have the following linearly independent solutions:\n",
    ">\n",
    ">   $$ A^\\nu = \\epsilon_{(n)}^\\nu \\cos\\left(\\omega z - \\omega t\\right) \\tag{3.26}$$\n",
    ">\n",
    ">   where $\\epsilon_{(n)}^{\\nu} : n \\in \\{1, 2, 3\\}$ is one of the following vectors:\n",
    ">\n",
    ">   * $\\epsilon_{(1)}^\\nu = (0, 1, 0, 0)$\n",
    ">   * $\\epsilon_{(2)}^\\nu = (0, 0, 1, 0)$\n",
    ">   * $\\epsilon_{(3)}^\\nu = (1, 0, 0, 1)$\n",
    ">\n",
    ">   (Note :> The subscript $n$ has been enclosed in parentheses to indicate that it is \n",
    ">    not a tensor index; it is only a label that distinguishes between the four&ndash;\n",
    ">    vectors above.)\n",
    ">\n",
    ">   Show that any other solution of the type $\\cos\\left(\\omega z - \\omega t\\right)$\n",
    ">   can be written as a linear combination of the three solutions, with the \n",
    ">   _polarization vectors_ $\\epsilon_{(n)}^\\nu$ listed above. "
   ]
  },
  {
   "cell_type": "markdown",
   "id": "49ed8981",
   "metadata": {},
   "source": [
    "## §3.1 ex. 5\n",
    "\n",
    ">   Find the $\\mathbf{E}$ and $\\mathbf{B}$ fields for each of the solutions \n",
    ">   $\\epsilon_{(n)}^\\nu$, and show that the $\\epsilon_{(3)}^\\nu$ solution \n",
    ">   gives $\\mathbf{E} = \\mathbf{B} = 0$.\n",
    ">\n",
    ">   Hence, only the solutions with the first two polarization vectors $\\epsilon_{(1)}^\\nu$\n",
    ">   and $\\epsilon_{(2)}^\\nu$ have any physical significance. \n",
    ">\n",
    ">   These two polarization vectors correspond to the familiar two independent, \n",
    ">   perpendicular directions of polarization of an electromagnetic wave.  Show that\n",
    ">   the solution with the polarization vector $\\epsilon_{(3)}$\\nu$ can be\n",
    ">   completely eliminated by a gauge transformation, with $\\Lambda = (1/\\omega)\n",
    ">   \\sin\\left(\\omega z - \\omega t\\right)$, which leaves to $\\overline{A}^\\nu = 0$. "
   ]
  },
  {
   "cell_type": "markdown",
   "id": "b9bbd999",
   "metadata": {},
   "source": [
    "# [27]\n",
    "\n",
    "Compute the effect of a grav. wave traveling in the z-dir on a circle of masses arranged in the x-y plane."
   ]
  }
 ],
 "metadata": {
  "kernelspec": {
   "display_name": "SageMath 10.6",
   "language": "sage",
   "name": "SageMath-10.6"
  },
  "language_info": {
   "codemirror_mode": {
    "name": "ipython",
    "version": 3
   },
   "file_extension": ".py",
   "mimetype": "text/x-python",
   "name": "python",
   "nbconvert_exporter": "python",
   "pygments_lexer": "ipython3",
   "version": "3.12.5"
  }
 },
 "nbformat": 4,
 "nbformat_minor": 5
}
