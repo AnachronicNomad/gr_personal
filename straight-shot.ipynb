{
 "cells": [
  {
   "cell_type": "code",
   "execution_count": 1,
   "id": "875e8fd6",
   "metadata": {},
   "outputs": [
    {
     "name": "stdout",
     "output_type": "stream",
     "text": [
      "Python: 3.12.5 (main, Feb 25 2025, 12:37:41) [Clang 16.0.0 (clang-1600.0.26.6)]\n"
     ]
    },
    {
     "data": {
      "text/html": [
       "<html>\\(\\displaystyle \\verb|SageMath|\\verb| |\\verb|version|\\verb| |\\verb|10.6,|\\verb| |\\verb|Release|\\verb| |\\verb|Date:|\\verb| |\\verb|2025-03-31|\\)</html>"
      ],
      "text/latex": [
       "$\\displaystyle \\verb|SageMath|\\verb| |\\verb|version|\\verb| |\\verb|10.6,|\\verb| |\\verb|Release|\\verb| |\\verb|Date:|\\verb| |\\verb|2025-03-31|$"
      ],
      "text/plain": [
       "'SageMath version 10.6, Release Date: 2025-03-31'"
      ]
     },
     "execution_count": 1,
     "metadata": {},
     "output_type": "execute_result"
    }
   ],
   "source": [
    "########\n",
    "## Env Setup / Preamble\n",
    "########\n",
    "%reload_ext autoreload\n",
    "%autoreload complete \n",
    "\n",
    "%reload_ext Cython\n",
    "\n",
    "%display latex\n",
    "\n",
    "################\n",
    "\n",
    "import cython\n",
    "from sage.all import *\n",
    "\n",
    "################\n",
    "\n",
    "import tempfile\n",
    "import mmap\n",
    "from multiprocessing import shared_memory\n",
    "\n",
    "################\n",
    "\n",
    "import numpy as np\n",
    "import scipy.constants\n",
    "\n",
    "np.random.seed( int(scipy.constants.golden_ratio * 1.e6) )\n",
    "\n",
    "from numpy import vectorize\n",
    "from numpy import r_, c_, s_\n",
    "\n",
    "################\n",
    "\n",
    "####    boiler-plate class for named constants\n",
    "from sage.symbolic.constants import Constant\n",
    "class ConstantFromExpression(Constant):\n",
    "    def __init__(self, name, v):\n",
    "        conversions = dict(maxima=repr(maxima.coerce(v)))\n",
    "        Constant.__init__(self, name, conversions=conversions)\n",
    "        self._v = v\n",
    "    def __float__(self): return float(self._v)\n",
    "    def __complex__(self): return complex(self._v)\n",
    "    def _mpfr_(self, R): return R(self._v)\n",
    "    def _real_double_(self, R): return R(self._v)\n",
    "\n",
    "def NamedExpression(name, expr):\n",
    "    return ConstantFromExpression(name,expr).expression()\n",
    "####\n",
    "\n",
    "import sage.symbolic.units as units     # <: TODO\n",
    "\n",
    "𝛑   = NamedExpression('𝛑', scipy.constants.pi)         # pi\n",
    "𝛆_0 = NamedExpression('𝛆_0', scipy.constants.epsilon_0) # electric permittivity\n",
    "𝛍_0 = NamedExpression('𝛍_0', scipy.constants.mu_0)     # magnetic permeability of vacuum\n",
    "\n",
    "𝛋 = 1. / (4 * 𝛑 * 𝛆_0)      # Coulomb's constant in [ N·m²/C² ]\n",
    "𝙦_e = NamedExpression('𝙦_e', -scipy.constants.elementary_charge)\n",
    "\n",
    "𝒉_planck = NamedExpression('𝒉', scipy.constants.Planck)\n",
    "ℏ = NamedExpression('ℏ', scipy.constants.hbar)\n",
    "\n",
    "𝛂 = NamedExpression('𝛂', scipy.constants.fine_structure)\n",
    "\n",
    "𝒎_e = NamedExpression('𝒎_e', scipy.constants.electron_mass)\n",
    "𝒎_p = NamedExpression('𝒎_p', scipy.constants.proton_mass)\n",
    "\n",
    "amu = NamedExpression(\n",
    "    'amu', \n",
    "    scipy.constants.physical_constants['atomic mass constant'][0]\n",
    ")\n",
    "\n",
    "################\n",
    "\n",
    "#Parallelism().set(nproc=8)\n",
    "print(f\"Python: {sys.version}\")\n",
    "version()\n"
   ]
  },
  {
   "cell_type": "markdown",
   "id": "d61d902c",
   "metadata": {},
   "source": [
    "# [7]\n",
    "\n",
    "do a rotation on a 2D metric (like the circle/polar problem) and show same answer"
   ]
  },
  {
   "cell_type": "markdown",
   "id": "260206a4",
   "metadata": {},
   "source": [
    "# [14]\n",
    "\n",
    "Figure out the metric for a 2D curved earth with longitude/latitude coordinates."
   ]
  },
  {
   "cell_type": "code",
   "execution_count": 2,
   "id": "aae56077",
   "metadata": {},
   "outputs": [
    {
     "data": {
      "text/html": [
       "<html>\\(\\displaystyle \\left(A,(\\theta, \\phi)\\right)\\)</html>"
      ],
      "text/latex": [
       "$\\displaystyle \\left(A,(\\theta, \\phi)\\right)$"
      ],
      "text/plain": [
       "Chart (A, (theta, phi))"
      ]
     },
     "execution_count": 2,
     "metadata": {},
     "output_type": "execute_result"
    }
   ],
   "source": [
    "var(\"R\")\n",
    "S2 = manifolds.Sphere(2, radius=R)\n",
    "R3 = S2.ambient()\n",
    "\n",
    "spherical.<𝛉, 𝛗> = S2.spherical_coordinates()\n",
    "spherical\n"
   ]
  },
  {
   "cell_type": "code",
   "execution_count": null,
   "id": "06548775",
   "metadata": {},
   "outputs": [
    {
     "data": {
      "text/html": [
       "<html>\\(\\displaystyle \\theta :\\ \\left( 0 , \\pi \\right) ;\\quad \\phi :\\ \\left[ -\\pi , \\pi \\right] \\text{(periodic)}\\)</html>"
      ],
      "text/latex": [
       "$\\displaystyle \\theta :\\ \\left( 0 , \\pi \\right) ;\\quad \\phi :\\ \\left[ -\\pi , \\pi \\right] \\text{(periodic)}$"
      ],
      "text/plain": [
       "theta: (0, pi); phi: [-pi, pi] (periodic)"
      ]
     },
     "execution_count": 3,
     "metadata": {},
     "output_type": "execute_result"
    }
   ],
   "source": [
    "# South Pole, 𝛉 = 𝛑\n",
    "spherical.coord_range()\n"
   ]
  },
  {
   "cell_type": "code",
   "execution_count": 4,
   "id": "daeb9294",
   "metadata": {},
   "outputs": [
    {
     "data": {
      "text/html": [
       "<html>\\(\\displaystyle \\left(\\mathbb{E}^{3},(x, y, z)\\right)\\)</html>"
      ],
      "text/latex": [
       "$\\displaystyle \\left(\\mathbb{E}^{3},(x, y, z)\\right)$"
      ],
      "text/plain": [
       "Chart (E^3, (x, y, z))"
      ]
     },
     "execution_count": 4,
     "metadata": {},
     "output_type": "execute_result"
    }
   ],
   "source": [
    "cartesian.<x,y,z> = R3.chart()\n",
    "\n",
    "cartesian\n"
   ]
  },
  {
   "cell_type": "code",
   "execution_count": 5,
   "id": "5b13c8c8",
   "metadata": {},
   "outputs": [
    {
     "data": {
      "text/html": [
       "<html>\\(\\displaystyle \\begin{array}{llcl} \\iota:& \\mathbb{S}^{2}_{R} & \\longrightarrow & \\mathbb{E}^{3} \\\\ \\text{on}\\ A : & \\left(\\theta, \\phi\\right) & \\longmapsto & \\left(x, y, z\\right) = \\left(R \\cos\\left(\\phi\\right) \\sin\\left(\\theta\\right), R \\sin\\left(\\phi\\right) \\sin\\left(\\theta\\right), R \\cos\\left(\\theta\\right)\\right) \\end{array}\\)</html>"
      ],
      "text/latex": [
       "$\\displaystyle \\begin{array}{llcl} \\iota:& \\mathbb{S}^{2}_{R} & \\longrightarrow & \\mathbb{E}^{3} \\\\ \\text{on}\\ A : & \\left(\\theta, \\phi\\right) & \\longmapsto & \\left(x, y, z\\right) = \\left(R \\cos\\left(\\phi\\right) \\sin\\left(\\theta\\right), R \\sin\\left(\\phi\\right) \\sin\\left(\\theta\\right), R \\cos\\left(\\theta\\right)\\right) \\end{array}$"
      ],
      "text/plain": [
       "iota: S^2_R → E^3\n",
       "on A: (theta, phi) ↦ (x, y, z) = (R*cos(phi)*sin(theta), R*sin(phi)*sin(theta), R*cos(theta))"
      ]
     },
     "execution_count": 5,
     "metadata": {},
     "output_type": "execute_result"
    }
   ],
   "source": [
    "𝚽 = S2.embedding()\n",
    "𝚽.display()\n"
   ]
  },
  {
   "cell_type": "code",
   "execution_count": 6,
   "id": "a73293b1",
   "metadata": {},
   "outputs": [
    {
     "data": {
      "text/html": [
       "<html>\\(\\displaystyle \\left(\\begin{array}{rr}\n",
       "R^{2} & 0 \\\\\n",
       "0 & R^{2} \\sin\\left(\\theta\\right)^{2}\n",
       "\\end{array}\\right)\\)</html>"
      ],
      "text/latex": [
       "$\\displaystyle \\left(\\begin{array}{rr}\n",
       "R^{2} & 0 \\\\\n",
       "0 & R^{2} \\sin\\left(\\theta\\right)^{2}\n",
       "\\end{array}\\right)$"
      ],
      "text/plain": [
       "[             R^2                0]\n",
       "[               0 R^2*sin(theta)^2]"
      ]
     },
     "execution_count": 6,
     "metadata": {},
     "output_type": "execute_result"
    }
   ],
   "source": [
    "g = S2.induced_metric()\n",
    "g[:]\n"
   ]
  },
  {
   "cell_type": "code",
   "execution_count": 7,
   "id": "aa9a83d6",
   "metadata": {},
   "outputs": [
    {
     "data": {
      "text/html": [
       "<html>\\(\\displaystyle g = R^{2} \\mathrm{d} \\theta\\otimes \\mathrm{d} \\theta + R^{2} \\sin\\left(\\theta\\right)^{2} \\mathrm{d} \\phi\\otimes \\mathrm{d} \\phi\\)</html>"
      ],
      "text/latex": [
       "$\\displaystyle g = R^{2} \\mathrm{d} \\theta\\otimes \\mathrm{d} \\theta + R^{2} \\sin\\left(\\theta\\right)^{2} \\mathrm{d} \\phi\\otimes \\mathrm{d} \\phi$"
      ],
      "text/plain": [
       "g = R^2 dtheta⊗dtheta + R^2*sin(theta)^2 dphi⊗dphi"
      ]
     },
     "execution_count": 7,
     "metadata": {},
     "output_type": "execute_result"
    }
   ],
   "source": [
    "g.display()\n"
   ]
  },
  {
   "cell_type": "code",
   "execution_count": 8,
   "id": "8405b444",
   "metadata": {},
   "outputs": [
    {
     "data": {
      "text/html": [
       "<html>\\(\\displaystyle \\left(A\\cap U,(𝛌, l)\\right) \\rightarrow \\left(A\\cap U,(\\theta, \\phi)\\right)\\)</html>"
      ],
      "text/latex": [
       "$\\displaystyle \\left(A\\cap U,(𝛌, l)\\right) \\rightarrow \\left(A\\cap U,(\\theta, \\phi)\\right)$"
      ],
      "text/plain": [
       "Change of coordinates from Chart (A_inter_U, (𝛌, l)) to Chart (A_inter_U, (theta, phi))"
      ]
     },
     "execution_count": 8,
     "metadata": {},
     "output_type": "execute_result"
    }
   ],
   "source": [
    "U2 = S2.open_subset('U')\n",
    "\n",
    "# South Pole, West - Negative Sign \n",
    "# North Pole, East - Positive Sign\n",
    "latlong.<𝛌,l> = U2.chart(r'𝛌:[-180,180] l:[-90,90]')\n",
    "\n",
    "latlong.transition_map(\n",
    "    spherical,\n",
    "    [\n",
    "        (𝛑/2) + ((-𝛑 / 180.) * l),     # latitude to φ\n",
    "        (𝛑 / 180.) * 𝛌,                 # longitude to θ\n",
    "    ]\n",
    ")\n",
    "\n"
   ]
  },
  {
   "cell_type": "markdown",
   "id": "c3645832",
   "metadata": {},
   "source": [
    "# [15]\n",
    "\n",
    "Find EoM for and solve it for Denver to London"
   ]
  },
  {
   "cell_type": "code",
   "execution_count": 9,
   "id": "ed1e78b5",
   "metadata": {},
   "outputs": [
    {
     "name": "stdout",
     "output_type": "stream",
     "text": [
      "Point Denver on the 2-sphere S^2_R of radius R smoothly embedded in the Euclidean space E^3\n",
      "(-104.984700000000, 39.7391500000000)\n"
     ]
    },
    {
     "data": {
      "text/html": [
       "<html>\\(\\displaystyle \\left(0.8772173173509918, -1.832328679218491\\right)\\)</html>"
      ],
      "text/latex": [
       "$\\displaystyle \\left(0.8772173173509918, -1.832328679218491\\right)$"
      ],
      "text/plain": [
       "(0.8772173173509918, -1.832328679218491)"
      ]
     },
     "execution_count": 9,
     "metadata": {},
     "output_type": "execute_result"
    }
   ],
   "source": [
    "denver = S2.point( (-104.9847, 39.73915), chart=latlong, name=\"Denver\")\n",
    "print(denver)\n",
    "print(latlong(denver))\n",
    "spherical(denver)\n"
   ]
  },
  {
   "cell_type": "code",
   "execution_count": 10,
   "id": "847afe6d",
   "metadata": {},
   "outputs": [
    {
     "name": "stdout",
     "output_type": "stream",
     "text": [
      "Point London on the 2-sphere S^2_R of radius R smoothly embedded in the Euclidean space E^3\n",
      "(-0.125740000000000, 51.5085300000000)\n"
     ]
    },
    {
     "data": {
      "text/html": [
       "<html>\\(\\displaystyle \\left(0.6718028854326217, -0.00219457700145767\\right)\\)</html>"
      ],
      "text/latex": [
       "$\\displaystyle \\left(0.6718028854326217, -0.00219457700145767\\right)$"
      ],
      "text/plain": [
       "(0.6718028854326217, -0.00219457700145767)"
      ]
     },
     "execution_count": 10,
     "metadata": {},
     "output_type": "execute_result"
    }
   ],
   "source": [
    "london = S2.point( (-0.12574, 51.50853), chart=latlong, name=\"London\")\n",
    "print(london)\n",
    "print(latlong(london))\n",
    "spherical(london)\n"
   ]
  },
  {
   "cell_type": "markdown",
   "id": "a70f8971",
   "metadata": {},
   "source": [
    "# [16]\n",
    "\n",
    "Calculate the Reimann curvature tensor for a flat space in polar coordinates and on the sphere S2."
   ]
  },
  {
   "cell_type": "markdown",
   "id": "96be5485",
   "metadata": {},
   "source": [
    "# [17]\n",
    "\n",
    "Compute the change in a vector due to transport around close curve in S2"
   ]
  },
  {
   "cell_type": "markdown",
   "id": "ddfafe32",
   "metadata": {},
   "source": [
    "# [19]\n",
    "\n",
    "You watch a muon speed to earth with energy 100 GeV. How long will it take to decay?  To reach the ground from the upper atmosphere?"
   ]
  },
  {
   "cell_type": "markdown",
   "id": "2dfde3d4",
   "metadata": {},
   "source": [
    "# [20]\n",
    "\n",
    "show that the momentum 4-vector has an invariant length of -m^2c^4"
   ]
  },
  {
   "cell_type": "markdown",
   "id": "c25e20ed",
   "metadata": {},
   "source": [
    "# [22]\n",
    "\n",
    "Get the Ricci Tensor/scalar to show the field equation for huv is correct"
   ]
  },
  {
   "cell_type": "markdown",
   "id": "fd00a08c",
   "metadata": {},
   "source": [
    "# [23]\n",
    "\n",
    "Get hmn for sun and show that it satisfies the linearized equation, get geodesic equation for light from hmn"
   ]
  },
  {
   "cell_type": "markdown",
   "id": "956b9f78",
   "metadata": {},
   "source": [
    "# [24] \n",
    "\n",
    "Reproduce figure 4.5 from pg 140 of the text on the deflection of light."
   ]
  },
  {
   "cell_type": "markdown",
   "id": "590b4df3",
   "metadata": {},
   "source": [
    "# [25]\n",
    "\n",
    "verify the solution of the scalar wave equation, the \"plane wave\" solution."
   ]
  },
  {
   "cell_type": "markdown",
   "id": "a9c50d59",
   "metadata": {},
   "source": [
    "# [26]\n",
    "\n",
    "Do Exercises 3, 4, and 5 in Section 3.1 of Ohanian.\n"
   ]
  },
  {
   "cell_type": "markdown",
   "id": "0ac5ba58",
   "metadata": {},
   "source": [
    "## §3.1 ex. 3\n",
    "\n",
    ">   Show that the gauge transformation (3.19) produces no change in $F_{\\mu\\nu}$.\n",
    ">\n",
    ">   $$ A^\\nu \\rightarrow A^\\nu + \\partial^\\nu \\Lambda \\tag{3.19} $$\n",
    ">\n",
    ">   given: \n",
    ">\n",
    ">   *   $$ F^{\\mu\\nu} \\equiv \\partial^\\mu A^\\nu - \\partial^\\nu A^\\mu \\tag{3.15} $$\n",
    ">   *   $\\Lambda$ is any arbitrary scalar function, the _gauge function_.  "
   ]
  },
  {
   "cell_type": "markdown",
   "id": "6b8ca2cf",
   "metadata": {},
   "source": [
    "## §3.1 ex. 4\n",
    "\n",
    ">   Show that for a wave propagating in the $z$-direction, Eqs. (3.24) and (3.20), \n",
    ">   with $j^\\nu = 0$, have the following linearly independent solutions:\n",
    ">\n",
    ">   $$ A^\\nu = \\epsilon_{(n)}^\\nu \\cos\\left(\\omega z - \\omega t\\right) \\tag{3.26}$$\n",
    ">\n",
    ">   where $\\epsilon_{(n)}^{\\nu} : n \\in \\{1, 2, 3\\}$ is one of the following vectors:\n",
    ">\n",
    ">   * $\\epsilon_{(1)}^\\nu = (0, 1, 0, 0)$\n",
    ">   * $\\epsilon_{(2)}^\\nu = (0, 0, 1, 0)$\n",
    ">   * $\\epsilon_{(3)}^\\nu = (1, 0, 0, 1)$\n",
    ">\n",
    ">   (Note :> The subscript $n$ has been enclosed in parentheses to indicate that it is \n",
    ">    not a tensor index; it is only a label that distinguishes between the four&ndash;\n",
    ">    vectors above.)\n",
    ">\n",
    ">   Show that any other solution of the type $\\cos\\left(\\omega z - \\omega t\\right)$\n",
    ">   can be written as a linear combination of the three solutions, with the \n",
    ">   _polarization vectors_ $\\epsilon_{(n)}^\\nu$ listed above. "
   ]
  },
  {
   "cell_type": "markdown",
   "id": "49ed8981",
   "metadata": {},
   "source": [
    "## §3.1 ex. 5\n",
    "\n",
    ">   Find the $\\mathbf{E}$ and $\\mathbf{B}$ fields for each of the solutions \n",
    ">   $\\epsilon_{(n)}^\\nu$, and show that the $\\epsilon_{(3)}^\\nu$ solution \n",
    ">   gives $\\mathbf{E} = \\mathbf{B} = 0$.\n",
    ">\n",
    ">   Hence, only the solutions with the first two polarization vectors $\\epsilon_{(1)}^\\nu$\n",
    ">   and $\\epsilon_{(2)}^\\nu$ have any physical significance. \n",
    ">\n",
    ">   These two polarization vectors correspond to the familiar two independent, \n",
    ">   perpendicular directions of polarization of an electromagnetic wave.  Show that\n",
    ">   the solution with the polarization vector $\\epsilon_{(3)}$\\nu$ can be\n",
    ">   completely eliminated by a gauge transformation, with $\\Lambda = (1/\\omega)\n",
    ">   \\sin\\left(\\omega z - \\omega t\\right)$, which leaves to $\\overline{A}^\\nu = 0$. "
   ]
  },
  {
   "cell_type": "markdown",
   "id": "b9bbd999",
   "metadata": {},
   "source": [
    "# [27]\n",
    "\n",
    "Compute the effect of a grav. wave traveling in the z-dir on a circle of masses arranged in the x-y plane."
   ]
  }
 ],
 "metadata": {
  "kernelspec": {
   "display_name": "SageMath 10.6",
   "language": "sage",
   "name": "SageMath-10.6"
  },
  "language_info": {
   "codemirror_mode": {
    "name": "ipython",
    "version": 3
   },
   "file_extension": ".py",
   "mimetype": "text/x-python",
   "name": "python",
   "nbconvert_exporter": "python",
   "pygments_lexer": "ipython3",
   "version": "3.12.5"
  }
 },
 "nbformat": 4,
 "nbformat_minor": 5
}
