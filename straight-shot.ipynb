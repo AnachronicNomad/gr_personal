{
 "cells": [
  {
   "cell_type": "code",
   "execution_count": 1,
   "id": "875e8fd6",
   "metadata": {
    "vscode": {
     "languageId": "python"
    }
   },
   "outputs": [
    {
     "name": "stdout",
     "output_type": "stream",
     "text": [
      "Python: 3.12.5 (main, Feb 25 2025, 12:37:41) [Clang 16.0.0 (clang-1600.0.26.6)]\n"
     ]
    },
    {
     "data": {
      "text/html": [
       "<html>\\(\\displaystyle \\verb|SageMath|\\verb| |\\verb|version|\\verb| |\\verb|10.6,|\\verb| |\\verb|Release|\\verb| |\\verb|Date:|\\verb| |\\verb|2025-03-31|\\)</html>"
      ],
      "text/latex": [
       "$\\displaystyle \\verb|SageMath|\\verb| |\\verb|version|\\verb| |\\verb|10.6,|\\verb| |\\verb|Release|\\verb| |\\verb|Date:|\\verb| |\\verb|2025-03-31|$"
      ],
      "text/plain": [
       "'SageMath version 10.6, Release Date: 2025-03-31'"
      ]
     },
     "execution_count": 1,
     "metadata": {},
     "output_type": "execute_result"
    }
   ],
   "source": [
    "########\n",
    "## Env Setup / Preamble\n",
    "########\n",
    "%reload_ext autoreload\n",
    "%autoreload complete \n",
    "\n",
    "%reload_ext Cython\n",
    "\n",
    "%display latex\n",
    "\n",
    "################\n",
    "\n",
    "import cython\n",
    "from sage.all import *\n",
    "\n",
    "################\n",
    "\n",
    "import tempfile\n",
    "import mmap\n",
    "from multiprocessing import shared_memory\n",
    "\n",
    "################\n",
    "\n",
    "import numpy as np\n",
    "import scipy.constants\n",
    "\n",
    "np.random.seed( int(scipy.constants.golden_ratio * 1.e6) )\n",
    "\n",
    "from numpy import vectorize\n",
    "from numpy import r_, c_, s_\n",
    "\n",
    "################\n",
    "\n",
    "####    boiler-plate class for named constants\n",
    "from sage.symbolic.constants import Constant\n",
    "class ConstantFromExpression(Constant):\n",
    "    def __init__(self, name, v):\n",
    "        conversions = dict(maxima=repr(maxima.coerce(v)))\n",
    "        Constant.__init__(self, name, conversions=conversions)\n",
    "        self._v = v\n",
    "    def __float__(self): return float(self._v)\n",
    "    def __complex__(self): return complex(self._v)\n",
    "    def _mpfr_(self, R): return R(self._v)\n",
    "    def _real_double_(self, R): return R(self._v)\n",
    "\n",
    "def NamedExpression(name, expr):\n",
    "    return ConstantFromExpression(name,expr).expression()\n",
    "####\n",
    "\n",
    "import sage.symbolic.units as units     # <: TODO\n",
    "\n",
    "𝛑   = NamedExpression('𝛑', scipy.constants.pi)         # pi\n",
    "\n",
    "𝙘 = NamedExpression('𝙘', scipy.constants.speed_of_light)\n",
    "\n",
    "𝛆_0 = NamedExpression('𝛆_0', scipy.constants.epsilon_0) # electric permittivity\n",
    "𝛍_0 = NamedExpression('𝛍_0', scipy.constants.mu_0)     # magnetic permeability of vacuum\n",
    "𝛋 = 1. / (4 * 𝛑 * 𝛆_0)      # Coulomb's constant in [ N·m²/C² ]\n",
    "𝙦_e = NamedExpression('𝙦_e', -scipy.constants.elementary_charge)\n",
    "\n",
    "𝒉_planck = NamedExpression('𝒉', scipy.constants.Planck)\n",
    "ℏ = NamedExpression('ℏ', scipy.constants.hbar)\n",
    "\n",
    "𝛂 = NamedExpression('𝛂', scipy.constants.fine_structure)\n",
    "\n",
    "𝒎_e = NamedExpression('𝒎_e', scipy.constants.electron_mass)\n",
    "𝒎_p = NamedExpression('𝒎_p', scipy.constants.proton_mass)\n",
    "\n",
    "amu = NamedExpression('amu', scipy.constants.atomic_mass)\n",
    "\n",
    "################\n",
    "\n",
    "#Parallelism().set(nproc=8)\n",
    "print(f\"Python: {sys.version}\")\n",
    "version()\n"
   ]
  },
  {
   "cell_type": "markdown",
   "id": "039c6046",
   "metadata": {},
   "source": [
    "## defn.s\n",
    "\n",
    "Minkowski Tensor\n",
    "\n",
    "$$ \n",
    "\\eta_{\\mu\\nu} = \n",
    "\\begin{bmatrix} \n",
    "    -c^2  & 0 & \\cdots & 0 \\\\\n",
    "     0 & 1 & \\ddots & \\vdots \\\\\n",
    "    \\vdots  & \\ddots  & 1 & 0 \\\\\n",
    "       0    & \\cdots   & 0 & 1 \\\\\n",
    "\\end{bmatrix} \n",
    "$$\n",
    "\n",
    "---\n",
    "\n",
    "Christoffel Symbols\n",
    "\n",
    "$$ \n",
    "\\Gamma^{\\alpha}_{\\mu\\nu} = \n",
    "    \\frac{1}{2} g^{\\alpha\\sigma}\n",
    "    \\left(\n",
    "        \\partial_\\nu g_{\\sigma\\mu}\n",
    "        + \\partial_\\mu g_{\\sigma\\nu}\n",
    "        - \\partial_\\sigma g_{\\mu\\nu}\n",
    "    \\right)\n",
    "$$\n",
    "\n",
    "---\n",
    "\n",
    "Geodesic Equation\n",
    "\n",
    "$$\n",
    "    0 = \\frac{\\partial^2}{\\partial\\tau^2} x^\\mu + \\Gamma^\\mu_{\\alpha\\beta}\n",
    "        \\frac{\\partial x^\\alpha}{\\partial \\tau}\n",
    "        \\frac{\\partial x^\\beta}{\\partial \\tau}\n",
    "$$\n",
    "\n",
    "---\n",
    "\n",
    "EHFE + Riemannian Geometry\n",
    "\n",
    "$$ G_{\\mu\\nu} + \\Lambda g_{\\mu\\nu} = \\kappa T_{\\mu\\nu} $$\n",
    "\n",
    "and trace-reversed form \n",
    "\n",
    "$$ R_{\\mu\\nu} - \\Lambda g_{\\mu\\nu} = \\kappa \\left( T_{\\mu\\nu} - \\frac{1}{2} T g_{\\mu\\nu} \\right) $$\n",
    "\n",
    "where\n",
    "\n",
    "$$\\begin{align*}\n",
    "    G_{\\mu\\nu} \n",
    "        &= R_{\\mu\\nu} - \\frac{1}{2}R\\; g_{\\mu\\nu}\n",
    "    \\\\\n",
    "    \\kappa \n",
    "        &= \n",
    "            \\frac{1}{2\\pi} \n",
    "            \\left(\n",
    "                \\frac{4\\pi}{c^2}\n",
    "            \\right)^2\\;\n",
    "            [G]\n",
    "        \\\\\n",
    "        &=  \\frac{8\\pi G}{c^4}\\;\n",
    "\\end{align*}$$\n",
    "\n",
    "given sign convention $[S1, S2, S3] = [+, +, +]$\n",
    "\n",
    "$$\\begin{align*}\n",
    "    g_{\\mu\\nu} \n",
    "        &= [S1] \\times \\text{diag}\\left(-1, +1, +1, +1\\right)\n",
    "        \\tag{The Metric}\n",
    "    \\\\\n",
    "    R^{\\mu}_{\\alpha\\beta\\gamma}\n",
    "        &= [S2] \\times \n",
    "            \\left(\n",
    "                \\partial_\\beta \\Gamma^\\mu_{\\alpha\\gamma}\n",
    "                - \\partial_\\gamma \\Gamma^\\mu_{\\alpha\\beta}\n",
    "                + \\Gamma^\\mu_{\\sigma\\beta} \\Gamma^\\sigma_{\\gamma\\alpha}\n",
    "                - \\Gamma^\\mu_{\\sigma\\gamma} \\Gamma^\\sigma_{\\beta\\alpha}\n",
    "            \\right)\n",
    "        \\tag{Riemann Tensor}\n",
    "    \\\\\n",
    "    R_{\\mu\\nu}\n",
    "        &= [S2] \\times [S3] R^{\\alpha}_{\\mu\\alpha\\nu}\n",
    "        \\tag{Ricci Tensor}\n",
    "    \\\\\n",
    "    R\n",
    "        &= R^\\alpha_\\alpha\n",
    "        \\tag{Ricci Curvature Scalar}\n",
    "    \\\\\n",
    "    G_{\\mu\\nu}\n",
    "        &= [S3] \\times \\kappa T_{\\mu\\nu}\n",
    "        \\tag{Einstein Tensor}\n",
    "\\end{align*}$$\n"
   ]
  },
  {
   "cell_type": "markdown",
   "id": "2378c73c",
   "metadata": {},
   "source": [
    "---"
   ]
  },
  {
   "cell_type": "markdown",
   "id": "880b9288",
   "metadata": {},
   "source": [
    "# [1]"
   ]
  },
  {
   "cell_type": "markdown",
   "id": "0ffc5969",
   "metadata": {},
   "source": [
    "# [2]"
   ]
  },
  {
   "cell_type": "markdown",
   "id": "d1369a57",
   "metadata": {},
   "source": [
    "# [3]"
   ]
  },
  {
   "cell_type": "markdown",
   "id": "6915e35d",
   "metadata": {},
   "source": [
    "# [4]"
   ]
  },
  {
   "cell_type": "markdown",
   "id": "27a7589f",
   "metadata": {},
   "source": [
    "# [5]"
   ]
  },
  {
   "cell_type": "markdown",
   "id": "c3dee2a9",
   "metadata": {},
   "source": [
    "# [6]"
   ]
  },
  {
   "cell_type": "markdown",
   "id": "d61d902c",
   "metadata": {},
   "source": [
    "# [7]\n",
    "\n",
    "do a rotation on a 2D metric (like the circle/polar problem) and show same answer"
   ]
  },
  {
   "cell_type": "markdown",
   "id": "844cded0",
   "metadata": {},
   "source": [
    "$(ds)^2 =  (dr)^2 + R^2 (d \\theta)^2$\n",
    "\n",
    "rotation matrix \n",
    "$$\n",
    "B = \\begin{bmatrix}\n",
    "\\cos(\\theta) & \\sin(\\theta) \\\\\n",
    "-\\sin(\\theta) & \\cos(\\theta)\n",
    "\\end{bmatrix}\n",
    "$$\n",
    "\n",
    "$$\n",
    "A = \\begin{bmatrix}\n",
    "1 & 0 \\\\\n",
    "0 & R^2\n",
    "\\end{bmatrix}\n",
    "$$\n",
    "\n",
    "suppose I have an $A^\\prime = B * A * B^T$, then we seek to show that a scalar $s$ \n",
    "resulting from $s = (c_1\\ c_2) A \\begin{pmatrix} c_1 \\\\ c_2 \\end{pmatrix}$ does not change\n",
    "after the rotation (i.e., the normed length $\\|s\\| = \\|\\|$)\n",
    "\n",
    "So then \n",
    "$$ \n",
    "A^\\prime = \n",
    "\\begin{bmatrix}\n",
    "\\cos(\\theta) & \\sin(\\theta) \\\\\n",
    "-\\sin(\\theta) & \\cos(\\theta)\n",
    "\\end{bmatrix} \n",
    "\\cdot\n",
    "\\begin{bmatrix}\n",
    "1 & 0 \\\\\n",
    "0 & R^2\n",
    "\\end{bmatrix}\n",
    "\\cdot\n",
    "\\begin{bmatrix}\n",
    "\\cos(\\theta) & -\\sin(\\theta) \\\\\n",
    "\\sin(\\theta) & \\cos(\\theta)\n",
    "\\end{bmatrix}\n",
    "$$\n",
    "\n",
    "$$\n",
    "s^\\prime = \n",
    "(c_1\\ c_2)\n",
    "\\begin{bmatrix}\n",
    "\\cos(\\theta) & -\\sin(\\theta) \\\\\n",
    "\\sin(\\theta) & \\cos(\\theta)\n",
    "\\end{bmatrix}\n",
    "\n",
    "A^\\prime \n",
    "\n",
    "\\begin{bmatrix}\n",
    "\\cos(\\theta) & \\sin(\\theta) \\\\\n",
    "-\\sin(\\theta) & \\cos(\\theta)\n",
    "\\end{bmatrix} \n",
    "\\cdot\n",
    "\\begin{pmatrix} c_1 \\\\ c_2 \\end{pmatrix}\n",
    "$$\n",
    "\n",
    "so then; \n",
    "\n",
    "$$\n",
    "s^\\prime = \n",
    "(c_1\\ c_2)\n",
    "\\begin{bmatrix}\n",
    "\\cos(\\theta) & -\\sin(\\theta) \\\\\n",
    "\\sin(\\theta) & \\cos(\\theta)\n",
    "\\end{bmatrix}\n",
    "\n",
    "\\begin{bmatrix}\n",
    "\\cos(\\theta) & \\sin(\\theta) \\\\\n",
    "-\\sin(\\theta) & \\cos(\\theta)\n",
    "\\end{bmatrix} \n",
    "\\cdot\n",
    "\\begin{bmatrix}\n",
    "1 & 0 \\\\\n",
    "0 & R^2\n",
    "\\end{bmatrix}\n",
    "\\cdot\n",
    "\\begin{bmatrix}\n",
    "\\cos(\\theta) & -\\sin(\\theta) \\\\\n",
    "\\sin(\\theta) & \\cos(\\theta)\n",
    "\\end{bmatrix}\n",
    "\n",
    "\\begin{bmatrix}\n",
    "\\cos(\\theta) & \\sin(\\theta) \\\\\n",
    "-\\sin(\\theta) & \\cos(\\theta)\n",
    "\\end{bmatrix} \n",
    "\\cdot\n",
    "\\begin{pmatrix} c_1 \\\\ c_2 \\end{pmatrix}\n",
    "$$\n",
    "\n",
    "then; \n",
    "\n",
    "$$ s^\\prime = \n",
    "(c_1\\ c_2)\n",
    "\n",
    "A\n",
    "\n",
    "\\begin{pmatrix} c_1 \\\\ c_2 \\end{pmatrix}\n",
    "$$\n",
    "\n",
    "or; \n",
    "\n",
    "$$ s^\\prime = s $$"
   ]
  },
  {
   "cell_type": "markdown",
   "id": "7daf73fe",
   "metadata": {},
   "source": [
    "# [8]"
   ]
  },
  {
   "cell_type": "markdown",
   "id": "a70aa084",
   "metadata": {},
   "source": [
    "# [9]"
   ]
  },
  {
   "cell_type": "markdown",
   "id": "f7fd966a",
   "metadata": {},
   "source": [
    "# [10]"
   ]
  },
  {
   "cell_type": "markdown",
   "id": "9d1680aa",
   "metadata": {},
   "source": [
    "# [11]"
   ]
  },
  {
   "cell_type": "markdown",
   "id": "5db1103e",
   "metadata": {},
   "source": [
    "# [12]"
   ]
  },
  {
   "cell_type": "markdown",
   "id": "af55dfc7",
   "metadata": {},
   "source": [
    "# [13]"
   ]
  },
  {
   "cell_type": "markdown",
   "id": "260206a4",
   "metadata": {},
   "source": [
    "# [14]\n",
    "\n",
    "Figure out the metric for a 2D curved earth with longitude/latitude coordinates."
   ]
  },
  {
   "cell_type": "code",
   "execution_count": 2,
   "id": "aae56077",
   "metadata": {
    "vscode": {
     "languageId": "python"
    }
   },
   "outputs": [
    {
     "data": {
      "text/html": [
       "<html>\\(\\displaystyle \\left(A,(\\theta, \\phi)\\right)\\)</html>"
      ],
      "text/latex": [
       "$\\displaystyle \\left(A,(\\theta, \\phi)\\right)$"
      ],
      "text/plain": [
       "Chart (A, (theta, phi))"
      ]
     },
     "execution_count": 2,
     "metadata": {},
     "output_type": "execute_result"
    }
   ],
   "source": [
    "var(\"R\")\n",
    "S2 = manifolds.Sphere(2, radius=R)\n",
    "R3 = S2.ambient()\n",
    "\n",
    "spherical.<𝛉, 𝛗> = S2.spherical_coordinates()\n",
    "spherical\n"
   ]
  },
  {
   "cell_type": "code",
   "execution_count": 3,
   "id": "06548775",
   "metadata": {
    "vscode": {
     "languageId": "python"
    }
   },
   "outputs": [
    {
     "data": {
      "text/html": [
       "<html>\\(\\displaystyle \\theta :\\ \\left( 0 , \\pi \\right) ;\\quad \\phi :\\ \\left[ -\\pi , \\pi \\right] \\text{(periodic)}\\)</html>"
      ],
      "text/latex": [
       "$\\displaystyle \\theta :\\ \\left( 0 , \\pi \\right) ;\\quad \\phi :\\ \\left[ -\\pi , \\pi \\right] \\text{(periodic)}$"
      ],
      "text/plain": [
       "theta: (0, pi); phi: [-pi, pi] (periodic)"
      ]
     },
     "execution_count": 3,
     "metadata": {},
     "output_type": "execute_result"
    }
   ],
   "source": [
    "# South Pole, 𝛉 = 𝛑\n",
    "spherical.coord_range()\n"
   ]
  },
  {
   "cell_type": "code",
   "execution_count": 4,
   "id": "daeb9294",
   "metadata": {
    "vscode": {
     "languageId": "python"
    }
   },
   "outputs": [
    {
     "data": {
      "text/html": [
       "<html>\\(\\displaystyle \\left(\\mathbb{E}^{3},(x, y, z)\\right)\\)</html>"
      ],
      "text/latex": [
       "$\\displaystyle \\left(\\mathbb{E}^{3},(x, y, z)\\right)$"
      ],
      "text/plain": [
       "Chart (E^3, (x, y, z))"
      ]
     },
     "execution_count": 4,
     "metadata": {},
     "output_type": "execute_result"
    }
   ],
   "source": [
    "cartesian.<x,y,z> = R3.chart()\n",
    "\n",
    "cartesian\n"
   ]
  },
  {
   "cell_type": "code",
   "execution_count": 5,
   "id": "5b13c8c8",
   "metadata": {
    "vscode": {
     "languageId": "python"
    }
   },
   "outputs": [
    {
     "data": {
      "text/html": [
       "<html>\\(\\displaystyle \\begin{array}{llcl} \\iota:& \\mathbb{S}^{2}_{R} & \\longrightarrow & \\mathbb{E}^{3} \\\\ \\text{on}\\ A : & \\left(\\theta, \\phi\\right) & \\longmapsto & \\left(x, y, z\\right) = \\left(R \\cos\\left(\\phi\\right) \\sin\\left(\\theta\\right), R \\sin\\left(\\phi\\right) \\sin\\left(\\theta\\right), R \\cos\\left(\\theta\\right)\\right) \\end{array}\\)</html>"
      ],
      "text/latex": [
       "$\\displaystyle \\begin{array}{llcl} \\iota:& \\mathbb{S}^{2}_{R} & \\longrightarrow & \\mathbb{E}^{3} \\\\ \\text{on}\\ A : & \\left(\\theta, \\phi\\right) & \\longmapsto & \\left(x, y, z\\right) = \\left(R \\cos\\left(\\phi\\right) \\sin\\left(\\theta\\right), R \\sin\\left(\\phi\\right) \\sin\\left(\\theta\\right), R \\cos\\left(\\theta\\right)\\right) \\end{array}$"
      ],
      "text/plain": [
       "iota: S^2_R → E^3\n",
       "on A: (theta, phi) ↦ (x, y, z) = (R*cos(phi)*sin(theta), R*sin(phi)*sin(theta), R*cos(theta))"
      ]
     },
     "execution_count": 5,
     "metadata": {},
     "output_type": "execute_result"
    }
   ],
   "source": [
    "𝚽 = S2.embedding()\n",
    "𝚽.display()\n"
   ]
  },
  {
   "cell_type": "code",
   "execution_count": 6,
   "id": "a73293b1",
   "metadata": {
    "vscode": {
     "languageId": "python"
    }
   },
   "outputs": [
    {
     "data": {
      "text/html": [
       "<html>\\(\\displaystyle \\left(\\begin{array}{rr}\n",
       "R^{2} & 0 \\\\\n",
       "0 & R^{2} \\sin\\left(\\theta\\right)^{2}\n",
       "\\end{array}\\right)\\)</html>"
      ],
      "text/latex": [
       "$\\displaystyle \\left(\\begin{array}{rr}\n",
       "R^{2} & 0 \\\\\n",
       "0 & R^{2} \\sin\\left(\\theta\\right)^{2}\n",
       "\\end{array}\\right)$"
      ],
      "text/plain": [
       "[             R^2                0]\n",
       "[               0 R^2*sin(theta)^2]"
      ]
     },
     "execution_count": 6,
     "metadata": {},
     "output_type": "execute_result"
    }
   ],
   "source": [
    "g = S2.induced_metric()\n",
    "g[:]\n"
   ]
  },
  {
   "cell_type": "code",
   "execution_count": 7,
   "id": "aa9a83d6",
   "metadata": {
    "vscode": {
     "languageId": "python"
    }
   },
   "outputs": [
    {
     "data": {
      "text/html": [
       "<html>\\(\\displaystyle g = R^{2} \\mathrm{d} \\theta\\otimes \\mathrm{d} \\theta + R^{2} \\sin\\left(\\theta\\right)^{2} \\mathrm{d} \\phi\\otimes \\mathrm{d} \\phi\\)</html>"
      ],
      "text/latex": [
       "$\\displaystyle g = R^{2} \\mathrm{d} \\theta\\otimes \\mathrm{d} \\theta + R^{2} \\sin\\left(\\theta\\right)^{2} \\mathrm{d} \\phi\\otimes \\mathrm{d} \\phi$"
      ],
      "text/plain": [
       "g = R^2 dtheta⊗dtheta + R^2*sin(theta)^2 dphi⊗dphi"
      ]
     },
     "execution_count": 7,
     "metadata": {},
     "output_type": "execute_result"
    }
   ],
   "source": [
    "g.display()\n"
   ]
  },
  {
   "cell_type": "code",
   "execution_count": 8,
   "id": "12b1f602",
   "metadata": {
    "vscode": {
     "languageId": "python"
    }
   },
   "outputs": [],
   "source": [
    "# TODO :> need to show metric `g` in terms of <𝛌,l>\n"
   ]
  },
  {
   "cell_type": "markdown",
   "id": "c3645832",
   "metadata": {},
   "source": [
    "# [15]\n",
    "\n",
    "Find EoM for and solve it for Denver to London"
   ]
  },
  {
   "cell_type": "markdown",
   "id": "301e7633",
   "metadata": {},
   "source": [
    "---"
   ]
  },
  {
   "cell_type": "markdown",
   "id": "474dab10",
   "metadata": {},
   "source": [
    "Recall that the interval path length and metric tensor relation is given by:\n",
    "\n",
    "$$ ds^2 = g_{\\mu\\nu}\\ dx^\\mu dx^\\nu $$\n",
    "\n",
    "which for our purposes in this problem, we will phrase as:\n",
    "\n",
    "$$ ds^2 = R^2\\ d\\theta^2 + R^2\\ \\sin^2\\theta\\ d\\phi^2 $$\n",
    "\n",
    "For now, we can assume $R = 1$, which simplifies to \n",
    "\n",
    "$$ ds^2 = (1)\\ d\\theta^2 + (\\sin^2\\theta)\\ d\\phi^2 $$\n"
   ]
  },
  {
   "cell_type": "markdown",
   "id": "9dcf6032",
   "metadata": {},
   "source": [
    "Now recall that the Geodesic Equation is given by \n",
    "\n",
    "$$ \n",
    "    \\frac{\\partial^2}{\\partial \\tau^2} x^\\mu +  \n",
    "        \\Gamma^{\\mu}_{\\alpha \\beta} \n",
    "        \\frac{\\partial x^\\alpha}{\\partial \\tau}\n",
    "        \\frac{\\partial x^\\beta}{\\partial \\tau}\n",
    "        = 0\n",
    "    \\\\ \\Leftrightarrow \\\\\n",
    "    \\ddot{\\gamma}^\\mu + \\Gamma^{\\mu}_{\\alpha \\beta}\n",
    "    \\dot{\\gamma}^\\alpha \\dot{\\gamma}^\\beta\n",
    "    = 0 \n",
    "$$\n",
    "\n",
    "where the \"proper-time\" $\\tau = s$, our implicit path interval for the given metric. "
   ]
  },
  {
   "cell_type": "markdown",
   "id": "0c1ccaa1",
   "metadata": {},
   "source": [
    "Recall the definition of the Christoffel symbols of the second kind (the affine connection coefficients), \n",
    "\n",
    "$$ \\Gamma^\\alpha_{\\mu\\nu} = \\frac{1}{2} g^{\\alpha \\beta} \\left( g_{\\beta\\mu,\\nu} + g_{\\nu\\beta,\\mu} - g_{\\mu\\nu,\\beta} \\right) $$\n",
    "\n",
    "For our given system, the Christoffel symbols $\\Gamma^\\mu_{\\alpha\\beta}$ are:"
   ]
  },
  {
   "cell_type": "code",
   "execution_count": 9,
   "id": "36a22670",
   "metadata": {
    "vscode": {
     "languageId": "python"
    }
   },
   "outputs": [
    {
     "data": {
      "text/html": [
       "<html>\\(\\displaystyle \\begin{array}{lcl} \\Gamma_{\\phantom{\\, 1}\\,2\\,2}^{\\,1\\phantom{\\, 2}\\phantom{\\, 2}} & = & -\\cos\\left(\\theta\\right) \\sin\\left(\\theta\\right) \\\\ \\Gamma_{\\phantom{\\, 2}\\,1\\,2}^{\\,2\\phantom{\\, 1}\\phantom{\\, 2}} & = & \\frac{\\cos\\left(\\theta\\right)}{\\sin\\left(\\theta\\right)} \\\\ \\Gamma_{\\phantom{\\, 2}\\,2\\,1}^{\\,2\\phantom{\\, 2}\\phantom{\\, 1}} & = & \\frac{\\cos\\left(\\theta\\right)}{\\sin\\left(\\theta\\right)} \\end{array}\\)</html>"
      ],
      "text/latex": [
       "$\\displaystyle \\begin{array}{lcl} \\Gamma_{\\phantom{\\, 1}\\,2\\,2}^{\\,1\\phantom{\\, 2}\\phantom{\\, 2}} & = & -\\cos\\left(\\theta\\right) \\sin\\left(\\theta\\right) \\\\ \\Gamma_{\\phantom{\\, 2}\\,1\\,2}^{\\,2\\phantom{\\, 1}\\phantom{\\, 2}} & = & \\frac{\\cos\\left(\\theta\\right)}{\\sin\\left(\\theta\\right)} \\\\ \\Gamma_{\\phantom{\\, 2}\\,2\\,1}^{\\,2\\phantom{\\, 2}\\phantom{\\, 1}} & = & \\frac{\\cos\\left(\\theta\\right)}{\\sin\\left(\\theta\\right)} \\end{array}$"
      ],
      "text/plain": [
       "Gam^1_22 = -cos(theta)*sin(theta) \n",
       "Gam^2_12 = cos(theta)/sin(theta) \n",
       "Gam^2_21 = cos(theta)/sin(theta) "
      ]
     },
     "execution_count": 9,
     "metadata": {},
     "output_type": "execute_result"
    }
   ],
   "source": [
    "g.christoffel_symbols_display(\n",
    "    coordinate_labels=False,\n",
    "    only_nonredundant=False\n",
    ")\n"
   ]
  },
  {
   "cell_type": "markdown",
   "id": "c3b26e80",
   "metadata": {},
   "source": [
    "Or equivalently, \n",
    "\n",
    "$$\\begin{aligned} \n",
    "\\Gamma^\\theta_{\\phi\\phi} &= -\\sin\\left(\\theta\\right)\\cos\\left(\\theta\\right) \\\\\n",
    "\\Gamma^\\phi_{\\theta\\phi} = \\Gamma^\\phi_{\\phi\\theta} = \\cot\\left(\\theta\\right)\n",
    "    &\\quad \\Leftrightarrow \\quad\n",
    "\\Gamma^\\phi_{\\alpha\\beta} = 2 \\cot\\theta\n",
    "\\end{aligned}$$"
   ]
  },
  {
   "cell_type": "markdown",
   "id": "860ec412",
   "metadata": {},
   "source": [
    "We may now simplify the geodesic equation, indexed by $\\mu \\in \\{\\theta, \\phi\\}$, to receive the \n",
    "equations of motion in the coordinate system: \n",
    "\n",
    "$$\n",
    "\\begin{array}{rlcc}\n",
    "    \\ddot{\\theta}\\ &-\\ \\sin\\left(\\theta\\right)\\cos\\left(\\theta\\right) &\\left(\\dot\\phi\\right)^2 &= 0 \\\\\n",
    "    \\ddot{\\phi}\\ &+\\ 2 \\cot\\left(\\theta\\right) &\\dot\\theta\\dot\\phi &= 0\n",
    "\\end{array} \n",
    "$$"
   ]
  },
  {
   "cell_type": "markdown",
   "id": "bf950c43",
   "metadata": {},
   "source": [
    "It will now be useful to us to specify the transformed coordinates for both cities,\n",
    "on the 2-Sphere: "
   ]
  },
  {
   "cell_type": "code",
   "execution_count": 10,
   "id": "07c8f15a",
   "metadata": {
    "vscode": {
     "languageId": "python"
    }
   },
   "outputs": [],
   "source": [
    "# South Pole, West - Negative Sign \n",
    "# North Pole, East - Positive Sign\n",
    "l_𝛉 = lambda l: (𝛑/2) - ((𝛑 / 180.) * l)    # latitude `l` to 𝛉\n",
    "𝛌_𝛗 = lambda 𝛌: ((𝛑 / 180.) * 𝛌)            # longitude `𝛌` to 𝛗\n"
   ]
  },
  {
   "cell_type": "code",
   "execution_count": 11,
   "id": "d1589180",
   "metadata": {
    "vscode": {
     "languageId": "python"
    }
   },
   "outputs": [
    {
     "name": "stdout",
     "output_type": "stream",
     "text": [
      "Point Denver on the 2-sphere S^2_R of radius R smoothly embedded in the Euclidean space E^3\n",
      "𝛉: 0.87722\t 𝛗: -1.8323\n"
     ]
    },
    {
     "data": {
      "text/html": [
       "<html>\\(\\displaystyle \\left(0.279226944444444 \\, 𝛑, -0.583248333333333 \\, 𝛑\\right)\\)</html>"
      ],
      "text/latex": [
       "$\\displaystyle \\left(0.279226944444444 \\, 𝛑, -0.583248333333333 \\, 𝛑\\right)$"
      ],
      "text/plain": [
       "(0.279226944444444*𝛑, -0.583248333333333*𝛑)"
      ]
     },
     "execution_count": 11,
     "metadata": {},
     "output_type": "execute_result"
    }
   ],
   "source": [
    "denver = S2.point( \n",
    "    (\n",
    "        l_𝛉(39.73915),  # 39.73915°N\n",
    "        𝛌_𝛗(-104.9847), # 104.9847°W\n",
    "    ), \n",
    "    name=\"Denver\"\n",
    ")\n",
    "\n",
    "print(denver)\n",
    "print(f\"𝛉: {n(spherical(denver)[0], digits=5)}\\t 𝛗: {n(spherical(denver)[1], digits=5)}\")\n",
    "spherical(denver)\n"
   ]
  },
  {
   "cell_type": "code",
   "execution_count": 12,
   "id": "45a1b0ab",
   "metadata": {
    "vscode": {
     "languageId": "python"
    }
   },
   "outputs": [
    {
     "name": "stdout",
     "output_type": "stream",
     "text": [
      "Point London on the 2-sphere S^2_R of radius R smoothly embedded in the Euclidean space E^3\n",
      "𝛉: 0.67180\t 𝛗: -0.0021946\n"
     ]
    },
    {
     "data": {
      "text/html": [
       "<html>\\(\\displaystyle \\left(0.213841500000000 \\, 𝛑, -0.000698555555555556 \\, 𝛑\\right)\\)</html>"
      ],
      "text/latex": [
       "$\\displaystyle \\left(0.213841500000000 \\, 𝛑, -0.000698555555555556 \\, 𝛑\\right)$"
      ],
      "text/plain": [
       "(0.213841500000000*𝛑, -0.000698555555555556*𝛑)"
      ]
     },
     "execution_count": 12,
     "metadata": {},
     "output_type": "execute_result"
    }
   ],
   "source": [
    "london = S2.point( \n",
    "    (\n",
    "        l_𝛉(51.50853), # 39.73915°N\n",
    "        𝛌_𝛗(-0.12574)  # 104.9847°W \n",
    "    ), \n",
    "    name=\"London\"\n",
    ")\n",
    "\n",
    "print(london)\n",
    "print(f\"𝛉: {n(spherical(london)[0], digits=5)}\\t 𝛗: {n(spherical(london)[1], digits=5)}\")\n",
    "spherical(london)\n"
   ]
  },
  {
   "cell_type": "markdown",
   "id": "d1560f1d",
   "metadata": {},
   "source": [
    "---"
   ]
  },
  {
   "cell_type": "markdown",
   "id": "b4ed1501",
   "metadata": {},
   "source": [
    "Let's stop and take a second to make sure that we understand the problem we trying to solve.\n",
    "The differential system is of order-2, nonlinear, coupled, homogeneous, ordinary differential \n",
    "equations.  \n",
    "\n",
    "We will introduce an additional function $L(s) = s$ to additionally solve for \n",
    "the path-length interval, with $L(s=L_0) = L_0$ for constant $L_0$. \n",
    "\n",
    "The problem presented is a Two-Point Boundary Value Problem, which we will solve \n",
    "with the \"Shooting Method\", numerically, the technique common in Partial \n",
    "Differential Equations. \n",
    "\n",
    "$$\n",
    "\\left[\n",
    "    \\begin{array}{rcl}\n",
    "        \\ddot{\\theta}\\ &-\\ \\sin\\left(\\theta\\right)\\cos\\left(\\theta\\right) &\\left(\\dot\\phi\\right)^2 \\\\\n",
    "        \\ddot{\\phi}\\ &+\\ 2 \\cot\\left(\\theta\\right) &\\dot\\theta\\dot\\phi\n",
    "    \\end{array}\n",
    "\\right] = \\begin{pmatrix} 0 \\\\ 0 \\end{pmatrix}\n",
    "$$\n",
    "\n",
    "subject to boundary conditions\n",
    "\n",
    "$$\n",
    "\\left\\{\n",
    "\\begin{array}{rcrcrcr}\n",
    "    \\theta(s=0) &\\approx&   0.87722 & & \\theta(s=L_0)   &\\approx&   0.67180 \n",
    "    \\\\\n",
    "    \\phi(s=0)   &\\approx&   -1.8323 & & \\phi(s=L_0)     &\\approx&   0.0021946\n",
    "    \\\\\n",
    "\\end{array}\n",
    "\\right\\}\n",
    "$$"
   ]
  },
  {
   "cell_type": "code",
   "execution_count": 13,
   "id": "09b3334f",
   "metadata": {
    "vscode": {
     "languageId": "python"
    }
   },
   "outputs": [],
   "source": [
    "var('s')\n",
    "\n",
    "_𝛉 = function('𝛉')(s)\n",
    "_𝛗 = function('𝛗')(s)\n"
   ]
  },
  {
   "cell_type": "code",
   "execution_count": 14,
   "id": "df4820ce",
   "metadata": {
    "vscode": {
     "languageId": "python"
    }
   },
   "outputs": [
    {
     "data": {
      "text/html": [
       "<html>\\(\\displaystyle -\\cos\\left(𝛉\\left(s\\right)\\right) \\sin\\left(𝛉\\left(s\\right)\\right) + \\frac{\\partial^{2}}{(\\partial s)^{2}}𝛉\\left(s\\right) = 0\\)</html>"
      ],
      "text/latex": [
       "$\\displaystyle -\\cos\\left(𝛉\\left(s\\right)\\right) \\sin\\left(𝛉\\left(s\\right)\\right) + \\frac{\\partial^{2}}{(\\partial s)^{2}}𝛉\\left(s\\right) = 0$"
      ],
      "text/plain": [
       "-cos(𝛉(s))*sin(𝛉(s)) + diff(𝛉(s), s, s) == 0"
      ]
     },
     "execution_count": 14,
     "metadata": {},
     "output_type": "execute_result"
    }
   ],
   "source": [
    "_𝛉ʺ = diff(_𝛉, s, 2) - (sin(_𝛉)*cos(_𝛉)) == 0\n",
    "_𝛉ʺ\n"
   ]
  },
  {
   "cell_type": "code",
   "execution_count": 29,
   "id": "c60e7af0",
   "metadata": {
    "vscode": {
     "languageId": "python"
    }
   },
   "outputs": [
    {
     "data": {
      "text/html": [
       "<html>\\(\\displaystyle 2 \\, \\cot\\left(𝛉\\left(s\\right)\\right) + \\frac{\\partial^{2}}{(\\partial s)^{2}}𝛗\\left(s\\right) = 0\\)</html>"
      ],
      "text/latex": [
       "$\\displaystyle 2 \\, \\cot\\left(𝛉\\left(s\\right)\\right) + \\frac{\\partial^{2}}{(\\partial s)^{2}}𝛗\\left(s\\right) = 0$"
      ],
      "text/plain": [
       "2*cot(𝛉(s)) + diff(𝛗(s), s, s) == 0"
      ]
     },
     "execution_count": 29,
     "metadata": {},
     "output_type": "execute_result"
    }
   ],
   "source": [
    "_𝛗ʺ = diff(_𝛗, s, 2) + (2 * cot(_𝛉)) == 0\n",
    "_𝛗ʺ\n"
   ]
  },
  {
   "cell_type": "markdown",
   "id": "21208ee0",
   "metadata": {},
   "source": [
    "---"
   ]
  },
  {
   "cell_type": "markdown",
   "id": "ad99aa6f",
   "metadata": {},
   "source": [
    "We need to rewrite this equation in matrix form.  First let's get rid of the \n",
    "sinusoids with some variable substitution. \n",
    "\n",
    "First, let $y = \\dot{\\phi}, \\dot{y} = \\ddot{\\phi}$:\n",
    "\n",
    "$$\n",
    "\\left[\n",
    "    \\begin{array}{rcl}\n",
    "        \\ddot{\\theta}\\ &-\\ \\sin\\left(\\theta\\right)\\cos\\left(\\theta\\right) &y^2 \\\\\n",
    "        \\dot{y}\\ &+\\ 2 \\frac{\\cos(\\theta)}{\\sin(\\theta)} \\dot\\theta & y \n",
    "    \\end{array}\n",
    "\\right] = \\begin{pmatrix} 0 \\\\ 0 \\end{pmatrix}\n",
    "$$"
   ]
  },
  {
   "cell_type": "markdown",
   "id": "6bda8a12",
   "metadata": {},
   "source": [
    "Then, let $u = \\sin(\\theta), \\dot{u} = \\cos(\\theta)\\ \\dot{\\theta}$\n",
    "\n",
    "$$\n",
    "\\left[\n",
    "    \\begin{array}{rcl}\n",
    "        \\ddot{\\theta}\\ &-\\ \\frac{u \\dot{u}}{\\dot{\\theta}} & y^2 \\\\\n",
    "        \\dot{y}\\ &+\\ 2 \\frac{\\dot{u}}{u}  & y \n",
    "    \\end{array}\n",
    "\\right] = \\begin{pmatrix} 0 \\\\ 0 \\end{pmatrix}\n",
    "$$"
   ]
  },
  {
   "cell_type": "code",
   "execution_count": null,
   "id": "079cb2ff",
   "metadata": {
    "vscode": {
     "languageId": "python"
    }
   },
   "outputs": [
    {
     "name": "stdout",
     "output_type": "stream",
     "text": [
      "<class 'numpy.ndarray'>\n"
     ]
    }
   ],
   "source": [
    "from scipy.integrate import solve_ivp\n",
    "from scipy.optimize import minimize_scalar\n",
    "\n",
    "# Boundary Conds.\n",
    "s_0 = np.array([\n",
    "    n(spherical(denver)[0], digits=5),\n",
    "    n(spherical(denver)[1], digits=5),\n",
    "])\n",
    "\n",
    "s_1 = np.array([\n",
    "    n(spherical(london)[0], digits=5),\n",
    "    n(spherical(london)[1], digits=5),\n",
    "])\n",
    "\n",
    "s_i = 0.    # < Our initial guess for the value of distance s will be the naive\n",
    "            #   case where there is Minkownski space, i.e., the Euclidean-norm \n",
    "            #   is the distance. \n",
    "\n"
   ]
  },
  {
   "cell_type": "markdown",
   "id": "17b5a17c",
   "metadata": {},
   "source": [
    "---"
   ]
  },
  {
   "cell_type": "markdown",
   "id": "692541fa",
   "metadata": {},
   "source": [
    ">   # TODO :> the following is not a complete Reduction of Order approach. "
   ]
  },
  {
   "cell_type": "markdown",
   "id": "7d1bff0d",
   "metadata": {},
   "source": [
    "However, there are some additional stipulations and mathematical analysis that \n",
    "we need to make, to render this equation into something more workable. \n",
    "\n",
    "Let $\\left\\{ u = \\dot{\\theta},\\ v = \\dot{\\phi} \\right\\}$, and \n",
    "$\\left\\{ w = \\sin{\\theta}, \\dot{w} = \\cos{\\theta} \\right\\}$, then:\n",
    "\n",
    "$$\n",
    "\\left[\n",
    "    \\begin{array}{rcl}\n",
    "        \\dot{u}\\ &-\\ v^2 w &\\dot{w} \\\\\n",
    "        \\dot{v}\\ &+\\ 2 u v \\frac{1}{w} &\\dot{w}  \n",
    "    \\end{array}\n",
    "\\right] = \\begin{pmatrix} 0 \\\\ 0 \\end{pmatrix}\n",
    "$$\n"
   ]
  },
  {
   "cell_type": "markdown",
   "id": "4f8e92a3",
   "metadata": {},
   "source": [
    "Now, let's include the earlier expression for the metric, $(\\Delta s)^2 = (\\Delta \\theta)^2 + (\\Delta \\phi)^2 \\sin^2 \\theta$\n",
    " as an additional equation in the system to solve.  \n",
    "\n",
    "We know that the Geodesic Equation uniquely solves the minimum-path interval $s$,\n",
    "for the Parallel Transport problem, and this situation applies in this case (since \n",
    "we are necessarily traveling along a geodesic, the above system _is equivalent_ \n",
    "to the geodesic system that we wish to solve). \n",
    "\n",
    "Then, \n",
    "\n",
    "$$\n",
    "\\left[\n",
    "    \\begin{array}{rcr}\n",
    "        \\ddot{\\theta}\\ &-&\\ u\\ \\dot{u}\\ (v^2)   \\\\\n",
    "        \\dot{v}\\ &+&\\ 2\\ (1/u)\\ v \\dot\\theta    \\\\\n",
    "        \n",
    "    \\end{array}\n",
    "\\right] = \\begin{pmatrix} 0 \\\\ 0 \\end{pmatrix}\n",
    "$$"
   ]
  },
  {
   "cell_type": "markdown",
   "id": "ebc2d06b",
   "metadata": {},
   "source": [
    "---"
   ]
  },
  {
   "cell_type": "markdown",
   "id": "bf7d9389",
   "metadata": {},
   "source": [
    "Equivalently, we may engage the computer algebra system using the Manifolds \n",
    "construction as follows:"
   ]
  },
  {
   "cell_type": "code",
   "execution_count": 16,
   "id": "0357df74",
   "metadata": {
    "vscode": {
     "languageId": "python"
    }
   },
   "outputs": [
    {
     "name": "stdout",
     "output_type": "stream",
     "text": [
      "Geodesic geodesic in the 2-sphere S^2_R of radius R smoothly embedded in the Euclidean space E^3 equipped with Riemannian metric g on the 2-sphere S^2_R of radius R smoothly embedded in the Euclidean space E^3, and integrated over the Real interval (smin, smax) as a solution to the following geodesic equations, written with respect to Chart (A, (theta, phi)):\n",
      "\n",
      "Initial point: Point Denver on the 2-sphere S^2_R of radius R smoothly embedded in the Euclidean space E^3 with coordinates [0.279226944444444*𝛑, -0.583248333333333*𝛑] with respect to Chart (A, (theta, phi))\n",
      "Initial tangent vector: Tangent vector at Point Denver on the 2-sphere S^2_R of radius R smoothly embedded in the Euclidean space E^3 with components [0.213841500000000*𝛑, -0.000698555555555556*𝛑] with respect to Chart (A, (theta, phi))\n",
      "\n",
      "d(theta)/ds = Dtheta\n",
      "d(phi)/ds = Dphi\n",
      "d(Dtheta)/ds = Dphi^2*cos(theta)*sin(theta)\n",
      "d(Dphi)/ds = -2*Dphi*Dtheta*cos(theta)/sin(theta)\n",
      "\n"
     ]
    },
    {
     "data": {
      "text/html": [
       "<html>\\(\\displaystyle \\left[\\left[\\mathit{Dphi}^{2} \\cos\\left(\\theta\\right) \\sin\\left(\\theta\\right), -\\frac{2 \\, \\mathit{Dphi} \\mathit{Dtheta} \\cos\\left(\\theta\\right)}{\\sin\\left(\\theta\\right)}\\right], \\mbox{Tangent vector at Point Denver on the 2-sphere S^2_R of radius R smoothly embedded in the Euclidean space E^3}, \\left(A,(\\theta, \\phi)\\right)\\right]\\)</html>"
      ],
      "text/latex": [
       "$\\displaystyle \\left[\\left[\\mathit{Dphi}^{2} \\cos\\left(\\theta\\right) \\sin\\left(\\theta\\right), -\\frac{2 \\, \\mathit{Dphi} \\mathit{Dtheta} \\cos\\left(\\theta\\right)}{\\sin\\left(\\theta\\right)}\\right], \\mbox{Tangent vector at Point Denver on the 2-sphere S^2_R of radius R smoothly embedded in the Euclidean space E^3}, \\left(A,(\\theta, \\phi)\\right)\\right]$"
      ],
      "text/plain": [
       "[[Dphi^2*cos(theta)*sin(theta), -2*Dphi*Dtheta*cos(theta)/sin(theta)],\n",
       " Tangent vector at Point Denver on the 2-sphere S^2_R of radius R smoothly embedded in the Euclidean space E^3,\n",
       " Chart (A, (theta, phi))]"
      ]
     },
     "execution_count": 16,
     "metadata": {},
     "output_type": "execute_result"
    }
   ],
   "source": [
    "var('s')\n",
    "\n",
    "v = S2.tangent_vector(denver,   # point\n",
    "                      (         # direction, ```London - Denver```\n",
    "                          spherical(london) + \n",
    "                          (-1 * spherical(denver))\n",
    "                      ), \n",
    ")\n",
    "\n",
    "[s, s_min, s_max] = var('s smin smax')\n",
    "\n",
    "geodesic = S2.integrated_geodesic(\n",
    "    g,\n",
    "    (s, s_min, s_max),\n",
    "    v,\n",
    "    chart=spherical,\n",
    "    name=\"geodesic\"\n",
    ")\n",
    "\n",
    "geo = geodesic.system(verbose=True)\n",
    "geo\n"
   ]
  },
  {
   "cell_type": "markdown",
   "id": "c13f8d98",
   "metadata": {},
   "source": [
    "---\n",
    "\n",
    "For funsies, we can also analytically solve the computer algebra form of the geodesic system of equations of motion, and express them as the Lagrangian of an Initial Value Problem in the coordinate system: "
   ]
  },
  {
   "cell_type": "code",
   "execution_count": 17,
   "id": "72ef61f7",
   "metadata": {
    "vscode": {
     "languageId": "python"
    }
   },
   "outputs": [
    {
     "data": {
      "text/html": [
       "<html>\\(\\displaystyle \\left(\\mathcal{L}^{-1}\\left(\\frac{g_{4545} \\theta_{0} + \\mathit{Dtheta}_{0} + \\mathcal{L}\\left(\\cos\\left(y_{1}\\left(s\\right)\\right) \\sin\\left(y_{1}\\left(s\\right)\\right) y_{4}\\left(s\\right)^{2}, s, g_{4545}\\right)}{g_{4545}^{2}}, g_{4545}, s\\right), \\mathcal{L}^{-1}\\left(\\frac{g_{4545} \\phi_{0} + \\mathit{Dphi}_{0} - 2 \\, \\mathcal{L}\\left(\\frac{\\cos\\left(y_{1}\\left(s\\right)\\right) y_{3}\\left(s\\right) y_{4}\\left(s\\right)}{\\sin\\left(y_{1}\\left(s\\right)\\right)}, s, g_{4545}\\right)}{g_{4545}^{2}}, g_{4545}, s\\right)\\right)\\)</html>"
      ],
      "text/latex": [
       "$\\displaystyle \\left(\\mathcal{L}^{-1}\\left(\\frac{g_{4545} \\theta_{0} + \\mathit{Dtheta}_{0} + \\mathcal{L}\\left(\\cos\\left(y_{1}\\left(s\\right)\\right) \\sin\\left(y_{1}\\left(s\\right)\\right) y_{4}\\left(s\\right)^{2}, s, g_{4545}\\right)}{g_{4545}^{2}}, g_{4545}, s\\right), \\mathcal{L}^{-1}\\left(\\frac{g_{4545} \\phi_{0} + \\mathit{Dphi}_{0} - 2 \\, \\mathcal{L}\\left(\\frac{\\cos\\left(y_{1}\\left(s\\right)\\right) y_{3}\\left(s\\right) y_{4}\\left(s\\right)}{\\sin\\left(y_{1}\\left(s\\right)\\right)}, s, g_{4545}\\right)}{g_{4545}^{2}}, g_{4545}, s\\right)\\right)$"
      ],
      "text/plain": [
       "(ilt((g4545*theta_0 + Dtheta_0 + laplace(cos(y1(s))*sin(y1(s))*y4(s)^2, s, g4545))/g4545^2, g4545, s),\n",
       " ilt((g4545*phi_0 + Dphi_0 - 2*laplace(cos(y1(s))*y3(s)*y4(s)/sin(y1(s)), s, g4545))/g4545^2, g4545, s))"
      ]
     },
     "execution_count": 17,
     "metadata": {},
     "output_type": "execute_result"
    }
   ],
   "source": [
    "sol = geodesic.solve_analytical()\n",
    "expand(simplify(sol))\n"
   ]
  },
  {
   "cell_type": "markdown",
   "id": "a70f8971",
   "metadata": {},
   "source": [
    "# [16]\n",
    "\n",
    "Calculate the Reimann curvature tensor for a flat space in polar coordinates and on the sphere S2."
   ]
  },
  {
   "cell_type": "code",
   "execution_count": 18,
   "id": "f633d527",
   "metadata": {
    "vscode": {
     "languageId": "python"
    }
   },
   "outputs": [
    {
     "data": {
      "text/html": [
       "<html>\\(\\displaystyle \\begin{array}{lcl} {\\mathrm{Riem}\\left(g\\right)}_{ \\phantom{\\, \\theta} \\, \\phi \\, \\theta \\, \\phi }^{ \\, \\theta \\phantom{\\, \\phi} \\phantom{\\, \\theta} \\phantom{\\, \\phi} } & = & \\sin\\left(\\theta\\right)^{2} \\\\ {\\mathrm{Riem}\\left(g\\right)}_{ \\phantom{\\, \\theta} \\, \\phi \\, \\phi \\, \\theta }^{ \\, \\theta \\phantom{\\, \\phi} \\phantom{\\, \\phi} \\phantom{\\, \\theta} } & = & -\\sin\\left(\\theta\\right)^{2} \\\\ {\\mathrm{Riem}\\left(g\\right)}_{ \\phantom{\\, \\phi} \\, \\theta \\, \\theta \\, \\phi }^{ \\, \\phi \\phantom{\\, \\theta} \\phantom{\\, \\theta} \\phantom{\\, \\phi} } & = & -1 \\\\ {\\mathrm{Riem}\\left(g\\right)}_{ \\phantom{\\, \\phi} \\, \\theta \\, \\phi \\, \\theta }^{ \\, \\phi \\phantom{\\, \\theta} \\phantom{\\, \\phi} \\phantom{\\, \\theta} } & = & 1 \\end{array}\\)</html>"
      ],
      "text/latex": [
       "$\\displaystyle \\begin{array}{lcl} {\\mathrm{Riem}\\left(g\\right)}_{ \\phantom{\\, \\theta} \\, \\phi \\, \\theta \\, \\phi }^{ \\, \\theta \\phantom{\\, \\phi} \\phantom{\\, \\theta} \\phantom{\\, \\phi} } & = & \\sin\\left(\\theta\\right)^{2} \\\\ {\\mathrm{Riem}\\left(g\\right)}_{ \\phantom{\\, \\theta} \\, \\phi \\, \\phi \\, \\theta }^{ \\, \\theta \\phantom{\\, \\phi} \\phantom{\\, \\phi} \\phantom{\\, \\theta} } & = & -\\sin\\left(\\theta\\right)^{2} \\\\ {\\mathrm{Riem}\\left(g\\right)}_{ \\phantom{\\, \\phi} \\, \\theta \\, \\theta \\, \\phi }^{ \\, \\phi \\phantom{\\, \\theta} \\phantom{\\, \\theta} \\phantom{\\, \\phi} } & = & -1 \\\\ {\\mathrm{Riem}\\left(g\\right)}_{ \\phantom{\\, \\phi} \\, \\theta \\, \\phi \\, \\theta }^{ \\, \\phi \\phantom{\\, \\theta} \\phantom{\\, \\phi} \\phantom{\\, \\theta} } & = & 1 \\end{array}$"
      ],
      "text/plain": [
       "Riem(g)^theta_phi,theta,phi = sin(theta)^2 \n",
       "Riem(g)^theta_phi,phi,theta = -sin(theta)^2 \n",
       "Riem(g)^phi_theta,theta,phi = -1 \n",
       "Riem(g)^phi_theta,phi,theta = 1 "
      ]
     },
     "execution_count": 18,
     "metadata": {},
     "output_type": "execute_result"
    }
   ],
   "source": [
    "Γ = g.connection()\n",
    "\n",
    "𝓡 = Γ.riemann()\n",
    "\n",
    "𝓡.display_comp()\n"
   ]
  },
  {
   "cell_type": "code",
   "execution_count": 19,
   "id": "86fbdb20",
   "metadata": {
    "vscode": {
     "languageId": "python"
    }
   },
   "outputs": [
    {
     "data": {
      "text/html": [
       "<html>\\(\\displaystyle \\mathrm{Riem}\\left(g\\right) = \\sin\\left(\\theta\\right)^{2} \\frac{\\partial}{\\partial \\theta }\\otimes \\mathrm{d} \\phi\\otimes \\mathrm{d} \\theta\\otimes \\mathrm{d} \\phi -\\sin\\left(\\theta\\right)^{2} \\frac{\\partial}{\\partial \\theta }\\otimes \\mathrm{d} \\phi\\otimes \\mathrm{d} \\phi\\otimes \\mathrm{d} \\theta -\\frac{\\partial}{\\partial \\phi }\\otimes \\mathrm{d} \\theta\\otimes \\mathrm{d} \\theta\\otimes \\mathrm{d} \\phi +\\frac{\\partial}{\\partial \\phi }\\otimes \\mathrm{d} \\theta\\otimes \\mathrm{d} \\phi\\otimes \\mathrm{d} \\theta\\)</html>"
      ],
      "text/latex": [
       "$\\displaystyle \\mathrm{Riem}\\left(g\\right) = \\sin\\left(\\theta\\right)^{2} \\frac{\\partial}{\\partial \\theta }\\otimes \\mathrm{d} \\phi\\otimes \\mathrm{d} \\theta\\otimes \\mathrm{d} \\phi -\\sin\\left(\\theta\\right)^{2} \\frac{\\partial}{\\partial \\theta }\\otimes \\mathrm{d} \\phi\\otimes \\mathrm{d} \\phi\\otimes \\mathrm{d} \\theta -\\frac{\\partial}{\\partial \\phi }\\otimes \\mathrm{d} \\theta\\otimes \\mathrm{d} \\theta\\otimes \\mathrm{d} \\phi +\\frac{\\partial}{\\partial \\phi }\\otimes \\mathrm{d} \\theta\\otimes \\mathrm{d} \\phi\\otimes \\mathrm{d} \\theta$"
      ],
      "text/plain": [
       "Riem(g) = sin(theta)^2 ∂/∂theta⊗dphi⊗dtheta⊗dphi - sin(theta)^2 ∂/∂theta⊗dphi⊗dphi⊗dtheta - ∂/∂phi⊗dtheta⊗dtheta⊗dphi + ∂/∂phi⊗dtheta⊗dphi⊗dtheta"
      ]
     },
     "execution_count": 19,
     "metadata": {},
     "output_type": "execute_result"
    }
   ],
   "source": [
    "𝓡.display()\n"
   ]
  },
  {
   "cell_type": "markdown",
   "id": "46680773",
   "metadata": {},
   "source": [
    "Now, let's compare this to a \"flat\" space (such as the Minkowski metric )"
   ]
  },
  {
   "cell_type": "markdown",
   "id": "96be5485",
   "metadata": {},
   "source": [
    "# [17]\n",
    "\n",
    "Compute the change in a vector due to transport around closed curve in S2"
   ]
  },
  {
   "cell_type": "markdown",
   "id": "10f1aeac",
   "metadata": {},
   "source": [
    "The \"Change in vector produced by parallel transport around a closed path\", from \n",
    "Table 6.1, can be stated as:\n",
    "\n",
    "$$\\Delta A^\\alpha = R^\\alpha_{\\beta\\mu\\nu} A^\\beta d\\xi^\\nu d\\zeta^\\mu$$\n",
    "\n",
    "---\n",
    "\n",
    "but instead, we're going to do it the following way: \n",
    "\n",
    "!!!!!!!\n",
    "\n",
    "Use $\\delta A^\\mu = -\\Gamma^\\mu_{\\nu\\beta} A^\\nu (d x)^\\beta$ and the metric for the 2-sphere\n",
    "(assuming radius $R=1$): \n",
    "\n",
    "$$g_{\\mu\\nu} = (d\\theta)^2 + \\sin^2 (\\theta)\\ (d\\phi)^2$$"
   ]
  },
  {
   "cell_type": "markdown",
   "id": "309edb47",
   "metadata": {},
   "source": [
    "Recall the Christoffel symbols for the 2-Sphere $\\mathbb{S}^2$ are:"
   ]
  },
  {
   "cell_type": "code",
   "execution_count": 20,
   "id": "9ad34d0b",
   "metadata": {
    "vscode": {
     "languageId": "python"
    }
   },
   "outputs": [
    {
     "data": {
      "text/html": [
       "<html>\\(\\displaystyle \\begin{array}{lcl} \\Gamma_{ \\phantom{\\, \\theta} \\, \\phi \\, \\phi }^{ \\, \\theta \\phantom{\\, \\phi} \\phantom{\\, \\phi} } & = & -\\cos\\left(\\theta\\right) \\sin\\left(\\theta\\right) \\\\ \\Gamma_{ \\phantom{\\, \\phi} \\, \\theta \\, \\phi }^{ \\, \\phi \\phantom{\\, \\theta} \\phantom{\\, \\phi} } & = & \\frac{\\cos\\left(\\theta\\right)}{\\sin\\left(\\theta\\right)} \\\\ \\Gamma_{ \\phantom{\\, \\phi} \\, \\phi \\, \\theta }^{ \\, \\phi \\phantom{\\, \\phi} \\phantom{\\, \\theta} } & = & \\frac{\\cos\\left(\\theta\\right)}{\\sin\\left(\\theta\\right)} \\end{array}\\)</html>"
      ],
      "text/latex": [
       "$\\displaystyle \\begin{array}{lcl} \\Gamma_{ \\phantom{\\, \\theta} \\, \\phi \\, \\phi }^{ \\, \\theta \\phantom{\\, \\phi} \\phantom{\\, \\phi} } & = & -\\cos\\left(\\theta\\right) \\sin\\left(\\theta\\right) \\\\ \\Gamma_{ \\phantom{\\, \\phi} \\, \\theta \\, \\phi }^{ \\, \\phi \\phantom{\\, \\theta} \\phantom{\\, \\phi} } & = & \\frac{\\cos\\left(\\theta\\right)}{\\sin\\left(\\theta\\right)} \\\\ \\Gamma_{ \\phantom{\\, \\phi} \\, \\phi \\, \\theta }^{ \\, \\phi \\phantom{\\, \\phi} \\phantom{\\, \\theta} } & = & \\frac{\\cos\\left(\\theta\\right)}{\\sin\\left(\\theta\\right)} \\end{array}$"
      ],
      "text/plain": [
       "Gam^theta_phi,phi = -cos(theta)*sin(theta) \n",
       "Gam^phi_theta,phi = cos(theta)/sin(theta) \n",
       "Gam^phi_phi,theta = cos(theta)/sin(theta) "
      ]
     },
     "execution_count": 20,
     "metadata": {},
     "output_type": "execute_result"
    }
   ],
   "source": [
    "g.christoffel_symbols_display(\n",
    "    coordinate_labels=True,\n",
    "    only_nonredundant=False\n",
    ")\n"
   ]
  },
  {
   "cell_type": "markdown",
   "id": "1013e79f",
   "metadata": {},
   "source": [
    "The system of equations is then:\n",
    "\n",
    "$$\\begin{aligned}\n",
    "\\delta A^\\theta &= -(-\\sin\\theta\\cos\\theta) A^\\phi (d\\phi) \\\\\n",
    "\\delta A^\\phi &= [-\\cot\\theta A^\\phi (d\\theta)] + [-\\cot\\theta A^\\theta (d\\phi)]\n",
    "\\end{aligned}$$\n",
    "\n",
    "which simplifies to\n",
    "\n",
    "$$\\begin{aligned}\n",
    "\\delta A^\\theta &= (\\sin\\theta\\cos\\theta) A^\\phi (d\\phi) \\\\\n",
    "\\delta A^\\phi &= -2\\cot\\theta [A^\\phi d\\theta + A^\\theta d\\phi]\n",
    "\\end{aligned}$$"
   ]
  },
  {
   "cell_type": "markdown",
   "id": "59b85c4a",
   "metadata": {},
   "source": [
    "Incidentally, $A^\\phi d\\theta$ and $A^\\theta d\\phi$ must equal $\\cdots$; and $A^\\phi d\\phi$ must be $\\cdots$. \n",
    "\n",
    "[... more detail needed here ...]\n",
    "\n",
    "Thus, the deflection $\\delta A^\\mu$ is equivalent to the induced metric!\n",
    "\n",
    "We can conclude that on the metric surface of a 2-Sphere, deflection in the orientation of a vector, parallel-transported around a closed curve, arises directly from the induced metric of the surface. In this case of non-zero intrinsic curvature (Riemann tensor)"
   ]
  },
  {
   "cell_type": "markdown",
   "id": "cbec6da3",
   "metadata": {},
   "source": [
    "So, for example, say we are traveling in a open curve path going from the \"North Pole\" to the \"South Pole\".\n",
    "\n",
    "Then, our $d\\phi = 0$, and we will have to integrate over $d\\theta$ using a forward-Euler update scheme, over the \n",
    "range $d\\theta \\in (0, \\pi)$.\n",
    "\n",
    "Our system reduces to: \n",
    "\n",
    "$$\\begin{aligned}\n",
    "\\delta A^\\theta &= 0 \\\\\n",
    "\\delta A^\\phi &= A^\\phi (-2\\cot\\theta\\ d\\theta)\n",
    "\\end{aligned}$$\n",
    "\n",
    "But, if we integrate over $d \\theta$, the boundary-condition limits of our integral have singular values\n",
    "at the poles of $\\mathbb{S}^2$, so we will instead consider the domain $(\\epsilon, \\pi - \\epsilon)$ for\n",
    "an arbitrary limit $\\lim\\limits{\\epsilon \\rightarrow 0}$ for $\\epsilon > 0$. "
   ]
  },
  {
   "cell_type": "markdown",
   "id": "ed9e585e",
   "metadata": {},
   "source": [
    "It follows that the deflection of the vector $A$ parallel-transported along this curve can be given by the system \n",
    "\n",
    "$$\\begin{aligned}\n",
    "\\Delta A^\\theta &= 0 \\\\\n",
    "\\Delta A^\\phi &= -2 A^\\phi \\int_{\\epsilon}^{\\pi - \\epsilon} \\cot\\theta\\ d\\theta\n",
    "\\end{aligned}$$\n",
    "\n",
    "so then; \n",
    "\n",
    "$$ \\Delta A^\\phi = -2 A^\\phi \\left[ \\ln|\\sin\\theta| \\right]\\rvert_{\\epsilon}^{\\pi - \\epsilon} $$\n",
    "\n",
    "which simplifies to \n",
    "\n",
    "$$\n",
    "\\Delta A^\\phi = -2 A^\\phi\\ \\left[ \\ln|\\sin(\\pi-\\epsilon)| - \\ln|\\sin(\\epsilon)| \\right] \\\\\n",
    "\\Rightarrow  \\\\\n",
    "\\Delta A^\\phi = -2 A^\\phi\\ \\left[ \\ln\\lvert \\frac{\\sin(\\pi-\\epsilon)}{\\sin(\\epsilon)} \\rvert\\right]\n",
    "$$\n",
    "\n"
   ]
  },
  {
   "cell_type": "markdown",
   "id": "a93ede95",
   "metadata": {},
   "source": [
    "We can then perform a small angle approximation on $\\epsilon$ via taylor series expansion around the point $\\theta = \\pi$ \n",
    "to resolve the numerator of the \"...\" of the logarithmic expression. Since $\\mathrm{sine}$ is a periodic function, the\n",
    "fractional expression above reduces to exactly $\\frac{\\sin(\\pi - \\epsilon)}{\\sin(\\epsilon)} = 1$. \n",
    "\n",
    "[Note :> Skipped formal steps here]\n",
    "\n",
    "The polynomial expressions of this Taylor series expansion at $\\theta = 0, \\pi$ will result in something similar to\n",
    "\n",
    "$$\\Delta A^\\phi = -2 A^\\phi\\ \\ln\\lvert 1 \\rvert$$\n",
    "\n",
    "However, $\\ln(1) = $, so our total deflection traveling from pole-to-pole is $\\mathbf{0}$!\n",
    "\n",
    "This would be different if we chose a non-trivial path, such as the closed curve around the sphere \n",
    "at the latitude $5^\\degree \\mathrm{N}$."
   ]
  },
  {
   "cell_type": "markdown",
   "id": "340754b8",
   "metadata": {},
   "source": [
    "# [18]\n",
    "\n",
    "Special Relativity: \"car in a barn paradox\" - Time Dilation and Length Contraction. \n",
    "\n",
    ">   The lack of a notion of absolute simultaneity in special relativity leads to many supposed paradoxes. One of the most famous of these involves a car and a garage of equal proper length. The driver speeds toward the garage, and a doorman at the garage is instructed to slam the door shut as soon as the back end of the car enters the garage. According to the doorman, \"the car Lorentz contracted and easily fitted into the garage when I slammed the door.\" According to the driver, \"the garage Lorentz contracted and was too small for the car when I entered the garage.\" Draw a spacetime diagram showing the above events and explain what really happens. Is the doorman's statement correct? Is the driver's statement correct? For definiteness, assome that the car crashes through the back wall of the garage without stopping or slowing down. "
   ]
  },
  {
   "cell_type": "markdown",
   "id": "12e44e74",
   "metadata": {},
   "source": [
    "We are supposed to start with expressions for the Lorentz Transforms (Lorentz Boosts + Rotations) \n",
    "to derive the following expressions, in the Lorentz coordinates (after the boost transform) on the Poincare half-disk. \n",
    "\n",
    "Let \n",
    "\n",
    "- $\\beta = (\\nu/c)$, \n",
    "- $\\gamma = \\frac{1}{\\sqrt{1 - \\beta^2}}$\n",
    "\n",
    "then\n",
    "\n",
    "$$\n",
    "\\begin{bmatrix}\n",
    "    ct^\\prime \\\\ x^\\prime \\\\ y^\\prime \\\\ z^\\prime\n",
    "\\end{bmatrix}\n",
    "=\n",
    "\\begin{bmatrix}\n",
    "    \\gamma          &   -\\gamma\\beta    &   0   &   0 \\\\\n",
    "    -\\gamma\\beta    &   \\gamma          &   0   &   0 \\\\\n",
    "    0               &   0               &   1   &   0 \\\\\n",
    "    0               &   0               &   0   &   1\n",
    "\\end{bmatrix}\n",
    "\\cdot\n",
    "\\begin{bmatrix}\n",
    "    ct \\\\ x \\\\ y \\\\ z\n",
    "\\end{bmatrix}\n",
    "$$\n",
    "\n",
    "We want to arrive at the expressions for Special Relativity from Modern Physics. \n",
    "\n",
    "$$\\begin{align*}\n",
    "    L       &= \\gamma^{-1} L_0 \\\\ \n",
    "            &= L_0 \\sqrt{1 - \\beta^2} \\\\\n",
    "            \\\\\n",
    "    t       &= \\gamma t_0 \\\\\n",
    "            &= \\frac{t_0}{\\sqrt{1 - \\beta^2}}\n",
    "\\end{align*}$$\n",
    "\n",
    "---"
   ]
  },
  {
   "cell_type": "markdown",
   "id": "8ff50472",
   "metadata": {},
   "source": [
    "Both observers are correct, both have their own frame of reference (with associated \n",
    "inertial coordinate systems/frames). \n",
    "\n",
    "Let's split the coordinate expressions for each frame of reference, expressed in\n",
    "terms of the absolute coordinate time; i.e., $\\tau_c$ is the car's time-coordinate \n",
    "in its own frame w.r.t. coordinate time $t$ (the Driver Observer), and $\\tau_g$ \n",
    "is the garage's time coordinate w.r.t. coordinate time $t$ (The Doorman Observer). \n",
    "\n",
    "Then, we can add \"markers\" for the events in coordinate time, say $t_0$ for when \n",
    "the garage door closes, and $t_1$ for when the car hits the back of the garage. \n",
    "Since each Observer is in their own inertial frame, the other \"object\" appears to\n",
    "be moving _relative_ to each Observer with some velocity. \n",
    "\n",
    "The Doorman Observer will attempt to close the garage door when the rear of the car crosses\n",
    "a threshold associated with time $t_0$, but due to length contraction and time dilation,\n",
    "this will occur \"too early\", i.e., the back of the car has not actually yet crossed\n",
    "the needed threshold.  From the Driver's Observation perspective, the garage door\n",
    "will close \"too late\", as in, they will have already hit the back of the garage\n",
    "(event $t_1$) by the time the Doorman observes the Driver crossing the threshold\n",
    "to engage the event $t_0$. \n",
    "\n",
    "In this sense, both accounts are correct, because each Observer encounters \n",
    "the events $t_0$ and $t_1$ (in absolute coordinate time) in a different order --\n",
    "The Doorman closes the garage door (event $t_0$) before observing the car hitting \n",
    "the back of the garage ($t_1$), while the Driver observes hitting the back of the\n",
    "garage (event $t_1$) before the garage door closes (event $t_0$). \n"
   ]
  },
  {
   "cell_type": "markdown",
   "id": "ddfafe32",
   "metadata": {},
   "source": [
    "---\n",
    "\n",
    "# [19]\n",
    "\n",
    "You watch a muon speed to earth with energy 100 GeV. How long will it take to decay?  To reach the ground from the upper atmosphere?\n",
    "\n",
    "---"
   ]
  },
  {
   "cell_type": "markdown",
   "id": "f18887a1",
   "metadata": {},
   "source": [
    "Use the slide from the end of Class 23 lecture notes!\n",
    "\n",
    "A muon's rest mass is 207 times the rest-mass of an electron, and decays \n",
    "(in its own time-frame) in 2.2 $\\mu s$.  \n",
    "\n",
    "We will assume that the distance travelled from the ionosphere to the surface is\n",
    "48 km. "
   ]
  },
  {
   "cell_type": "markdown",
   "id": "3252aee5",
   "metadata": {},
   "source": [
    "The rest mass of a muon is $105.6583755(23) \\textrm{MeV}/c^2$.\n",
    "\n",
    "The mean lifetime is $2.1969811(22)×10^{−6} \\textrm{s}$ "
   ]
  },
  {
   "cell_type": "markdown",
   "id": "e83ef9a8",
   "metadata": {},
   "source": [
    "We can start by saying that \n",
    "\n",
    "$$\\begin{align}\n",
    "    \\|E\\|^2 &= (\\|p\\|c)^2 + (m_0 c^2)^2 \\\\\n",
    "    \\Rightarrow (100e9)^2 &= (\\|p\\|c)^2 + (105e6)^2 \\\\\n",
    "    \\|p\\| &= \\sqrt{(100e9)^2 - (105e6)^2} \\quad [c^{-1}]\n",
    "\\end{align}$$"
   ]
  },
  {
   "cell_type": "code",
   "execution_count": 21,
   "id": "9bd0046f",
   "metadata": {
    "vscode": {
     "languageId": "python"
    }
   },
   "outputs": [
    {
     "data": {
      "text/html": [
       "<html>\\(\\displaystyle \\verb|9.99999e+10|\\)</html>"
      ],
      "text/latex": [
       "$\\displaystyle \\verb|9.99999e+10|$"
      ],
      "text/plain": [
       "'9.99999e+10'"
      ]
     },
     "execution_count": 21,
     "metadata": {},
     "output_type": "execute_result"
    }
   ],
   "source": [
    "np.format_float_scientific(\n",
    "    np.sqrt(\n",
    "        ((100e9)^2)\n",
    "        - ((105e6)^2)\n",
    "    ),\n",
    "    unique=True,\n",
    "    precision=5\n",
    ")\n"
   ]
  },
  {
   "cell_type": "markdown",
   "id": "28f1b699",
   "metadata": {},
   "source": [
    "We will simplify this as $\\|p\\| \\approx 10^{10} [\\textrm{eV} / c]$. \n",
    "\n",
    "Now, let's use the Lorentz Boost transformation to calculate what the Observer (at ground level) measures as the momentum of the incoming muon.  We will also simplify by saying that all of the spatial momentum of the muon is in the $-\\hat{z}$ coordinate axis ($+\\hat{z}$ axis normal to the surface of the Earth, $p_x = p_y = 0$ for the muon in our \n",
    "choice of coordinates). \n",
    "\n",
    "$$\\begin{align*}\n",
    "\\begin{bmatrix} {p_t}^\\prime \\\\ {p_x}^\\prime \\\\ {p_y}^\\prime \\\\ {p_z}^\\prime \\end{bmatrix}\n",
    "&=\n",
    "\\begin{bmatrix}\n",
    "    \\gamma  &   0   &   0   &   -\\gamma\\beta/c  \\\\\n",
    "    0       &   1   &   0   &   0               \\\\\n",
    "    0       &   0   &   1   &   0               \\\\\n",
    "    -\\gamma\\beta c  &   0   &   0   &   \\gamma\n",
    "\\end{bmatrix}\n",
    "\\begin{bmatrix} {p_t} \\\\ {p_x} \\\\ {p_y} \\\\ {p_z} \\end{bmatrix} \\\\\n",
    "&=\n",
    "\\gamma \\begin{bmatrix}\n",
    "    p_t - \\beta p_z / c \\\\\n",
    "    0 \\\\\n",
    "    0 \\\\\n",
    "    p_z - \\beta p_t c \n",
    "\\end{bmatrix}\n",
    "\\end{align*}$$\n",
    "\n",
    "where \n",
    "\n",
    "- $\\beta = (\\nu / c)$\n",
    "- $\\gamma = \\frac{1}{\\sqrt{1 - \\beta^2}}$\n"
   ]
  },
  {
   "cell_type": "markdown",
   "id": "178f4277",
   "metadata": {},
   "source": [
    "Then, as $\\|p^\\prime\\| = \\|p\\| \\approx 10^{10}\\ [\\textrm{eV} / c]$, \n",
    "\n",
    "$$\\begin{align*}\n",
    "\\left( \\|p^\\prime\\| \\right)^2 &= \n",
    "    \\gamma^2 \n",
    "    \\left[ \n",
    "        \\left(p_t - \\beta p_z / c\\right)^2\n",
    "        + \\left(p_z - \\beta p_t c\\right)^2\n",
    "    \\right]\n",
    "\\\\\n",
    "\\left(10^{10}\\ [\\textrm{eV} / c]\\right)^2 &= \n",
    "    \\gamma^2\n",
    "    \\left[ \n",
    "        \\left(p_t - \\beta p_z / c\\right)^2\n",
    "        + \\left(p_z - \\beta p_t c\\right)^2\n",
    "    \\right]\n",
    "\\\\\n",
    "\\left(10^{10}\\ [\\textrm{eV}]\\right)^2 &= \n",
    "    c^2 \\gamma^2\n",
    "    \\left[ \n",
    "        \\left(p_t - \\beta p_z / c\\right)^2\n",
    "        + \\left(p_z - \\beta p_t c\\right)^2\n",
    "    \\right]\n",
    "\\\\\n",
    "\\left(10^{10}\\ [\\textrm{eV}]\\right)^2 &= \n",
    "    c^2 \\gamma^2\n",
    "    \\left[ \n",
    "        \\left(p_t - \\beta p_z / c\\right)^2\n",
    "        + \\left(p_z - \\beta p_t c\\right)^2\n",
    "    \\right]\n",
    "\\\\\n",
    "&= \\gamma^2\n",
    "    \\left[ \n",
    "        \\left(p_t c - \\beta p_z \\right)^2\n",
    "        + \\left(p_z c - \\beta p_t c^2\\right)^2\n",
    "    \\right]\n",
    "\\\\\n",
    "&= \\gamma^2\n",
    "    \\left[ \n",
    "        \\left((p_t c) - (\\beta/c) (p_z c) \\right)^2\n",
    "        + \\left((p_z c) - (\\beta c) (p_t c) \\right)^2\n",
    "    \\right]\n",
    "\\\\\n",
    "&= \\gamma^2\n",
    "    \\left( \n",
    "        \\begin{gather*}\n",
    "            \\left((p_t c)^2 - 2 (\\beta/c) (p_t c) (p_z c) + (\\beta / c)^2 (p_z c)^2 \\right)\n",
    "            \\\\\n",
    "            \\quad + \\left( (p_z c)^2 - 2 (\\beta c) (p_z c) (p_t c) + (\\beta c)^2 (p_t c)^2 \\right)\n",
    "        \\end{gather*}\n",
    "    \\right)\n",
    "\\\\\n",
    "&= \\gamma^2\n",
    "    \\left(\n",
    "        (p_t c)^2 (1 + \\beta^2 c^2)\n",
    "        + (p_z c)^2 (1 + \\beta^2 / c^2)\n",
    "        - 2 (p_t c) (p_z c) (\\beta c + \\beta / c)\n",
    "    \\right)\n",
    "\\\\\n",
    "&= \\ldots ?\n",
    "\\end{align*}$$"
   ]
  },
  {
   "cell_type": "markdown",
   "id": "487f3a92",
   "metadata": {},
   "source": [
    "Since I can't think of creative ways to phrase/solve the above, let's instead just say\n",
    "\n",
    "$$\\begin{aligned}\n",
    "    p   &= \\gamma m_0 \\nu \\\\\n",
    "    pc  &= \\gamma \\beta (m_0 c^2) \\\\\n",
    "    \\frac{pc}{m_0 c^2} &= \\gamma \\beta \\\\\n",
    "    (1 - \\beta^2) \\left(\\frac{pc}{m_0 c^2}\\right)^2 &= \\beta^2 \\\\\n",
    "    \\beta^2 &= (1 - \\beta^2) \\left(\\frac{E^2 - (m_0c^2)^2}{(m_0 c^2)^2}\\right) \\\\\n",
    "    \\frac{\\beta^2}{(1 - \\beta^2)} &= \\left(\\frac{E^2}{(m_0 c^2)^2}\\right) - 1 \\\\\n",
    "    \\frac{\\beta^2}{(\\beta^2 - 1)} &= 1 - \\left(\\frac{E^2}{(m_0 c^2)^2}\\right) \\\\\n",
    "    \\frac{1}{(1 - (1/\\beta^2))} &= 1 - \\left(\\frac{E^2}{(m_0 c^2)^2}\\right) \\\\\n",
    "    \\frac{1}{1 - \\left(\\frac{E}{m_0 c^2}\\right)^2}  &=  1 - (1/\\beta^2) \\\\\n",
    "    1 - \\frac{1}{1 - \\left(\\frac{E}{m_0 c^2}\\right)^2}  &=  1/\\beta^2 \\\\\n",
    "    \\beta^2 &= \\frac{1}{1 - \\frac{1}{1 - \\left(\\frac{E}{m_0 c^2}\\right)^2}} \\\\\n",
    "\\end{aligned}$$\n",
    "\n",
    "This is a bizarre way to arrive at a continued fraction, that looks very similar \n",
    "to a fixed point iteration.  I have no idea why it has appeared here, I assume \n",
    "I did something wrong. Neat!\n",
    "\n",
    "Anyway, let's see what this numerically evaluates to. "
   ]
  },
  {
   "cell_type": "code",
   "execution_count": 22,
   "id": "b690e78a",
   "metadata": {
    "vscode": {
     "languageId": "python"
    }
   },
   "outputs": [
    {
     "name": "stdout",
     "output_type": "stream",
     "text": [
      "𝛎 = 0.999998883630769 c\n",
      "𝛎 = ( 1 - 1.11636923127989e-6 ) c\n"
     ]
    }
   ],
   "source": [
    "E = 100e9           # [[ eV ]]\n",
    "mc2 = 105.6583755e6 # [[ eV/c^2 ]]\n",
    "beta = 1 / (1 - (1 / (1 - ( E / mc2 )^2)))\n",
    "less = 1 - beta\n",
    "\n",
    "print(\"𝛎 =\", beta, \"c\")\n",
    "print(\"𝛎 = ( 1 -\", less, \") c\")\n"
   ]
  },
  {
   "cell_type": "markdown",
   "id": "9a1423d0",
   "metadata": {},
   "source": [
    "I don't know to what digit accuracy we are supposed to keep this fraction. \n",
    "\n",
    "Anyway, now that we have some expressions for the velocity of the muon, we\n",
    "can throw some Lorentz transforms for length contraction and time dilation \n",
    "into the mix. "
   ]
  },
  {
   "cell_type": "code",
   "execution_count": 23,
   "id": "5e62789e",
   "metadata": {
    "vscode": {
     "languageId": "python"
    }
   },
   "outputs": [
    {
     "data": {
      "text/html": [
       "<html>\\(\\displaystyle 71.72326363485237\\)</html>"
      ],
      "text/latex": [
       "$\\displaystyle 71.72326363485237$"
      ],
      "text/plain": [
       "np.float64(71.72326363485237)"
      ]
     },
     "execution_count": 23,
     "metadata": {},
     "output_type": "execute_result"
    }
   ],
   "source": [
    "L_0 = 48e3  # [[ m ]]\n",
    "gamma = 1 / np.sqrt(1 - beta^2)\n",
    "\n",
    "L = L_0 / gamma\n",
    "L\n"
   ]
  },
  {
   "cell_type": "markdown",
   "id": "71f4a25b",
   "metadata": {},
   "source": [
    "In the muon's frame, the distance from the lower end of the ionosphere to\n",
    "the ground is approximately 72 meters. \n",
    "\n",
    "If we naively assume that \n",
    "\n",
    "$$\\begin{aligned}\n",
    "    \\nu &= \\frac{L}{t} \\\\\n",
    "        &= \\frac{L_0 / \\gamma}{\\gamma t_0} \\\\\n",
    "        &= \\frac{L_0}{\\gamma^2 t_0} \\\\\n",
    "    \\nu &= \\left( 1 - \\beta^2 \\right) \\frac{L_0}{t_0} \\\\\n",
    "\\Rightarrow & \\\\\n",
    "    t_0 c   &= \\frac{1}{1/c} \\left( 1 - \\beta^2 \\right) \\frac{L_0}{\\nu\\ t_0} \\\\\n",
    "            &= \\left( \\frac{1 - \\beta^2}{\\beta} \\right) L_0 \\\\\n",
    "\\end{aligned}$$\n",
    "\n",
    "we should be able to calculate time. Time according to which observer? Dunno. \n",
    "It's 1am and I'm about to fail this course. \n",
    "\n",
    "Let's say "
   ]
  },
  {
   "cell_type": "code",
   "execution_count": 24,
   "id": "7c36bf1c",
   "metadata": {
    "vscode": {
     "languageId": "python"
    }
   },
   "outputs": [
    {
     "data": {
      "text/html": [
       "<html>\\(\\displaystyle 3.57485664389278 \\times 10^{-10}\\)</html>"
      ],
      "text/latex": [
       "$\\displaystyle 3.57485664389278 \\times 10^{-10}$"
      ],
      "text/plain": [
       "3.57485664389278e-10"
      ]
     },
     "execution_count": 24,
     "metadata": {},
     "output_type": "execute_result"
    }
   ],
   "source": [
    "t_0 = (((1 - beta^2) / beta) * L_0) / 𝙘\n",
    "n(t_0)\n"
   ]
  },
  {
   "cell_type": "markdown",
   "id": "5b21541f",
   "metadata": {},
   "source": [
    "$\\approx 36$ nanoseconds!\n",
    "\n",
    "Since the lifetime of the muon is $2.2 \\times 10^{-6}$ [s], it looks like the muon \n",
    "would reach the surface of the Earth, and be detectable.  This tracks with \n",
    "the recent usage of muography to identify a hitherto unknown chamber in an \n",
    "Egyptian pyramid.  https://www.scientificamerican.com/article/muons-the-little-known-particles-helping-to-probe-the-impenetrable/"
   ]
  },
  {
   "cell_type": "markdown",
   "id": "1648dce6",
   "metadata": {},
   "source": [
    "But how long _will_ it take to decay?"
   ]
  },
  {
   "cell_type": "code",
   "execution_count": 27,
   "id": "48555719",
   "metadata": {
    "vscode": {
     "languageId": "python"
    }
   },
   "outputs": [
    {
     "data": {
      "text/html": [
       "<html>\\(\\displaystyle \\verb|1.472326e-03|\\)</html>"
      ],
      "text/latex": [
       "$\\displaystyle \\verb|1.472326e-03|$"
      ],
      "text/plain": [
       "'1.472326e-03'"
      ]
     },
     "execution_count": 27,
     "metadata": {},
     "output_type": "execute_result"
    }
   ],
   "source": [
    "t_1 = gamma * 2.2e-6\n",
    "np.format_float_scientific(\n",
    "    t_1,\n",
    "    unique=True,\n",
    "    precision=6\n",
    ")\n"
   ]
  },
  {
   "cell_type": "markdown",
   "id": "9182c504",
   "metadata": {},
   "source": [
    "The muon will decay an multiple orders of magnitude _slower_ than $2.2 \\mu\\text{s}$!\n",
    "This number should be interpreted as $\\approx 1.5$ milliseconds. \n",
    "\n",
    "Viewed as a fractional amount:"
   ]
  },
  {
   "cell_type": "code",
   "execution_count": 28,
   "id": "a8757ee8",
   "metadata": {
    "vscode": {
     "languageId": "python"
    }
   },
   "outputs": [
    {
     "data": {
      "text/html": [
       "<html>\\(\\displaystyle 669.238927\\)</html>"
      ],
      "text/latex": [
       "$\\displaystyle 669.238927$"
      ],
      "text/plain": [
       "'669.238927'"
      ]
     },
     "execution_count": 28,
     "metadata": {},
     "output_type": "execute_result"
    }
   ],
   "source": [
    "np.format_float_positional(\n",
    "    (t_1 / 2.2e-6),\n",
    "    unique=True,\n",
    "    precision=6\n",
    ")\n"
   ]
  },
  {
   "cell_type": "markdown",
   "id": "ad09c85b",
   "metadata": {},
   "source": [
    "In other words, the muon will appear to decay $\\approx 670$ times _slower_ than \n",
    "its usual decay time. "
   ]
  },
  {
   "cell_type": "markdown",
   "id": "2dfde3d4",
   "metadata": {},
   "source": [
    "# [20]\n",
    "\n",
    "show that the momentum 4-vector has an invariant length of $-(mc^2)^2$"
   ]
  },
  {
   "cell_type": "markdown",
   "id": "c4c9660b",
   "metadata": {},
   "source": [
    "Use $p^\\mu = mu^\\mu = (E/c, p_x c, p_y c, p_z c)$ and the expression $E = \\sqrt{(mc^2)^2 + (pc)^2}$, taking normed length of $p^\\mu$, to show invariant (under transformation) length of momentum 4-vector. "
   ]
  },
  {
   "cell_type": "markdown",
   "id": "d071dfc2",
   "metadata": {},
   "source": [
    "$$ \n",
    "\\|p^\\mu\\|_2 = \\left\\|\n",
    "\\begin{pmatrix} \n",
    "    \\frac{1}{c} \\sqrt{(mc^2)^2 + (pc)^2} \\\\\n",
    "    p_x c \\\\\n",
    "    p_y c \\\\\n",
    "    p_z c \n",
    "\\end{pmatrix} \\right\\|_2 \\\\\n",
    "\n",
    "\\Rightarrow p^\\mu \\eta_{\\mu\\nu} p^\\nu = \\left\\|\n",
    "\\begin{pmatrix}\n",
    "    -c^2 \\sqrt{ m^2 c^2 + p^2} \\\\\n",
    "    p_x c \\\\\n",
    "    p_y c \\\\\n",
    "    p_z c \n",
    "\\end{pmatrix}\\right\\|_2 \\\\\n",
    "\n",
    "\\Rightarrow (p^\\mu) ^ 2 = -c^2 ( m^2 c^2 + p^2 ) + (p_x c)^2 + (p_y c)^2 + (p_z c)^2 \\\\\n",
    "\n",
    "\\Rightarrow \\|p^\\mu\\|_2 = -c^2 (m^2 c^2 + p^2) + (pc)^2 \\\\\n",
    "\\Rightarrow = -m^2 c^4 + (pc)^2 - (pc)^2\n",
    "$$ \n",
    "\n",
    "$$ \\rightarrow \\|p^\\mu\\|_2 = p^\\mu \\eta_{\\mu\\nu} p^\\nu = -(mc^2)^2"
   ]
  },
  {
   "cell_type": "markdown",
   "id": "c25e20ed",
   "metadata": {},
   "source": [
    "# [22]\n",
    "\n",
    "Get the Ricci Tensor/scalar to show the field equation for $h_{\\mu\\nu}$ is correct"
   ]
  },
  {
   "cell_type": "markdown",
   "id": "e61e228c",
   "metadata": {},
   "source": [
    "Recall that the approximation for the linearized gravitational field equations is \n",
    "\n",
    "$$ g_{\\mu\\nu} \\approx \\eta_{\\mu\\nu} + \\kappa h_{\\mu\\nu} $$\n",
    "\n",
    "and we are attempting to recreate the expression for linearized gravity in terms of \n",
    "$h_{\\mu\\nu}$ from the text, eqn. 3.38 from pp. 104 of the text:\n",
    "\n",
    "$$\\begin{aligned} \n",
    "\\partial_\\lambda \\partial^\\lambda h^{\\mu\\nu} + \\partial^\\mu \\partial^\\nu h \\\\\n",
    "- \\left( \\partial_\\lambda \\partial^\\nu h^{\\mu\\lambda} + \\partial_\\lambda \\partial^\\mu  h^{\\nu\\lambda}\\right) \\\\\n",
    "- \\eta^{\\mu\\nu} \\partial_\\lambda \\partial^\\lambda h \\\\\n",
    "+ \\eta^{\\mu\\nu} \\partial_\\lambda \\partial_\\sigma h^{\\lambda \\sigma}\n",
    "\n",
    "\\end{aligned} = -\\kappa T^{\\mu\\nu} \\tag{3.38}$$\n"
   ]
  },
  {
   "cell_type": "markdown",
   "id": "e5077023",
   "metadata": {},
   "source": [
    "Note :> if we perform some simplification of the above statement, it is equivalent\n",
    "to\n",
    "\n",
    "$$\n",
    "\\begin{align*}\n",
    "-\\kappa T^{\\mu\\nu} &=\n",
    "    \\begin{aligned} \n",
    "        & \\partial_\\lambda \\partial^\\lambda h^{\\mu\\nu} + \\partial^\\mu \\partial^\\nu h\n",
    "        \\\\\n",
    "        &\\quad - \\partial_\\lambda \n",
    "            \\left(  \n",
    "                \\partial^\\mu h^{\\nu\\lambda}\n",
    "                + \\partial^\\nu h^{\\mu\\lambda}\n",
    "            \\right)\n",
    "        \\\\\n",
    "        &\\qquad + \\eta^{\\mu\\nu}\n",
    "            \\left(\n",
    "                \\partial_\\lambda \\partial_\\sigma h^{\\lambda \\sigma}\n",
    "                - \\partial_\\lambda \\partial^\\lambda h\n",
    "            \\right)\n",
    "    \\end{aligned} \n",
    "    \\\\\n",
    "    \\\\\n",
    "    &= \\begin{aligned} \n",
    "        &\\partial_\\lambda \\partial^\\lambda \n",
    "            \\left(\n",
    "                h^{\\mu\\nu} \n",
    "                - \\eta^{\\mu\\nu} h\n",
    "            \\right)\n",
    "        \\\\\n",
    "        &\\quad - \\partial_\\lambda \n",
    "            \\left[\n",
    "                \\left(\n",
    "                    \\partial^\\mu h^{\\nu\\lambda} \n",
    "                    + \\partial^\\nu h^{\\mu\\lambda}\n",
    "                \\right)\n",
    "                - \\eta^{\\mu\\nu} \\partial_\\sigma h^{\\lambda\\sigma}\n",
    "            \\right]\n",
    "        \\\\\n",
    "        &+ \\partial^\\mu \\partial^\\nu h\n",
    "    \\end{aligned}  \n",
    "\\end{align*}\n",
    "$$"
   ]
  },
  {
   "cell_type": "markdown",
   "id": "a940f9de",
   "metadata": {},
   "source": [
    "\n",
    "---\n",
    "\n",
    "Since the Riemann (and therefore Ricci) Tensor is dependent on the metric, we\n",
    "should start with the Christfoffel symbols for the choice of metric $g_{\\mu\\nu} \\approx \\eta_{\\mu\\nu} + \\kappa h_{\\mu\\nu}$. \n",
    "\n",
    "$$\n",
    "\\Rightarrow \\Gamma^\\alpha_{\\mu\\nu} = \n",
    "\\frac{1}{2}\\ \\mathrm{inv}\\left( \\eta_{\\alpha \\beta} + \\kappa h_{\\alpha\\beta} \\right) \n",
    "\\left[ \n",
    "    (\\eta_{\\beta\\mu,\\nu} + \\kappa h_{\\beta\\mu, \\nu}) \n",
    "    + (\\eta_{\\nu\\beta,\\mu} + \\kappa h_{\\nu\\beta, \\mu})\n",
    "    - (\\eta_{\\mu\\nu,\\beta} + \\kappa h_{\\mu\\nu, \\beta})\n",
    "\\right]\n",
    "$$\n",
    "\n",
    "We can then assume that $\\eta_{\\alpha \\beta} \\gg \\kappa h_{\\alpha \\beta}$\n",
    "(equivalently $\\|\\kappa h_{\\mu\\nu}\\| \\ll 1$), so we will simplify the above to \n",
    "\n",
    "$$\n",
    "\\Rightarrow \\Gamma^\\alpha_{\\mu\\nu} = \n",
    "\\frac{1}{2}\\ \\left( \\eta^{\\alpha \\beta} \\right) \n",
    "\\left[ \n",
    "    (\\eta_{\\beta\\mu,\\nu} + \\kappa h_{\\beta\\mu, \\nu}) \n",
    "    + (\\eta_{\\nu\\beta,\\mu} + \\kappa h_{\\nu\\beta, \\mu})\n",
    "    - (\\eta_{\\mu\\nu,\\beta} + \\kappa h_{\\mu\\nu, \\beta})\n",
    "\\right]\n",
    "$$\n"
   ]
  },
  {
   "cell_type": "markdown",
   "id": "9bd98754",
   "metadata": {},
   "source": [
    "Next, since the elements of the Minkowski metric are all constant, the partial\n",
    "derivative terms above $\\eta_{\\mu\\nu,\\sigma} = 0$!  Therefore; \n",
    "\n",
    "$$\n",
    "\\Rightarrow \\Gamma^\\alpha_{\\mu\\nu} = \n",
    "\\frac{1}{2}\\ \\kappa \\left( \\eta^{\\alpha \\beta} \\right) \n",
    "\\left[ \n",
    "    \\partial_\\nu h_{\\beta\\mu}\n",
    "    + \\partial_\\mu h_{\\nu\\beta}\n",
    "    - \\partial_\\beta h_{\\mu\\nu}\n",
    "\\right]\n",
    "$$"
   ]
  },
  {
   "cell_type": "markdown",
   "id": "ea0cfa56",
   "metadata": {},
   "source": [
    "A further simplification that we can make, since we are in the first-order (linearized) approximation, is to ignore terms in the defn. of the Riemann Tensor that result in higher-order terms of $h_{\\mu\\nu}$, so we will only consider\n",
    "\n",
    "$$\n",
    "\\mathcal{R}^\\alpha_{\\beta\\mu\\nu} = - \\partial_\\nu \\Gamma^\\alpha_{\\beta\\mu} + \\partial_\\mu \\Gamma^\\alpha_{\\beta\\nu} + \\left[ \\ldots \\right]\n",
    "$$"
   ]
  },
  {
   "cell_type": "markdown",
   "id": "0964a250",
   "metadata": {},
   "source": [
    "$$\\Rightarrow \n",
    "\\left\\{ \\begin{aligned}\n",
    "    \\Gamma^\\alpha_{\\beta\\mu} \n",
    "        &= \n",
    "        \\frac{1}{2} \\kappa \\left(\\eta^{\\alpha\\sigma}\\right)\n",
    "        \\left[ \n",
    "            \\partial_\\mu h_{\\sigma \\beta} \n",
    "            + \\partial_\\beta h_{\\mu\\sigma} \n",
    "            - \\partial_\\sigma h_{\\beta\\mu}\n",
    "        \\right]\n",
    "    \\\\\n",
    "    \\Gamma^\\alpha_{\\beta\\nu} \n",
    "        &= \n",
    "        \\frac{1}{2} \\kappa \\left( \\eta^{\\alpha\\sigma} \\right)\n",
    "        \\left[ \n",
    "            \\partial_\\nu h_{\\sigma \\beta} \n",
    "            + \\partial_\\beta h_{\\nu\\sigma} \n",
    "            - \\partial_\\sigma h_{\\beta\\nu}\n",
    "        \\right] \\\\\n",
    "\\end{aligned} \\right\\}\n",
    "$$"
   ]
  },
  {
   "cell_type": "markdown",
   "id": "f5f75f58",
   "metadata": {},
   "source": [
    "$$\n",
    "\\Rightarrow \\mathcal{R}^\\alpha_{\\beta\\mu\\nu} = \\frac{1}{2} \\kappa \\eta^{\\alpha\\sigma} \n",
    "\\left( \n",
    "    - \\partial_\\nu\n",
    "    \\left[ \n",
    "        \\partial_\\mu h_{\\sigma\\beta} \n",
    "        + \\partial_\\beta h_{\\mu\\sigma} \n",
    "        - \\partial_\\sigma h_{\\beta\\mu}\n",
    "    \\right]    \n",
    "    + \\partial_\\mu \n",
    "    \\left[ \n",
    "        \\partial_\\nu h_{\\sigma\\beta} \n",
    "        + \\partial_\\beta h_{\\nu\\sigma} \n",
    "        - \\partial_\\sigma h_{\\beta\\nu}\n",
    "    \\right]\n",
    "    + [...]\n",
    "\\right)\n",
    "$$"
   ]
  },
  {
   "cell_type": "markdown",
   "id": "123249af",
   "metadata": {},
   "source": [
    "If we now distribute, simplify, and group by like terms; \n",
    "\n",
    "$$\\begin{align*}\n",
    "\\mathcal{R}^\\alpha_{\\beta\\mu\\nu} \n",
    "    &= \\frac{\\kappa}{2} \\eta^{\\alpha\\sigma} \n",
    "        \\left( \n",
    "            \\left[ \n",
    "                \\partial_\\mu \\partial_\\nu       h_{\\sigma\\beta} \n",
    "                + \\partial_\\mu \\partial_\\beta   h_{\\nu\\sigma} \n",
    "                - \\partial_\\mu \\partial_\\sigma  h_{\\beta\\nu}\n",
    "            \\right]\n",
    "            -  \n",
    "            \\left[ \n",
    "                \\partial_\\nu \\partial_\\mu     h_{\\sigma\\beta} \n",
    "                + \\partial_\\nu \\partial_\\beta   h_{\\mu\\sigma} \n",
    "                - \\partial_\\nu \\partial_\\sigma  h_{\\beta\\mu}\n",
    "            \\right]    \n",
    "        \\right) + [...]\n",
    "    \\\\\n",
    "    &= \\frac{\\kappa}{2} \\eta^{\\alpha\\sigma}\n",
    "        \\left(\n",
    "            \\left[\n",
    "                \\partial_\\mu \\partial_\\nu h_{\\sigma\\beta} \n",
    "                - \\partial_\\nu \\partial_\\mu h_{\\sigma\\beta}\n",
    "            \\right]\n",
    "            +   \\left[\n",
    "                      \\partial_\\mu \\partial_\\beta h_{\\nu\\sigma} \n",
    "                    - \\partial_\\mu \\partial_\\sigma h_{\\beta\\nu}\n",
    "                \\right]\n",
    "            -   \\left[\n",
    "                      \\partial_\\nu \\partial_\\beta   h_{\\mu\\sigma} \n",
    "                    - \\partial_\\nu \\partial_\\sigma  h_{\\beta\\mu}\n",
    "                \\right]\n",
    "        \\right)\n",
    "        + (\\ldots)\n",
    "\\end{align*}$$"
   ]
  },
  {
   "cell_type": "markdown",
   "id": "3d692446",
   "metadata": {},
   "source": [
    "Since ordinary partial derivatives are commutative in these expressions are commutative,\n",
    "$\\left[ \\partial_\\mu \\partial_\\nu h_{\\sigma\\beta} - \\partial_\\nu \\partial_\\mu h_{\\sigma\\beta} \\right] = 0$, and \n",
    "\n",
    "$$\\begin{align*}\n",
    "\\mathcal{R}^\\alpha_{\\beta\\mu\\nu} \n",
    "    &= \\frac{\\kappa}{2} \\eta^{\\alpha\\sigma}\n",
    "        \\left[\n",
    "            \\left(\n",
    "                \\partial_\\mu \\partial_\\beta h_{\\nu\\sigma} \n",
    "                - \\partial_\\mu \\partial_\\sigma h_{\\beta\\nu}\n",
    "            \\right)\n",
    "            -\n",
    "            \\left(\n",
    "                \\partial_\\nu \\partial_\\beta h_{\\mu\\sigma} \n",
    "                - \\partial_\\nu \\partial_\\sigma h_{\\beta\\mu}\n",
    "            \\right)\n",
    "        \\right]\n",
    "        + (\\ldots)\n",
    "    \\\\\n",
    "    &= \\frac{\\kappa}{2} \\eta^{\\alpha\\sigma}\n",
    "        \\left[\n",
    "            \\partial_\\mu \\partial_\\beta h_{\\nu\\sigma} \n",
    "            - \\partial_\\mu \\partial_\\sigma h_{\\beta\\nu}\n",
    "            - \\partial_\\nu \\partial_\\beta h_{\\mu\\sigma} \n",
    "            + \\partial_\\nu \\partial_\\sigma h_{\\beta\\mu}\n",
    "        \\right]\n",
    "        + (\\ldots)\n",
    "    \\\\\n",
    "    &= \\frac{\\kappa}{2} \\eta^{\\alpha\\sigma}\n",
    "        \\left[\n",
    "            \\partial_\\beta \\partial_\\mu h_{\\nu\\sigma} \n",
    "            - \\partial_\\sigma \\partial_\\mu h_{\\beta\\nu}\n",
    "            - \\partial_\\beta \\partial_\\nu h_{\\mu\\sigma} \n",
    "            + \\partial_\\sigma \\partial_\\nu h_{\\beta\\mu}\n",
    "        \\right]\n",
    "        + (\\ldots)\n",
    "    \\\\\n",
    "    &= \\frac{\\kappa}{2} \\eta^{\\alpha\\sigma}\n",
    "        \\left[\n",
    "            \\partial_\\beta\n",
    "            \\left(\n",
    "                \\partial_\\mu h_{\\nu\\sigma} \n",
    "                - \\partial_\\nu h_{\\mu\\sigma} \n",
    "            \\right)\n",
    "            +\n",
    "            \\partial_\\sigma\n",
    "            \\left(\n",
    "                \\partial_\\nu h_{\\beta\\mu}\n",
    "                - \\partial_\\mu h_{\\beta\\nu}\n",
    "            \\right)\n",
    "        \\right]\n",
    "        + (\\ldots)\n",
    "\\end{align*}$$"
   ]
  },
  {
   "cell_type": "markdown",
   "id": "a43f23eb",
   "metadata": {},
   "source": [
    "Now, if we perform the Ricci contraction on the above, we arrive at \n",
    "\n",
    "$$\\begin{align*}\n",
    "    \\mathcal{R}_{\\mu\\nu} \n",
    "        &= \\mathcal{R}^{\\alpha}_{\\mu\\nu\\alpha} \n",
    "    \\\\\n",
    "        &= \\frac{\\kappa}{2} \\eta^{\\alpha\\sigma}\n",
    "        \\left[\n",
    "            \\partial_\\mu\n",
    "            \\left(\n",
    "                \\partial_\\nu h_{\\alpha\\sigma} \n",
    "                - \\partial_\\alpha h_{\\nu\\sigma} \n",
    "            \\right)\n",
    "            +\n",
    "            \\partial_\\sigma\n",
    "            \\left(\n",
    "                \\partial_\\alpha h_{\\mu\\nu}\n",
    "                - \\partial_\\nu h_{\\mu\\alpha}\n",
    "            \\right)\n",
    "        \\right]\n",
    "        + (\\ldots)\n",
    "    \\\\\n",
    "    &= \\frac{\\kappa}{2} \\eta^{\\alpha\\sigma}\n",
    "        \\left[\n",
    "            \\partial_\\mu \\partial_\\nu h_{\\alpha\\sigma} \n",
    "            - \\partial_\\mu \\partial_\\alpha h_{\\nu\\sigma} \n",
    "            + \\partial_\\sigma \\partial_\\alpha h_{\\mu\\nu}\n",
    "            - \\partial_\\sigma \\partial_\\nu h_{\\mu\\alpha}\n",
    "        \\right]\n",
    "        + (\\ldots)\n",
    "    \\\\\n",
    "    \\Rightarrow \\mathcal{R}_{\\mu\\nu} \n",
    "    &= \\frac{\\kappa}{2} \\eta^{\\alpha\\sigma}\n",
    "        \\left(\n",
    "            \\partial_\\mu \\partial_\\nu h_{\\alpha\\sigma} \n",
    "            + \\partial_\\sigma \\partial_\\alpha h_{\\mu\\nu}\n",
    "            - \\partial_\\alpha \\partial_\\mu  h_{\\nu\\sigma} \n",
    "            - \\partial_\\sigma \\partial_\\nu h_{\\mu\\alpha}\n",
    "        \\right)\n",
    "        + (\\ldots)\n",
    "\\end{align*}$$"
   ]
  },
  {
   "cell_type": "markdown",
   "id": "c1a585f7",
   "metadata": {},
   "source": [
    "We can further simplify this by distributing $\\eta^{\\alpha\\sigma}$ into \n",
    "choice locations within the above. \n",
    "\n",
    "$$\\begin{align*}\n",
    "    \\mathcal{R}_{\\mu\\nu}\n",
    "    &= \\frac{\\kappa}{2} \n",
    "        \\left(\n",
    "            \\partial_\\mu \\partial_\\nu \\eta^{\\alpha\\sigma} h_{\\alpha\\sigma}\n",
    "            + \\eta^{\\alpha\\sigma} \\partial_\\sigma \\partial_\\alpha h_{\\mu\\nu}\n",
    "            - \\eta^{\\alpha\\sigma} \\partial_\\alpha \\partial_\\mu  h_{\\nu\\sigma} \n",
    "            - \\eta^{\\alpha\\sigma} \\partial_\\sigma \\partial_\\nu h_{\\mu\\alpha}\n",
    "        \\right)\n",
    "        + \\ldots\n",
    "    \\\\\n",
    "    &= \\frac{\\kappa}{2} \n",
    "        \\left(\n",
    "            \\partial_\\mu \\partial_\\nu h \n",
    "            + \\partial^\\lambda \\partial_\\lambda h_{\\mu\\nu}\n",
    "            - \\partial^\\sigma \\partial_\\mu  h_{\\nu\\sigma} \n",
    "            - \\partial^\\alpha \\partial_\\nu h_{\\mu\\alpha}\n",
    "        \\right)\n",
    "        + \\ldots\n",
    "    \\\\\n",
    "    &= \\frac{\\kappa}{2} \n",
    "        \\left(\n",
    "            \\partial^\\lambda \\partial_\\lambda h_{\\mu\\nu}\n",
    "            + \\partial_\\mu \\partial_\\nu h \n",
    "            - \\partial_\\mu \\partial^\\sigma h_{\\nu\\sigma} \n",
    "            - \\partial_\\nu \\partial^\\alpha h_{\\mu\\alpha}\n",
    "        \\right)\n",
    "        + \\ldots\n",
    "\\end{align*}$$"
   ]
  },
  {
   "cell_type": "markdown",
   "id": "d94136ca",
   "metadata": {},
   "source": [
    "Now, we are able to use the given definition of the Einstein tensor \n",
    "$G_{\\mu\\nu} = \\mathcal{R}_{\\mu\\nu} - \\frac{1}{2} g_{\\mu\\nu} \\mathcal{R} $\n",
    "along with the scalar curvature identity $\\mathcal{R} = g^{\\mu\\nu}$,\n",
    "\n",
    "$$\\begin{align*}\n",
    "    \\mathcal{R}_{\\mu\\nu} - \\frac{1}{2} g_{\\mu\\nu} \\mathcal{R}\n",
    "        &= \\mathcal{R}_{\\mu\\nu} - \\frac{1}{2} g_{\\mu\\nu} g^{\\mu\\nu} \\mathcal{R}_{\\mu\\nu}\n",
    "        \\\\\n",
    "        &= \\frac{1}{2} \\mathcal{R}_{\\mu\\nu}\n",
    "        \\\\\n",
    "        &= \\frac{1}{2}\n",
    "            \\left[\n",
    "                \\frac{\\kappa}{2} \n",
    "                \\left(\n",
    "                    \\partial^\\lambda \\partial_\\lambda h_{\\mu\\nu}\n",
    "                    + \\partial_\\mu \\partial_\\nu h \n",
    "                    - \\partial_\\mu \\partial^\\sigma h_{\\nu\\sigma} \n",
    "                    - \\partial_\\nu \\partial^\\alpha h_{\\mu\\alpha}\n",
    "                    + \\ldots\n",
    "                \\right)\n",
    "            \\right]\n",
    "\\end{align*}$$\n",
    "\n",
    "At which point we have mostly recovered the lower-order terms from Eqn. 3.38, less\n",
    "some raising and lowering operations.  "
   ]
  },
  {
   "cell_type": "markdown",
   "id": "fd00a08c",
   "metadata": {},
   "source": [
    "# [23]\n",
    "\n",
    "Get $h_{\\mu\\nu}$ for sun and show that it satisfies the linearized equation, get geodesic equation for light from $h_{\\mu\\nu}$"
   ]
  },
  {
   "cell_type": "markdown",
   "id": "956b9f78",
   "metadata": {},
   "source": [
    "# [24] \n",
    "\n",
    "Reproduce figure 4.5 from pg 140 of the text on the deflection of light."
   ]
  },
  {
   "cell_type": "markdown",
   "id": "590b4df3",
   "metadata": {},
   "source": [
    "# [25]\n",
    "\n",
    "verify the solution of the scalar wave equation, the \"plane wave\" solution."
   ]
  },
  {
   "cell_type": "markdown",
   "id": "a9c50d59",
   "metadata": {},
   "source": [
    "# [26]\n",
    "\n",
    "Do Exercises 3, 4, and 5 in Section 3.1 of Ohanian.\n"
   ]
  },
  {
   "cell_type": "markdown",
   "id": "0ac5ba58",
   "metadata": {},
   "source": [
    "## §3.1 ex. 3\n",
    "\n",
    ">   Show that the gauge transformation (3.19) produces no change in $F_{\\mu\\nu}$.\n",
    ">\n",
    ">   $$ A^\\nu \\rightarrow A^\\nu + \\partial^\\nu \\Lambda \\tag{3.19} $$\n",
    ">\n",
    ">   given: \n",
    ">\n",
    ">   *   $$ F^{\\mu\\nu} \\equiv \\partial^\\mu A^\\nu - \\partial^\\nu A^\\mu \\tag{3.15} $$\n",
    ">   *   $\\Lambda$ is any arbitrary scalar function, the _gauge function_.  "
   ]
  },
  {
   "cell_type": "markdown",
   "id": "6b8ca2cf",
   "metadata": {},
   "source": [
    "## §3.1 ex. 4\n",
    "\n",
    ">   Show that for a wave propagating in the $z$-direction, Eqs. (3.24) and (3.20), \n",
    ">   with $j^\\nu = 0$, have the following linearly independent solutions:\n",
    ">\n",
    ">   $$ A^\\nu = \\epsilon_{(n)}^\\nu \\cos\\left(\\omega z - \\omega t\\right) \\tag{3.26}$$\n",
    ">\n",
    ">   where $\\epsilon_{(n)}^{\\nu} : n \\in \\{1, 2, 3\\}$ is one of the following vectors:\n",
    ">\n",
    ">   * $\\epsilon_{(1)}^\\nu = (0, 1, 0, 0)$\n",
    ">   * $\\epsilon_{(2)}^\\nu = (0, 0, 1, 0)$\n",
    ">   * $\\epsilon_{(3)}^\\nu = (1, 0, 0, 1)$\n",
    ">\n",
    ">   (Note :> The subscript $n$ has been enclosed in parentheses to indicate that it is \n",
    ">    not a tensor index; it is only a label that distinguishes between the four&ndash;\n",
    ">    vectors above.)\n",
    ">\n",
    ">   Show that any other solution of the type $\\cos\\left(\\omega z - \\omega t\\right)$\n",
    ">   can be written as a linear combination of the three solutions, with the \n",
    ">   _polarization vectors_ $\\epsilon_{(n)}^\\nu$ listed above. "
   ]
  },
  {
   "cell_type": "markdown",
   "id": "49ed8981",
   "metadata": {},
   "source": [
    "## §3.1 ex. 5\n",
    "\n",
    ">   Find the $\\mathbf{E}$ and $\\mathbf{B}$ fields for each of the solutions \n",
    ">   $\\epsilon_{(n)}^\\nu$, and show that the $\\epsilon_{(3)}^\\nu$ solution \n",
    ">   gives $\\mathbf{E} = \\mathbf{B} = 0$.\n",
    ">\n",
    ">   Hence, only the solutions with the first two polarization vectors $\\epsilon_{(1)}^\\nu$\n",
    ">   and $\\epsilon_{(2)}^\\nu$ have any physical significance. \n",
    ">\n",
    ">   These two polarization vectors correspond to the familiar two independent, \n",
    ">   perpendicular directions of polarization of an electromagnetic wave.  Show that\n",
    ">   the solution with the polarization vector $\\epsilon_{(3)}$\\nu$ can be\n",
    ">   completely eliminated by a gauge transformation, with $\\Lambda = (1/\\omega)\n",
    ">   \\sin\\left(\\omega z - \\omega t\\right)$, which leaves to $\\overline{A}^\\nu = 0$. "
   ]
  },
  {
   "cell_type": "markdown",
   "id": "b9bbd999",
   "metadata": {},
   "source": [
    "# [27]\n",
    "\n",
    "Compute the effect of a grav. wave traveling in the z-dir on a circle of masses arranged in the x-y plane."
   ]
  }
 ],
 "metadata": {
  "kernelspec": {
   "display_name": "SageMath 10.6",
   "language": "sage",
   "name": "SageMath-10.6"
  },
  "language_info": {
   "codemirror_mode": {
    "name": "ipython",
    "version": 3
   },
   "file_extension": ".py",
   "mimetype": "text/x-python",
   "name": "sage",
   "nbconvert_exporter": "python",
   "pygments_lexer": "ipython3",
   "version": "3.12.5"
  }
 },
 "nbformat": 4,
 "nbformat_minor": 5
}
