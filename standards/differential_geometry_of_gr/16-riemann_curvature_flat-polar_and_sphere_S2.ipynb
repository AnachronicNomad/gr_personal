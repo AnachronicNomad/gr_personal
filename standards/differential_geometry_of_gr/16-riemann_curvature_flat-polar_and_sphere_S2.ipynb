{
 "cells": [
  {
   "cell_type": "markdown",
   "metadata": {},
   "source": [
    "# [Std 16] - Calculate the Reimann curvature tensor for a flat space in polar coordinates and on the sphere S2."
   ]
  },
  {
   "cell_type": "markdown",
   "metadata": {},
   "source": []
  }
 ],
 "metadata": {
  "language_info": {
   "name": "python"
  }
 },
 "nbformat": 4,
 "nbformat_minor": 2
}
