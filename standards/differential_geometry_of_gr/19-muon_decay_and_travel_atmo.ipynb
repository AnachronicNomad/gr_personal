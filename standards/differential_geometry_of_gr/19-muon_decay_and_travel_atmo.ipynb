{
 "cells": [
  {
   "cell_type": "markdown",
   "metadata": {},
   "source": [
    "# [Std 19] - You watch a muon speed to earth with energy 100 GeV. How long will it take to decay? to reach the ground from the upper atmosphere?"
   ]
  },
  {
   "cell_type": "markdown",
   "metadata": {},
   "source": []
  }
 ],
 "metadata": {
  "language_info": {
   "name": "python"
  }
 },
 "nbformat": 4,
 "nbformat_minor": 2
}
