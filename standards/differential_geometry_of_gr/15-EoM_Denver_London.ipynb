{
 "cells": [
  {
   "cell_type": "markdown",
   "metadata": {},
   "source": [
    "# [Std 15] - Find EoM for and solve it for Denver to London."
   ]
  },
  {
   "cell_type": "code",
   "execution_count": null,
   "metadata": {},
   "outputs": [],
   "source": [
    "########\n",
    "## Env Setup\n",
    "########\n",
    "%load_ext autoreload\n",
    "%autoreload complete \n",
    "\n",
    "%load_ext Cython\n",
    "\n",
    "%display latex\n",
    "\n",
    "################\n",
    "\n",
    "from sage.all import *\n",
    "\n",
    "import numpy as np\n",
    "np.random.seed(1_618_033)\n",
    "\n",
    "################\n",
    "\n",
    "Parallelism().set(nproc=8)\n",
    "version()\n"
   ]
  },
  {
   "cell_type": "code",
   "execution_count": 7,
   "metadata": {},
   "outputs": [],
   "source": [
    "S2 = manifolds.Sphere(2)\n",
    "\n",
    "coords = S2.spherical_coordinates()\n",
    "\n"
   ]
  },
  {
   "cell_type": "code",
   "execution_count": null,
   "metadata": {},
   "outputs": [],
   "source": [
    "# coordinate transform from Lat/Long to Spherical Coords of S2\n",
    "\n",
    "denver_latlong = (39.73915, -104.9847)\n",
    "london_latlong = (51.50853, -0.12574)\n"
   ]
  }
 ],
 "metadata": {
  "kernelspec": {
   "display_name": "SageMath 10.5",
   "language": "sage",
   "name": "SageMath-10.5"
  },
  "language_info": {
   "codemirror_mode": {
    "name": "ipython",
    "version": 3
   },
   "file_extension": ".py",
   "mimetype": "text/x-python",
   "name": "python",
   "nbconvert_exporter": "python",
   "pygments_lexer": "ipython3",
   "version": "3.12.5"
  }
 },
 "nbformat": 4,
 "nbformat_minor": 2
}
