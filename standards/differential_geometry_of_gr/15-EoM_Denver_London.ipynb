{
 "cells": [
  {
   "cell_type": "markdown",
   "metadata": {},
   "source": [
    "# [Std 15] - Find EoM for and solve it for Denver to London."
   ]
  },
  {
   "cell_type": "code",
   "execution_count": 1,
   "metadata": {},
   "outputs": [
    {
     "data": {
      "text/html": [
       "<html>\\(\\displaystyle \\verb|SageMath|\\verb| |\\verb|version|\\verb| |\\verb|10.6,|\\verb| |\\verb|Release|\\verb| |\\verb|Date:|\\verb| |\\verb|2025-03-31|\\)</html>"
      ],
      "text/latex": [
       "$\\displaystyle \\verb|SageMath|\\verb| |\\verb|version|\\verb| |\\verb|10.6,|\\verb| |\\verb|Release|\\verb| |\\verb|Date:|\\verb| |\\verb|2025-03-31|$"
      ],
      "text/plain": [
       "'SageMath version 10.6, Release Date: 2025-03-31'"
      ]
     },
     "execution_count": 1,
     "metadata": {},
     "output_type": "execute_result"
    }
   ],
   "source": [
    "########\n",
    "## Env Setup\n",
    "########\n",
    "%load_ext autoreload\n",
    "%autoreload complete \n",
    "\n",
    "%load_ext Cython\n",
    "\n",
    "%display latex\n",
    "\n",
    "################\n",
    "\n",
    "from sage.all import *\n",
    "\n",
    "import numpy as np\n",
    "np.random.seed(1_618_033)\n",
    "\n",
    "################\n",
    "\n",
    "#Parallelism().set(nproc=8)\n",
    "version()\n"
   ]
  },
  {
   "cell_type": "markdown",
   "metadata": {},
   "source": [
    "---"
   ]
  },
  {
   "cell_type": "code",
   "execution_count": 2,
   "metadata": {},
   "outputs": [],
   "source": [
    "########\n",
    "## Geometry & Discretization\n",
    "##    a.k.a. \"Pick a Coordinate System\"\n",
    "########\n",
    "\n",
    "var(\"R\")\n",
    "\n",
    "# create a surface manifold of the sphere, embedded in Euclidean R^3 \n",
    "R3 = EuclideanSpace(3)\n",
    "S2 = Manifold(2, 'S^2', latex_name=\"{\\mathbb{S}^2}_R\", ambient=R3)\n",
    "\n",
    "cartesian.<x,y,z> = R3.cartesian_coordinates()\n"
   ]
  },
  {
   "cell_type": "code",
   "execution_count": 3,
   "metadata": {},
   "outputs": [
    {
     "name": "stdout",
     "output_type": "stream",
     "text": [
      "Chart (S^2, (θ, φ))\n"
     ]
    },
    {
     "data": {
      "text/html": [
       "<html>\\(\\displaystyle {\\theta} :\\ \\left( -\\frac{1}{2} \\, \\pi , \\frac{1}{2} \\, \\pi \\right) ;\\quad {\\phi} :\\ \\left[ 0 , 2 \\, \\pi \\right] \\text{(periodic)}\\)</html>"
      ],
      "text/latex": [
       "$\\displaystyle {\\theta} :\\ \\left( -\\frac{1}{2} \\, \\pi , \\frac{1}{2} \\, \\pi \\right) ;\\quad {\\phi} :\\ \\left[ 0 , 2 \\, \\pi \\right] \\text{(periodic)}$"
      ],
      "text/plain": [
       "θ: (-1/2*pi, 1/2*pi); φ: [0, 2*pi] (periodic)"
      ]
     },
     "execution_count": 3,
     "metadata": {},
     "output_type": "execute_result"
    }
   ],
   "source": [
    "\n",
    "# define a coordinate system mapping, in the dimension of the surface manifold\n",
    "spherical.<θ,φ> = S2.chart(r'θ:(-pi/2,pi/2):\\theta φ:[0,2*pi):periodic:\\phi')\n",
    "\n",
    "# let's also just go ahead and make this the default chart. \n",
    "S2.set_default_chart(spherical)\n",
    "\n",
    "g = S2.metric('g')\n",
    "g[0,0], g[1,1] = R^2, (R^2 * (sin(θ)^2))\n",
    "\n",
    "g.display()\n",
    "\n",
    "print(spherical)\n",
    "spherical.coord_range()\n"
   ]
  },
  {
   "cell_type": "markdown",
   "metadata": {},
   "source": [
    "In this case, we have defined a mapping of the basis vectors on the surface of the 2-Sphere (a _Chart_); with azimuthal angle in $\\theta$, and inclination angle $\\phi$ from the equator.  That is, the equator will have inclination angle $\\phi=0$, and is periodic in $\\theta \\in [0, 2\\pi)$.  We will also choose the convention that the \"North Pole\" of $\\mathcal{S}^2$ is located at $\\phi = -\\frac{\\pi}{2}$, to preserve the context of \"negative sign is counter-clockwise\".\n",
    "\n",
    "Since we have defined a symbolic variable radius $R$, points are effectively evaluated on the unit 2-Sphere ($R=1$).  We will instantiate a value for $R$ later; for our purposes of calculating path length $\\mathrm{d}s$ here, $R \\approx 6371\\ [\\mathrm{km}]$. \n",
    "\n",
    "Now, we need to define coordinate mappings, from the latitudinal and longitudinal geographic coordinate system, and the Cartesian coordinate system in Euclidean space, to the coordinate mapping we have defined on the 2-Sphere manifold surface.  Accordingly, latitudes are recorded with $+90^\\circ$ at the \"North Pole\", $-90^\\circ$ at the \"South Pole\"; while longitudes are recorded with negative sign West (clockwise along equator w.r.t. Prime Meridian from Observer at North Pole), and positive sign for East (CCW on Equator w.r.t. PM from NP observer). \n",
    "\n",
    "In geographic coordinate systems, longitude is denoted with $\\lambda$.  While latitudinal inclination from the equator is _also_ normally denoted $\\phi$, we will instead use $l$. "
   ]
  },
  {
   "cell_type": "code",
   "execution_count": 4,
   "metadata": {},
   "outputs": [
    {
     "data": {
      "text/html": [
       "<html>\\(\\displaystyle \\left({\\mathbb{S}^2}_R,(𝛌, l)\\right) \\rightarrow \\left({\\mathbb{S}^2}_R,({\\theta}, {\\phi})\\right)\\)</html>"
      ],
      "text/latex": [
       "$\\displaystyle \\left({\\mathbb{S}^2}_R,(𝛌, l)\\right) \\rightarrow \\left({\\mathbb{S}^2}_R,({\\theta}, {\\phi})\\right)$"
      ],
      "text/plain": [
       "Change of coordinates from Chart (S^2, (𝛌, l)) to Chart (S^2, (θ, φ))"
      ]
     },
     "execution_count": 4,
     "metadata": {},
     "output_type": "execute_result"
    }
   ],
   "source": [
    "latlong.<𝛌,l> = S2.chart(r'𝛌:[-180,180] l:[-90,90]')\n",
    "\n",
    "latlong.transition_map(\n",
    "    spherical,\n",
    "    [\n",
    "        (pi/2) + ((-np.pi / 180.) * l),     # latitude to φ\n",
    "        (np.pi / 180.) * 𝛌,                 # longitude to θ\n",
    "    ]\n",
    ")\n"
   ]
  },
  {
   "cell_type": "markdown",
   "metadata": {},
   "source": [
    "Then, we may proceed to define the locations of both Denver and London, as Points on the Manifold, in the geographic coordinate system.  Via the coordinate transition mappings defined above, we may then generate the corresponding points on the manifold $\\mathcal{S}^2$ in our surface coordinate system $<\\theta, \\phi>$."
   ]
  },
  {
   "cell_type": "code",
   "execution_count": 5,
   "metadata": {},
   "outputs": [
    {
     "name": "stdout",
     "output_type": "stream",
     "text": [
      "Point Denver on the 2-dimensional differentiable submanifold S^2 immersed in the Euclidean space E^3\n"
     ]
    },
    {
     "data": {
      "text/html": [
       "<html>\\(\\displaystyle \\left(0.5 \\, \\pi - 0.6935790094439046, -1.83232867921849\\right)\\)</html>"
      ],
      "text/latex": [
       "$\\displaystyle \\left(0.5 \\, \\pi - 0.6935790094439046, -1.83232867921849\\right)$"
      ],
      "text/plain": [
       "(0.5*pi - 0.6935790094439046, -1.83232867921849)"
      ]
     },
     "execution_count": 5,
     "metadata": {},
     "output_type": "execute_result"
    }
   ],
   "source": [
    "denver = S2.point( (-104.9847, 39.73915), chart=latlong, name=\"Denver\")\n",
    "print(denver)\n",
    "\n",
    "spherical(denver)\n"
   ]
  },
  {
   "cell_type": "code",
   "execution_count": 6,
   "metadata": {},
   "outputs": [
    {
     "name": "stdout",
     "output_type": "stream",
     "text": [
      "Point London on the 2-dimensional differentiable submanifold S^2 immersed in the Euclidean space E^3\n"
     ]
    },
    {
     "data": {
      "text/html": [
       "<html>\\(\\displaystyle \\left(0.5 \\, \\pi - 0.8989934413622749, -0.00219457700145767\\right)\\)</html>"
      ],
      "text/latex": [
       "$\\displaystyle \\left(0.5 \\, \\pi - 0.8989934413622749, -0.00219457700145767\\right)$"
      ],
      "text/plain": [
       "(0.5*pi - 0.8989934413622749, -0.00219457700145767)"
      ]
     },
     "execution_count": 6,
     "metadata": {},
     "output_type": "execute_result"
    }
   ],
   "source": [
    "london = S2.point( (-0.12574, 51.50853), chart=latlong, name=\"London\")\n",
    "print(london)\n",
    "\n",
    "spherical(london)\n"
   ]
  },
  {
   "cell_type": "markdown",
   "metadata": {},
   "source": [
    "---"
   ]
  },
  {
   "cell_type": "markdown",
   "metadata": {},
   "source": [
    "Here, we now need to solve the homogeneous Geodesic Equation for the minimal distance between these two points.  This equation serves as our \"Equation of Motion (EoM)\" between the two points, and is related to the Parallel Transport problem (and associated transport of the tangent vector space at every point along the geodesic curve between the two points).  Then, we may perform a contraction over the metric to arrive at a function for normed length (differential length along curve) in variables $\\left(\\theta, \\phi\\right)$, that we may numerically integrate over (in terms of the implicit variable $t$), to arrive at an expression for the unit distance length along this geodesic curve connecting the two points, parameterized by constant $R$ (the radius of our $n$-Sphere). "
   ]
  },
  {
   "cell_type": "code",
   "execution_count": 7,
   "metadata": {},
   "outputs": [
    {
     "name": "stdout",
     "output_type": "stream",
     "text": [
      "Tangent vector at Point Denver on the 2-dimensional differentiable submanifold S^2 immersed in the Euclidean space E^3\n"
     ]
    },
    {
     "data": {
      "text/html": [
       "<html>\\(\\displaystyle \\left( 0.5 \\, \\pi - 0.8989934413622749 \\right) \\frac{\\partial}{\\partial {\\theta} } -0.00219457700145767 \\frac{\\partial}{\\partial {\\phi} }\\)</html>"
      ],
      "text/latex": [
       "$\\displaystyle \\left( 0.5 \\, \\pi - 0.8989934413622749 \\right) \\frac{\\partial}{\\partial {\\theta} } -0.00219457700145767 \\frac{\\partial}{\\partial {\\phi} }$"
      ],
      "text/plain": [
       "(0.5*pi - 0.8989934413622749) ∂/∂θ - 0.00219457700145767 ∂/∂φ"
      ]
     },
     "execution_count": 7,
     "metadata": {},
     "output_type": "execute_result"
    }
   ],
   "source": [
    "########\n",
    "## Apply the Physical Model and Calculate\n",
    "##      aka; \"Analysis, then Plug'n'Chug\"\n",
    "########\n",
    "\n",
    "var('t')    # implicit variable `t` (for \"time\")\n",
    "## ^for our purposes, this is also called an \"affine parameter\"\n",
    "##       \n",
    "\n",
    "## Construct a vector on the surface (in the tangent space),\n",
    "## pointing from Denver to London in the basis coordinate frame.\n",
    "## Think of a direction vector (i.e., a _velocity_) embedded on \n",
    "## the surface pointing from Denver to London, at the Point on S2 of Denver. \n",
    "\n",
    "v = S2.tangent_vector(denver,   # point\n",
    "                      (         # direction, ```London - Denver```\n",
    "                          spherical(london) + \n",
    "                          (-1 * spherical(denver))\n",
    "                      ), \n",
    ")\n",
    "\n",
    "print(v)\n",
    "v.display()\n"
   ]
  },
  {
   "cell_type": "code",
   "execution_count": 8,
   "metadata": {},
   "outputs": [
    {
     "name": "stdout",
     "output_type": "stream",
     "text": [
      "Geodesic geodesic in the 2-dimensional differentiable submanifold S^2 immersed in the Euclidean space E^3 equipped with Riemannian metric g on the 2-dimensional differentiable submanifold S^2 immersed in the Euclidean space E^3, and integrated over the Real interval (tmin, tmax) as a solution to the following geodesic equations, written with respect to Chart (S^2, (θ, φ)):\n",
      "\n",
      "Initial point: Point Denver on the 2-dimensional differentiable submanifold S^2 immersed in the Euclidean space E^3 with coordinates [0.5*pi - 0.6935790094439046, -1.83232867921849] with respect to Chart (S^2, (θ, φ))\n",
      "Initial tangent vector: Tangent vector at Point Denver on the 2-dimensional differentiable submanifold S^2 immersed in the Euclidean space E^3 with components [0.5*pi - 0.8989934413622749, -0.00219457700145767] with respect to Chart (S^2, (θ, φ))\n",
      "\n",
      "d(θ)/dt = Dθ\n",
      "d(φ)/dt = Dφ\n",
      "d(Dθ)/dt = Dφ^2*cos(θ)*sin(θ)\n",
      "d(Dφ)/dt = -2*Dθ*Dφ*cos(θ)/sin(θ)\n",
      "\n"
     ]
    },
    {
     "data": {
      "text/html": [
       "<html>\\(\\displaystyle \\left[\\left[\\mathit{Dφ}^{2} \\cos\\left({\\theta}\\right) \\sin\\left({\\theta}\\right), -\\frac{2 \\, \\mathit{Dθ} \\mathit{Dφ} \\cos\\left({\\theta}\\right)}{\\sin\\left({\\theta}\\right)}\\right], \\mbox{Tangent vector at Point Denver on the 2-dimensional differentiable submanifold S^2 immersed in the Euclidean space E^3}, \\left({\\mathbb{S}^2}_R,({\\theta}, {\\phi})\\right)\\right]\\)</html>"
      ],
      "text/latex": [
       "$\\displaystyle \\left[\\left[\\mathit{Dφ}^{2} \\cos\\left({\\theta}\\right) \\sin\\left({\\theta}\\right), -\\frac{2 \\, \\mathit{Dθ} \\mathit{Dφ} \\cos\\left({\\theta}\\right)}{\\sin\\left({\\theta}\\right)}\\right], \\mbox{Tangent vector at Point Denver on the 2-dimensional differentiable submanifold S^2 immersed in the Euclidean space E^3}, \\left({\\mathbb{S}^2}_R,({\\theta}, {\\phi})\\right)\\right]$"
      ],
      "text/plain": [
       "[[Dφ^2*cos(θ)*sin(θ), -2*Dθ*Dφ*cos(θ)/sin(θ)],\n",
       " Tangent vector at Point Denver on the 2-dimensional differentiable submanifold S^2 immersed in the Euclidean space E^3,\n",
       " Chart (S^2, (θ, φ))]"
      ]
     },
     "execution_count": 8,
     "metadata": {},
     "output_type": "execute_result"
    }
   ],
   "source": [
    "[s, s_min, s_max] = var('t tmin tmax')\n",
    "\n",
    "geodesic = S2.integrated_geodesic(\n",
    "    g,\n",
    "    (s, s_min, s_max),\n",
    "    v,\n",
    "    chart=spherical,\n",
    "    name=\"geodesic\"\n",
    ")\n",
    "\n",
    "geodesic.system(verbose=True)\n"
   ]
  },
  {
   "cell_type": "code",
   "execution_count": 9,
   "metadata": {},
   "outputs": [
    {
     "name": "stdout",
     "output_type": "stream",
     "text": [
      "Riem(g)^θ_φθφ = sin(θ)^2 \n",
      "Riem(g)^θ_φφθ = -sin(θ)^2 \n",
      "Riem(g)^φ_θθφ = -1 \n",
      "Riem(g)^φ_θφθ = 1 \n"
     ]
    }
   ],
   "source": [
    "Γ = g.connection()\n",
    "\n",
    "𝓡 = Γ.riemann()\n",
    "\n",
    "print(𝓡.display_comp())\n"
   ]
  },
  {
   "cell_type": "markdown",
   "metadata": {},
   "source": [
    "#| TODO :> compute Riemann Curvature tensor by hand here"
   ]
  },
  {
   "cell_type": "markdown",
   "metadata": {},
   "source": [
    "Before solving the integrated geodesic at this point with given velocity, we also need to estimate the value of implicit variable $t$ at which `Point London` is intercepted on the curve. \n",
    "\n",
    "**TODO :>**"
   ]
  },
  {
   "cell_type": "code",
   "execution_count": 10,
   "metadata": {},
   "outputs": [
    {
     "ename": "ValueError",
     "evalue": "numerical values should be provided for each of the parameters [tmax, tmin]",
     "output_type": "error",
     "traceback": [
      "\u001b[31m---------------------------------------------------------------------------\u001b[39m",
      "\u001b[31mValueError\u001b[39m                                Traceback (most recent call last)",
      "\u001b[36mCell\u001b[39m\u001b[36m \u001b[39m\u001b[32mIn[10]\u001b[39m\u001b[32m, line 3\u001b[39m\n\u001b[32m      1\u001b[39m 𝚫_h = RealNumber(\u001b[33m'\u001b[39m\u001b[33m5e-3\u001b[39m\u001b[33m'\u001b[39m)\n\u001b[32m----> \u001b[39m\u001b[32m3\u001b[39m sol = \u001b[43mgeodesic\u001b[49m\u001b[43m.\u001b[49m\u001b[43msolve\u001b[49m\u001b[43m(\u001b[49m\n\u001b[32m      4\u001b[39m \u001b[43m    \u001b[49m\u001b[43mstep\u001b[49m\u001b[43m=\u001b[49m\u001b[43m𝚫_h\u001b[49m\u001b[43m,\u001b[49m\n\u001b[32m      5\u001b[39m \u001b[43m    \u001b[49m\u001b[43mmethod\u001b[49m\u001b[43m=\u001b[49m\u001b[33;43m'\u001b[39;49m\u001b[33;43mrk4imp\u001b[39;49m\u001b[33;43m'\u001b[39;49m\u001b[43m,\u001b[49m\n\u001b[32m      6\u001b[39m \u001b[43m    \u001b[49m\u001b[43mparameters_values\u001b[49m\u001b[43m=\u001b[49m\u001b[43m{\u001b[49m\n\u001b[32m      7\u001b[39m \u001b[43m        \u001b[49m\u001b[33;43m'\u001b[39;49m\u001b[33;43mdenver_to_london\u001b[39;49m\u001b[33;43m'\u001b[39;49m\u001b[43m:\u001b[49m\u001b[43m \u001b[49m\u001b[43m{\u001b[49m\n\u001b[32m      8\u001b[39m \u001b[43m            \u001b[49m\u001b[43ms_min\u001b[49m\u001b[43m:\u001b[49m\u001b[43m \u001b[49m\u001b[43mInteger\u001b[49m\u001b[43m(\u001b[49m\u001b[32;43m0\u001b[39;49m\u001b[43m)\u001b[49m\u001b[43m,\u001b[49m\n\u001b[32m      9\u001b[39m \u001b[43m            \u001b[49m\u001b[43ms_max\u001b[49m\u001b[43m:\u001b[49m\u001b[43m \u001b[49m\u001b[43mInteger\u001b[49m\u001b[43m(\u001b[49m\u001b[32;43m2\u001b[39;49m\u001b[43m)\u001b[49m\u001b[43m*\u001b[49m\u001b[43mnp\u001b[49m\u001b[43m.\u001b[49m\u001b[43mpi\u001b[49m\u001b[43m,\u001b[49m\n\u001b[32m     10\u001b[39m \n\u001b[32m     11\u001b[39m \u001b[43m        \u001b[49m\u001b[43m}\u001b[49m\n\u001b[32m     12\u001b[39m \u001b[43m    \u001b[49m\u001b[43m}\u001b[49m\n\u001b[32m     13\u001b[39m \u001b[43m)\u001b[49m\n\u001b[32m     15\u001b[39m sol\n",
      "\u001b[36mFile \u001b[39m\u001b[32m/private/var/tmp/sage-10.6-current/local/var/lib/sage/venv-python3.12.5/lib/python3.12/site-packages/sage/manifolds/differentiable/integrated_curve.py:1107\u001b[39m, in \u001b[36mIntegratedCurve.solve\u001b[39m\u001b[34m(self, step, method, solution_key, parameters_values, verbose, **control_param)\u001b[39m\n\u001b[32m   1105\u001b[39m \u001b[38;5;28;01mif\u001b[39;00m \u001b[38;5;28mself\u001b[39m._parameters:\n\u001b[32m   1106\u001b[39m     \u001b[38;5;28;01mif\u001b[39;00m parameters_values \u001b[38;5;129;01mis\u001b[39;00m \u001b[38;5;28;01mNone\u001b[39;00m \u001b[38;5;129;01mor\u001b[39;00m \u001b[38;5;28mlen\u001b[39m(parameters_values) != \u001b[38;5;28mlen\u001b[39m(\u001b[38;5;28mself\u001b[39m._parameters):\n\u001b[32m-> \u001b[39m\u001b[32m1107\u001b[39m         \u001b[38;5;28;01mraise\u001b[39;00m \u001b[38;5;167;01mValueError\u001b[39;00m(\u001b[33m\"\u001b[39m\u001b[33mnumerical values should be \u001b[39m\u001b[33m\"\u001b[39m +\n\u001b[32m   1108\u001b[39m                          \u001b[33m\"\u001b[39m\u001b[33mprovided for each of the \u001b[39m\u001b[33m\"\u001b[39m +\n\u001b[32m   1109\u001b[39m                          \u001b[33m\"\u001b[39m\u001b[33mparameters \u001b[39m\u001b[33m\"\u001b[39m\n\u001b[32m   1110\u001b[39m                          \u001b[33m\"\u001b[39m\u001b[38;5;132;01m{}\u001b[39;00m\u001b[33m\"\u001b[39m.format(\u001b[38;5;28msorted\u001b[39m(\u001b[38;5;28mself\u001b[39m._parameters, key=\u001b[38;5;28mstr\u001b[39m)))\n\u001b[32m   1111\u001b[39m     \u001b[38;5;28;01mfor\u001b[39;00m key \u001b[38;5;129;01min\u001b[39;00m parameters_values:\n\u001b[32m   1112\u001b[39m         \u001b[38;5;66;03m# Get numerical values in case some parameters values\u001b[39;00m\n\u001b[32m   1113\u001b[39m         \u001b[38;5;66;03m# contain expressions such as pi; will raise error if\u001b[39;00m\n\u001b[32m   1114\u001b[39m         \u001b[38;5;66;03m# any element of parameters_values is not numerical\u001b[39;00m\n\u001b[32m   1115\u001b[39m         parameters_values[key] = numerical_approx(parameters_values[key])\n",
      "\u001b[31mValueError\u001b[39m: numerical values should be provided for each of the parameters [tmax, tmin]"
     ]
    }
   ],
   "source": [
    "𝚫_h = 5e-3\n",
    "\n",
    "sol = geodesic.solve(\n",
    "    step=𝚫_h,\n",
    "    method='rk4imp',\n",
    "    parameters_values={\n",
    "        'denver_to_london': {\n",
    "            s_min: 0,\n",
    "            s_max: 2*np.pi,\n",
    "            \n",
    "        }\n",
    "    }\n",
    ")\n",
    "\n",
    "sol\n"
   ]
  },
  {
   "cell_type": "markdown",
   "metadata": {},
   "source": [
    "---"
   ]
  },
  {
   "cell_type": "markdown",
   "metadata": {},
   "source": [
    "To fully demonstrate proficiency, we can also solve the Geodesic Equation as a system of equations, given as:\n",
    "\n",
    "$$ \\frac{\\partial^2}{\\partial s^2} \\mathbf{x}^\\mu + \\mathbf{\\Gamma}^\\mu_{\\alpha \\beta} \\frac{\\partial \\mathbf{x}^\\alpha}{\\partial s} \\frac{\\partial \\mathbf{x}^\\beta}{\\partial s} = 0 $$\n",
    "\n",
    "where $s(t)$ is a \"scalar parameter of motion (e.g. the proper time)\", parameterized by the the coordinate time $t$. \n",
    "\n",
    "For our purposes on the 2-Sphere, "
   ]
  },
  {
   "cell_type": "markdown",
   "metadata": {},
   "source": [
    "---"
   ]
  },
  {
   "cell_type": "code",
   "execution_count": null,
   "metadata": {},
   "outputs": [],
   "source": [
    "########\n",
    "##  Visualize and Elaborate\n",
    "##      aka; \"Plot and Explain\"\n",
    "########\n",
    "\n",
    "## 3D plot of the 2-Sphere\n",
    "\n",
    "\n",
    "## Create a \"graticule\" representation of the longitudinal/latitudinal lines on the globe\n",
    "## This mapping essentially transforms coordinates in our basis of S^2 to R^3. \n",
    "##  n.b. :> this mapping is also known as the \"Euclid Embedding\"\n",
    "𝚽 = S2.diff_map(R3, \n",
    "                {\n",
    "                    (spherical, cartesian): \n",
    "                    [\n",
    "                        sin(θ)*cos(φ), \n",
    "                        sin(θ)*sin(φ), \n",
    "                        cos(θ)\n",
    "                    ]\n",
    "                })\n",
    "graticule = spherical.plot(cartesian, mapping=𝚽, \n",
    "                           number_values=23, \n",
    "                           color='black', label_axes=False)\n",
    "\n",
    "########\n",
    "\n",
    "\n",
    "\n",
    "########\n",
    "\n",
    "show(\n",
    "    (\n",
    "        (graticule + sphere(opacity=0.5)) + # \"Earth\"\n",
    "        denver.plot(chart=cartesian, mapping=𝚽) + london.plot(chart=cartesian, mapping=𝚽) #+\n",
    "        #geodesic \n",
    "        #v.plot(chart=cartesian, mapping=𝚽)\n",
    "    ), \n",
    "    frame=False,\n",
    "    online=True\n",
    ")\n"
   ]
  },
  {
   "cell_type": "markdown",
   "metadata": {},
   "source": []
  }
 ],
 "metadata": {
  "kernelspec": {
   "display_name": "SageMath 10.6",
   "language": "sage",
   "name": "SageMath-10.6"
  },
  "language_info": {
   "codemirror_mode": {
    "name": "ipython",
    "version": 3
   },
   "file_extension": ".py",
   "mimetype": "text/x-python",
   "name": "python",
   "nbconvert_exporter": "python",
   "pygments_lexer": "ipython3",
   "version": "3.12.5"
  }
 },
 "nbformat": 4,
 "nbformat_minor": 2
}
