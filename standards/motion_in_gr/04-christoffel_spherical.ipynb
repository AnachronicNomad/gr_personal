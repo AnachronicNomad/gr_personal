{
 "cells": [
  {
   "cell_type": "markdown",
   "metadata": {},
   "source": [
    "# [Std 04] - calculate Christoffel symbols in spherical coords"
   ]
  },
  {
   "cell_type": "code",
   "execution_count": 1,
   "metadata": {
    "vscode": {
     "languageId": "plaintext"
    }
   },
   "outputs": [],
   "source": [
    "%display latex\n",
    "#Parallelism().set(nproc=10)\n",
    "\n",
    "import numpy as np\n",
    "import scipy\n",
    "from numpy import r_\n",
    "\n",
    "from sage.manifolds.operators import *"
   ]
  },
  {
   "cell_type": "markdown",
   "metadata": {},
   "source": [
    "First, let's define a Euclidean space in spherical coordinates, over the variables $r$, $\\theta$, and $\\phi$, with accompanying limits on the domain.  This is accomplished by identifying the accompanying manifold for the problem statement $\\mathcal{M}$ over the reals in $\\mathbb{R}^3$; which is a pseudo-Riemannian structure with vector magnitude-conservation (length invariance under linear transformation), and can be considered continuous and continuously differentiable (i.e., _smooth_ in $\\mathcal{C}^\\infty$) at all topological points on the manifold. \n",
    "\n",
    "We further introduce a \"Chart\", surjectively mapping Cartesian coordinates into the spherical coordinates (azimuthal $\\phi$, $\\cos\\theta = \\hat{\\mathbf{z}}$)."
   ]
  },
  {
   "cell_type": "code",
   "execution_count": 2,
   "metadata": {
    "vscode": {
     "languageId": "plaintext"
    }
   },
   "outputs": [
    {
     "data": {
      "text/html": [
       "<html>\\(\\displaystyle \\left(M,(r, {\\theta}, {\\phi})\\right)\\)</html>"
      ],
      "text/latex": [
       "$\\displaystyle \\left(M,(r, {\\theta}, {\\phi})\\right)$"
      ],
      "text/plain": [
       "Chart (M, (r, θ, φ))"
      ]
     },
     "execution_count": 2,
     "metadata": {},
     "output_type": "execute_result"
    }
   ],
   "source": [
    "M = Manifold(3, 'M')\n",
    "M.set_calculus_method('sympy')\n",
    "spherical_coords.<r, θ, φ> = M.chart(r'r:(0,+oo) θ:(0,pi):\\theta φ:(0,2*pi):\\phi')\n",
    "\n",
    "spherical_coords"
   ]
  },
  {
   "cell_type": "markdown",
   "metadata": {},
   "source": [
    "To be complete, let's also check out the coordinate basis frames.  These are in order of its coordinate frame (a tuple of its basis and partials), it's basis frame (in spherical coordinates), which is derived as a Chart from the Cartesian coordinates.  Coordinate frames matter in GR, we will address that later. "
   ]
  },
  {
   "cell_type": "code",
   "execution_count": 3,
   "metadata": {},
   "outputs": [
    {
     "data": {
      "text/html": [
       "<html>\\(\\displaystyle \\left(M, \\left(\\frac{\\partial}{\\partial r },\\frac{\\partial}{\\partial {\\theta} },\\frac{\\partial}{\\partial {\\phi} }\\right)\\right)\\)</html>"
      ],
      "text/latex": [
       "$\\displaystyle \\left(M, \\left(\\frac{\\partial}{\\partial r },\\frac{\\partial}{\\partial {\\theta} },\\frac{\\partial}{\\partial {\\phi} }\\right)\\right)$"
      ],
      "text/plain": [
       "Coordinate frame (M, (∂/∂r,∂/∂θ,∂/∂φ))"
      ]
     },
     "execution_count": 3,
     "metadata": {},
     "output_type": "execute_result"
    }
   ],
   "source": [
    "coord_frame = M.frames()[0]\n",
    "coord_frame"
   ]
  },
  {
   "cell_type": "markdown",
   "metadata": {},
   "source": [
    "* c.ref. https://math.stackexchange.com/q/1985964 and https://mathworld.wolfram.com/SphericalCoordinates.html; order of the parameter definitions matter!\n",
    "\n",
    "* Given a curvilinear world-line path in spherical coordinates $ds^2 = dr^2 + r\\ d \\theta^2 + r^2 \\sin^2 \\theta\\ d\\phi^2$, we define a metric\n",
    "    $$ g^{ij} = \\begin{pmatrix} 1 & 0 & 0 \\\\ 0 & r^2 & 0 \\\\ 0 & 0 & r^2 \\sin^2\\theta \\end{pmatrix}$$\n",
    "\n",
    "* We also define the Christoffel symbols in summation-notation: $$ \\Gamma_{jk}^{i} \\equiv \\frac{1}{2} \\left( g^{-1} \\right)^{il} \\left[ \\frac{\\partial g^{kl}}{\\partial x^j} + \\frac{\\partial g^{jl}}{\\partial x^k} - \\frac{\\partial g^{jk}}{\\partial x^l} \\right] $$ or equivalently $$ \\Gamma_{jk}^i \\equiv \\frac{1}{2} \\left( g^{-1} \\right)^{il} \\left[ \\partial_j g^{kl} + \\partial_k g^{jl} - \\partial_l g^{jk} \\right] $$\n",
    "\n",
    "* **QUESTION :>** in the definitions above, are the coordinate indices supposed to be upper or lower? Is the definition valid for the contravariant, or the covariant, expression of the indices? Differing definitions across sources. "
   ]
  },
  {
   "cell_type": "code",
   "execution_count": 4,
   "metadata": {},
   "outputs": [
    {
     "data": {
      "text/html": [
       "<html>\\(\\displaystyle g = \\mathrm{d} r\\otimes \\mathrm{d} r + r^{2} \\mathrm{d} {\\theta}\\otimes \\mathrm{d} {\\theta} + r^{2} \\sin^{2}{\\left(θ \\right)} \\mathrm{d} {\\phi}\\otimes \\mathrm{d} {\\phi}\\)</html>"
      ],
      "text/latex": [
       "$\\displaystyle g = \\mathrm{d} r\\otimes \\mathrm{d} r + r^{2} \\mathrm{d} {\\theta}\\otimes \\mathrm{d} {\\theta} + r^{2} \\sin^{2}{\\left(θ \\right)} \\mathrm{d} {\\phi}\\otimes \\mathrm{d} {\\phi}$"
      ],
      "text/plain": [
       "g = dr⊗dr + r**2 dθ⊗dθ + r**2*sin(θ)**2 dφ⊗dφ"
      ]
     },
     "execution_count": 4,
     "metadata": {},
     "output_type": "execute_result"
    }
   ],
   "source": [
    "# For our variable names, we'll use Unicode U+2054 (CHARACTER TIE) to \n",
    "#  indicate contravariant (upper) indices, followed by an underscore preceding\n",
    "#  covariant indices.\n",
    "g⁀ij = M.metric('g')\n",
    "g⁀ij[0,0], g⁀ij[1,1], g⁀ij[2,2] = 1, r^2, r^2 * (sin(θ))^2\n",
    "g⁀ij.display()"
   ]
  },
  {
   "cell_type": "code",
   "execution_count": 5,
   "metadata": {},
   "outputs": [
    {
     "data": {
      "text/html": [
       "<html>\\(\\displaystyle \\left(\\begin{array}{rrr}\n",
       "1 & 0 & 0 \\\\\n",
       "0 & r^{2} & 0 \\\\\n",
       "0 & 0 & r^{2} \\sin^{2}{\\left(θ \\right)}\n",
       "\\end{array}\\right)\\)</html>"
      ],
      "text/latex": [
       "$\\displaystyle \\left(\\begin{array}{rrr}\n",
       "1 & 0 & 0 \\\\\n",
       "0 & r^{2} & 0 \\\\\n",
       "0 & 0 & r^{2} \\sin^{2}{\\left(θ \\right)}\n",
       "\\end{array}\\right)$"
      ],
      "text/plain": [
       "[             1              0              0]\n",
       "[             0           r**2              0]\n",
       "[             0              0 r**2*sin(θ)**2]"
      ]
     },
     "execution_count": 5,
     "metadata": {},
     "output_type": "execute_result"
    }
   ],
   "source": [
    "g⁀ij[:]"
   ]
  },
  {
   "cell_type": "code",
   "execution_count": 6,
   "metadata": {},
   "outputs": [
    {
     "data": {
      "text/html": [
       "<html>\\(\\displaystyle g = \\mathrm{d} r\\otimes \\mathrm{d} r + r^{2} \\mathrm{d} {\\theta}\\otimes \\mathrm{d} {\\theta} + r^{2} \\sin^{2}{\\left(θ \\right)} \\mathrm{d} {\\phi}\\otimes \\mathrm{d} {\\phi}\\)</html>"
      ],
      "text/latex": [
       "$\\displaystyle g = \\mathrm{d} r\\otimes \\mathrm{d} r + r^{2} \\mathrm{d} {\\theta}\\otimes \\mathrm{d} {\\theta} + r^{2} \\sin^{2}{\\left(θ \\right)} \\mathrm{d} {\\phi}\\otimes \\mathrm{d} {\\phi}$"
      ],
      "text/plain": [
       "g = dr⊗dr + r**2 dθ⊗dθ + r**2*sin(θ)**2 dφ⊗dφ"
      ]
     },
     "execution_count": 6,
     "metadata": {},
     "output_type": "execute_result"
    }
   ],
   "source": [
    "g⁀ij.display()"
   ]
  },
  {
   "cell_type": "code",
   "execution_count": 7,
   "metadata": {},
   "outputs": [
    {
     "data": {
      "text/html": [
       "<html>\\(\\displaystyle \\mathrm{Riem}\\left(g\\right) = 0\\)</html>"
      ],
      "text/latex": [
       "$\\displaystyle \\mathrm{Riem}\\left(g\\right) = 0$"
      ],
      "text/plain": [
       "Riem(g) = 0"
      ]
     },
     "execution_count": 7,
     "metadata": {},
     "output_type": "execute_result"
    }
   ],
   "source": [
    "# check that the metric has no curvature, like the Minkowski metric\n",
    "g⁀ij.riemann().display()"
   ]
  },
  {
   "cell_type": "code",
   "execution_count": 8,
   "metadata": {},
   "outputs": [
    {
     "data": {
      "text/html": [
       "<html>\\(\\displaystyle \\left(\\begin{array}{rrr}\n",
       "1 & 0 & 0 \\\\\n",
       "0 & \\frac{1}{r^{2}} & 0 \\\\\n",
       "0 & 0 & \\frac{1}{r^{2} \\sin^{2}{\\left(θ \\right)}}\n",
       "\\end{array}\\right)\\)</html>"
      ],
      "text/latex": [
       "$\\displaystyle \\left(\\begin{array}{rrr}\n",
       "1 & 0 & 0 \\\\\n",
       "0 & \\frac{1}{r^{2}} & 0 \\\\\n",
       "0 & 0 & \\frac{1}{r^{2} \\sin^{2}{\\left(θ \\right)}}\n",
       "\\end{array}\\right)$"
      ],
      "text/plain": [
       "[                 1                  0                  0]\n",
       "[                 0            r**(-2)                  0]\n",
       "[                 0                  0 1/(r**2*sin(θ)**2)]"
      ]
     },
     "execution_count": 8,
     "metadata": {},
     "output_type": "execute_result"
    }
   ],
   "source": [
    "from sage.tensor.modules.tensor_with_indices import TensorWithIndices\n",
    "\n",
    "g_inv = g⁀ij.inverse()\n",
    "g_inv = TensorWithIndices(g_inv, '^ij')\n",
    "g_inv[:]"
   ]
  },
  {
   "cell_type": "markdown",
   "metadata": {},
   "source": [
    "We are now able to phrase the Christoffel symbols as contractions on the indices, following the definition.  It turns out that Sage Math incorporates a function to handle this for us; after noting that due to symmetries, some of the terms cancel"
   ]
  },
  {
   "cell_type": "code",
   "execution_count": 9,
   "metadata": {},
   "outputs": [
    {
     "data": {
      "text/html": [
       "<html>\\(\\displaystyle \\begin{array}{lcl} \\Gamma_{\\phantom{\\, 0}\\,1\\,1}^{\\,0\\phantom{\\, 1}\\phantom{\\, 1}} & = & - r \\\\ \\Gamma_{\\phantom{\\, 0}\\,2\\,2}^{\\,0\\phantom{\\, 2}\\phantom{\\, 2}} & = & - r \\sin^{2}{\\left(θ \\right)} \\\\ \\Gamma_{\\phantom{\\, 1}\\,0\\,1}^{\\,1\\phantom{\\, 0}\\phantom{\\, 1}} & = & \\frac{1}{r} \\\\ \\Gamma_{\\phantom{\\, 1}\\,2\\,2}^{\\,1\\phantom{\\, 2}\\phantom{\\, 2}} & = & - \\frac{\\sin{\\left(2 θ \\right)}}{2} \\\\ \\Gamma_{\\phantom{\\, 2}\\,0\\,2}^{\\,2\\phantom{\\, 0}\\phantom{\\, 2}} & = & \\frac{1}{r} \\\\ \\Gamma_{\\phantom{\\, 2}\\,1\\,2}^{\\,2\\phantom{\\, 1}\\phantom{\\, 2}} & = & \\frac{1}{\\tan{\\left(θ \\right)}} \\end{array}\\)</html>"
      ],
      "text/latex": [
       "$\\displaystyle \\begin{array}{lcl} \\Gamma_{\\phantom{\\, 0}\\,1\\,1}^{\\,0\\phantom{\\, 1}\\phantom{\\, 1}} & = & - r \\\\ \\Gamma_{\\phantom{\\, 0}\\,2\\,2}^{\\,0\\phantom{\\, 2}\\phantom{\\, 2}} & = & - r \\sin^{2}{\\left(θ \\right)} \\\\ \\Gamma_{\\phantom{\\, 1}\\,0\\,1}^{\\,1\\phantom{\\, 0}\\phantom{\\, 1}} & = & \\frac{1}{r} \\\\ \\Gamma_{\\phantom{\\, 1}\\,2\\,2}^{\\,1\\phantom{\\, 2}\\phantom{\\, 2}} & = & - \\frac{\\sin{\\left(2 θ \\right)}}{2} \\\\ \\Gamma_{\\phantom{\\, 2}\\,0\\,2}^{\\,2\\phantom{\\, 0}\\phantom{\\, 2}} & = & \\frac{1}{r} \\\\ \\Gamma_{\\phantom{\\, 2}\\,1\\,2}^{\\,2\\phantom{\\, 1}\\phantom{\\, 2}} & = & \\frac{1}{\\tan{\\left(θ \\right)}} \\end{array}$"
      ],
      "text/plain": [
       "Gam^0_11 = -r \n",
       "Gam^0_22 = -r*sin(θ)**2 \n",
       "Gam^1_01 = 1/r \n",
       "Gam^1_22 = -sin(2*θ)/2 \n",
       "Gam^2_02 = 1/r \n",
       "Gam^2_12 = 1/tan(θ) "
      ]
     },
     "execution_count": 9,
     "metadata": {},
     "output_type": "execute_result"
    }
   ],
   "source": [
    "g⁀ij.christoffel_symbols_display(coordinate_labels=False)"
   ]
  },
  {
   "cell_type": "markdown",
   "metadata": {},
   "source": [
    "It's important to note that we have assumed symmetry of the upper and lower indices of the Christoffel symbols, due to a \"existence and uniqueness\"-style argument.  The Christoffel symbols themselves arise by solving the corresponding _parallel transport_ problem for the same metric space, after chart mapping.  The Christoffel symbols themselves describe a functional mapping in the parallel transport problem that encode functions of some displacement or position, which is related to derivatives of the metric tensor.  We can see this arise in a differential expression for the parallel transport problem; $$\\delta A_\\mu = \\Gamma^\\nu_{\\mu \\beta} A_\\nu dx^\\beta$$\n",
    "\n",
    "It turns out that these symbols (Christoffel, Levi-Civita) describe \"connections\" between metric spaces that preserve qualities of the encoding of the metric, and are related to the gradient and divergence (respectively) of the metric.  Unfortunately, Sage Math doesn't directly implement derivatives using tensor notation, and instead uses the information encoded in the supplied metric $g^{ij}$ to compute properties of the corresponding connection tensor, from which it computes the Christoffel symbols. So, no exact computation here. "
   ]
  },
  {
   "cell_type": "code",
   "execution_count": 10,
   "metadata": {},
   "outputs": [
    {
     "data": {
      "text/html": [
       "<html>\\(\\displaystyle \\nabla_{g}\\)</html>"
      ],
      "text/latex": [
       "$\\displaystyle \\nabla_{g}$"
      ],
      "text/plain": [
       "Levi-Civita connection nabla_g associated with the Riemannian metric g on the 3-dimensional differentiable manifold M"
      ]
     },
     "execution_count": 10,
     "metadata": {},
     "output_type": "execute_result"
    }
   ],
   "source": [
    "g⁀ij.connection()"
   ]
  },
  {
   "cell_type": "code",
   "execution_count": 11,
   "metadata": {},
   "outputs": [
    {
     "data": {
      "text/html": [
       "<html>\\(\\displaystyle \\begin{array}{lcl} \\Gamma_{ \\phantom{\\, r} \\, {\\theta} \\, {\\theta} }^{ \\, r \\phantom{\\, {\\theta}} \\phantom{\\, {\\theta}} } & = & - r \\\\ \\Gamma_{ \\phantom{\\, r} \\, {\\phi} \\, {\\phi} }^{ \\, r \\phantom{\\, {\\phi}} \\phantom{\\, {\\phi}} } & = & - r \\sin^{2}{\\left(θ \\right)} \\\\ \\Gamma_{ \\phantom{\\, {\\theta}} \\, r \\, {\\theta} }^{ \\, {\\theta} \\phantom{\\, r} \\phantom{\\, {\\theta}} } & = & \\frac{1}{r} \\\\ \\Gamma_{ \\phantom{\\, {\\theta}} \\, {\\theta} \\, r }^{ \\, {\\theta} \\phantom{\\, {\\theta}} \\phantom{\\, r} } & = & \\frac{1}{r} \\\\ \\Gamma_{ \\phantom{\\, {\\theta}} \\, {\\phi} \\, {\\phi} }^{ \\, {\\theta} \\phantom{\\, {\\phi}} \\phantom{\\, {\\phi}} } & = & - \\frac{\\sin{\\left(2 θ \\right)}}{2} \\\\ \\Gamma_{ \\phantom{\\, {\\phi}} \\, r \\, {\\phi} }^{ \\, {\\phi} \\phantom{\\, r} \\phantom{\\, {\\phi}} } & = & \\frac{1}{r} \\\\ \\Gamma_{ \\phantom{\\, {\\phi}} \\, {\\theta} \\, {\\phi} }^{ \\, {\\phi} \\phantom{\\, {\\theta}} \\phantom{\\, {\\phi}} } & = & \\frac{1}{\\tan{\\left(θ \\right)}} \\\\ \\Gamma_{ \\phantom{\\, {\\phi}} \\, {\\phi} \\, r }^{ \\, {\\phi} \\phantom{\\, {\\phi}} \\phantom{\\, r} } & = & \\frac{1}{r} \\\\ \\Gamma_{ \\phantom{\\, {\\phi}} \\, {\\phi} \\, {\\theta} }^{ \\, {\\phi} \\phantom{\\, {\\phi}} \\phantom{\\, {\\theta}} } & = & \\frac{1}{\\tan{\\left(θ \\right)}} \\end{array}\\)</html>"
      ],
      "text/latex": [
       "$\\displaystyle \\begin{array}{lcl} \\Gamma_{ \\phantom{\\, r} \\, {\\theta} \\, {\\theta} }^{ \\, r \\phantom{\\, {\\theta}} \\phantom{\\, {\\theta}} } & = & - r \\\\ \\Gamma_{ \\phantom{\\, r} \\, {\\phi} \\, {\\phi} }^{ \\, r \\phantom{\\, {\\phi}} \\phantom{\\, {\\phi}} } & = & - r \\sin^{2}{\\left(θ \\right)} \\\\ \\Gamma_{ \\phantom{\\, {\\theta}} \\, r \\, {\\theta} }^{ \\, {\\theta} \\phantom{\\, r} \\phantom{\\, {\\theta}} } & = & \\frac{1}{r} \\\\ \\Gamma_{ \\phantom{\\, {\\theta}} \\, {\\theta} \\, r }^{ \\, {\\theta} \\phantom{\\, {\\theta}} \\phantom{\\, r} } & = & \\frac{1}{r} \\\\ \\Gamma_{ \\phantom{\\, {\\theta}} \\, {\\phi} \\, {\\phi} }^{ \\, {\\theta} \\phantom{\\, {\\phi}} \\phantom{\\, {\\phi}} } & = & - \\frac{\\sin{\\left(2 θ \\right)}}{2} \\\\ \\Gamma_{ \\phantom{\\, {\\phi}} \\, r \\, {\\phi} }^{ \\, {\\phi} \\phantom{\\, r} \\phantom{\\, {\\phi}} } & = & \\frac{1}{r} \\\\ \\Gamma_{ \\phantom{\\, {\\phi}} \\, {\\theta} \\, {\\phi} }^{ \\, {\\phi} \\phantom{\\, {\\theta}} \\phantom{\\, {\\phi}} } & = & \\frac{1}{\\tan{\\left(θ \\right)}} \\\\ \\Gamma_{ \\phantom{\\, {\\phi}} \\, {\\phi} \\, r }^{ \\, {\\phi} \\phantom{\\, {\\phi}} \\phantom{\\, r} } & = & \\frac{1}{r} \\\\ \\Gamma_{ \\phantom{\\, {\\phi}} \\, {\\phi} \\, {\\theta} }^{ \\, {\\phi} \\phantom{\\, {\\phi}} \\phantom{\\, {\\theta}} } & = & \\frac{1}{\\tan{\\left(θ \\right)}} \\end{array}$"
      ],
      "text/plain": [
       "Gam^r_θθ = -r \n",
       "Gam^r_φφ = -r*sin(θ)**2 \n",
       "Gam^θ_rθ = 1/r \n",
       "Gam^θ_θr = 1/r \n",
       "Gam^θ_φφ = -sin(2*θ)/2 \n",
       "Gam^φ_rφ = 1/r \n",
       "Gam^φ_θφ = 1/tan(θ) \n",
       "Gam^φ_φr = 1/r \n",
       "Gam^φ_φθ = 1/tan(θ) "
      ]
     },
     "execution_count": 11,
     "metadata": {},
     "output_type": "execute_result"
    }
   ],
   "source": [
    "g⁀ij.connection().display()"
   ]
  },
  {
   "cell_type": "code",
   "execution_count": null,
   "metadata": {},
   "outputs": [],
   "source": []
  }
 ],
 "metadata": {
  "kernelspec": {
   "display_name": "SageMath 10.5",
   "language": "sage",
   "name": "sagemath-10.5"
  },
  "language_info": {
   "codemirror_mode": {
    "name": "ipython",
    "version": 3
   },
   "file_extension": ".py",
   "mimetype": "text/x-python",
   "name": "python",
   "nbconvert_exporter": "python",
   "pygments_lexer": "ipython3",
   "version": "3.12.5"
  },
  "widgets": {
   "application/vnd.jupyter.widget-state+json": {
    "state": {},
    "version_major": 2,
    "version_minor": 0
   }
  }
 },
 "nbformat": 4,
 "nbformat_minor": 4
}
