{
 "cells": [
  {
   "cell_type": "markdown",
   "metadata": {},
   "source": [
    "# [Std 04] - calculate Christoffel symbols in spherical coords"
   ]
  },
  {
   "cell_type": "code",
   "execution_count": 1,
   "metadata": {
    "vscode": {
     "languageId": "plaintext"
    }
   },
   "outputs": [],
   "source": [
    "%display latex\n",
    "import numpy as np\n",
    "import scipy\n",
    "from numpy import r_\n",
    "\n",
    "from sage.manifolds.operators import *"
   ]
  },
  {
   "cell_type": "markdown",
   "metadata": {},
   "source": [
    "First, let's define a Euclidean space in spherical coordinates, over the variables $r$, $\\theta$, and $\\phi$.  "
   ]
  },
  {
   "cell_type": "code",
   "execution_count": 2,
   "metadata": {
    "vscode": {
     "languageId": "plaintext"
    }
   },
   "outputs": [
    {
     "data": {
      "text/html": [
       "<html>\\(\\displaystyle r :\\ \\left( 0 , +\\infty \\right) ;\\quad θ :\\ \\left( 0 , \\pi \\right) ;\\quad φ :\\ \\left[ 0 , 2 \\, \\pi \\right] \\text{(periodic)}\\)</html>"
      ],
      "text/latex": [
       "$\\displaystyle r :\\ \\left( 0 , +\\infty \\right) ;\\quad θ :\\ \\left( 0 , \\pi \\right) ;\\quad φ :\\ \\left[ 0 , 2 \\, \\pi \\right] \\text{(periodic)}$"
      ],
      "text/plain": [
       "r: (0, +oo); θ: (0, pi); φ: [0, 2*pi] (periodic)"
      ]
     },
     "execution_count": 2,
     "metadata": {},
     "output_type": "execute_result"
    }
   ],
   "source": [
    "M.<r, θ, φ> = EuclideanSpace(coordinates='spherical')\n",
    "M.spherical_coordinates().coord_range()"
   ]
  },
  {
   "cell_type": "markdown",
   "metadata": {},
   "source": [
    "To be complete, let's also check out its frames.  These are in order of its coordinate frame (a tuple of its basis and partials), it's basis frame (in spherical coordinates), which is derived as a Chart from the Cartesian coordinates.  Coordinate frames matter in GR, we will address that later. "
   ]
  },
  {
   "cell_type": "code",
   "execution_count": 3,
   "metadata": {},
   "outputs": [
    {
     "data": {
      "text/html": [
       "<html>\\(\\displaystyle \\left[\\left(\\mathbb{E}^{3}, \\left(\\frac{\\partial}{\\partial r },\\frac{\\partial}{\\partial θ },\\frac{\\partial}{\\partial φ }\\right)\\right), \\left(\\mathbb{E}^{3}, \\left(e_{ r },e_{ θ },e_{ φ }\\right)\\right)\\right]\\)</html>"
      ],
      "text/latex": [
       "$\\displaystyle \\left[\\left(\\mathbb{E}^{3}, \\left(\\frac{\\partial}{\\partial r },\\frac{\\partial}{\\partial θ },\\frac{\\partial}{\\partial φ }\\right)\\right), \\left(\\mathbb{E}^{3}, \\left(e_{ r },e_{ θ },e_{ φ }\\right)\\right)\\right]$"
      ],
      "text/plain": [
       "[Coordinate frame (E^3, (∂/∂r,∂/∂θ,∂/∂φ)), Vector frame (E^3, (e_r,e_θ,e_φ))]"
      ]
     },
     "execution_count": 3,
     "metadata": {},
     "output_type": "execute_result"
    }
   ],
   "source": [
    "M.frames()"
   ]
  },
  {
   "cell_type": "markdown",
   "metadata": {},
   "source": [
    "* c.ref. https://math.stackexchange.com/q/1985964 and https://mathworld.wolfram.com/SphericalCoordinates.html; order of the parameter definitions matter!\n",
    "\n",
    "* Given a curvilinear world-line path in spherical coordinates $ds^2 = dr^2 + r\\ d \\theta^2 + r^2 \\sin^2 \\theta\\ d\\phi^2$, we define a metric\n",
    "    $$ g^{ij} = \\begin{pmatrix} 1 & 0 & 0 \\\\ 0 & r^2 & 0 \\\\ 0 & 0 & r^2 \\sin^2\\theta \\end{pmatrix}$$\n",
    "\n",
    "* We also define the Christoffel symbols in summation-notation: $$ \\Gamma_{jk}^{i} \\equiv \\frac{1}{2} \\left( g^{-1} \\right)^{il} \\left[ \\frac{\\partial g^{kl}}{\\partial x^j} + \\frac{\\partial g^{jl}}{\\partial x^k} - \\frac{\\partial g^{jk}}{\\partial x^l} \\right] $$ or equivalently $$ \\Gamma_{jk}^i \\equiv \\frac{1}{2} \\left( g^{-1} \\right)^{il} \\left[ \\partial_j g^{kl} + \\partial_k g^{jl} - \\partial_l g^{jk} \\right] $$\n",
    "\n",
    "* **QUESTION :>** in the definitions above, are the coordinate indices supposed to be upper or lower? Is the definition valid for the contravariant, or the covariant, expression of the indices? Differing definitions across sources. "
   ]
  },
  {
   "cell_type": "code",
   "execution_count": 16,
   "metadata": {},
   "outputs": [
    {
     "data": {
      "text/html": [
       "<html>\\(\\displaystyle g = e^{ r }\\otimes e^{ r } + r^{2} e^{ θ }\\otimes e^{ θ } + r^{2} \\sin\\left(θ\\right)^{2} e^{ φ }\\otimes e^{ φ }\\)</html>"
      ],
      "text/latex": [
       "$\\displaystyle g = e^{ r }\\otimes e^{ r } + r^{2} e^{ θ }\\otimes e^{ θ } + r^{2} \\sin\\left(θ\\right)^{2} e^{ φ }\\otimes e^{ φ }$"
      ],
      "text/plain": [
       "g = e^r⊗e^r + r^2 e^θ⊗e^θ + r^2*sin(θ)^2 e^φ⊗e^φ"
      ]
     },
     "execution_count": 16,
     "metadata": {},
     "output_type": "execute_result"
    }
   ],
   "source": [
    "# For our variable names, we'll use Unicode U+2054 (CHARACTER TIE) to \n",
    "#  indicate contravariant (upper) indices, followed by an underscore preceding\n",
    "#  covariant indices.\n",
    "g⁀ij = M.metric()\n",
    "g⁀ij[1,1], g⁀ij[2,2], g⁀ij[3,3] = 1, r^2, r^2 * (sin(θ))^2\n",
    "g⁀ij.display()"
   ]
  },
  {
   "cell_type": "code",
   "execution_count": 17,
   "metadata": {},
   "outputs": [
    {
     "data": {
      "text/html": [
       "<html>\\(\\displaystyle \\left(\\begin{array}{rrr}\n",
       "1 & 0 & 0 \\\\\n",
       "0 & r^{2} & 0 \\\\\n",
       "0 & 0 & r^{2} \\sin\\left(θ\\right)^{2}\n",
       "\\end{array}\\right)\\)</html>"
      ],
      "text/latex": [
       "$\\displaystyle \\left(\\begin{array}{rrr}\n",
       "1 & 0 & 0 \\\\\n",
       "0 & r^{2} & 0 \\\\\n",
       "0 & 0 & r^{2} \\sin\\left(θ\\right)^{2}\n",
       "\\end{array}\\right)$"
      ],
      "text/plain": [
       "[           1            0            0]\n",
       "[           0          r^2            0]\n",
       "[           0            0 r^2*sin(θ)^2]"
      ]
     },
     "execution_count": 17,
     "metadata": {},
     "output_type": "execute_result"
    }
   ],
   "source": [
    "g⁀ij[:]"
   ]
  },
  {
   "cell_type": "code",
   "execution_count": 18,
   "metadata": {},
   "outputs": [
    {
     "data": {
      "text/html": [
       "<html>\\(\\displaystyle \\mathrm{Riem}\\left(g\\right) = -2 e_{ r }\\otimes e^{ θ }\\otimes e^{ r }\\otimes e^{ θ } + 2 e_{ r }\\otimes e^{ θ }\\otimes e^{ θ }\\otimes e^{ r } -2 \\, \\sin\\left(θ\\right)^{2} e_{ r }\\otimes e^{ φ }\\otimes e^{ r }\\otimes e^{ φ } + 2 \\, \\sin\\left(θ\\right)^{2} e_{ r }\\otimes e^{ φ }\\otimes e^{ φ }\\otimes e^{ r } + \\frac{2}{r^{2}} e_{ θ }\\otimes e^{ r }\\otimes e^{ r }\\otimes e^{ θ } -\\frac{2}{r^{2}} e_{ θ }\\otimes e^{ r }\\otimes e^{ θ }\\otimes e^{ r } -\\frac{2 \\, {\\left(2 \\, {\\left(r^{2} - 1\\right)} \\sin\\left(θ\\right)^{2} + 1\\right)}}{r^{2}} e_{ θ }\\otimes e^{ φ }\\otimes e^{ θ }\\otimes e^{ φ } + \\frac{2 \\, {\\left(2 \\, {\\left(r^{2} - 1\\right)} \\sin\\left(θ\\right)^{2} + 1\\right)}}{r^{2}} e_{ θ }\\otimes e^{ φ }\\otimes e^{ φ }\\otimes e^{ θ } + \\frac{2}{r^{2}} e_{ φ }\\otimes e^{ r }\\otimes e^{ r }\\otimes e^{ φ } -\\frac{2}{r^{2}} e_{ φ }\\otimes e^{ r }\\otimes e^{ φ }\\otimes e^{ r } + \\frac{2 \\, {\\left(2 \\, {\\left(r^{2} - 1\\right)} \\sin\\left(θ\\right)^{2} + 1\\right)}}{r^{2} \\sin\\left(θ\\right)^{2}} e_{ φ }\\otimes e^{ θ }\\otimes e^{ θ }\\otimes e^{ φ } -\\frac{2 \\, {\\left(2 \\, {\\left(r^{2} - 1\\right)} \\sin\\left(θ\\right)^{2} + 1\\right)}}{r^{2} \\sin\\left(θ\\right)^{2}} e_{ φ }\\otimes e^{ θ }\\otimes e^{ φ }\\otimes e^{ θ }\\)</html>"
      ],
      "text/latex": [
       "$\\displaystyle \\mathrm{Riem}\\left(g\\right) = -2 e_{ r }\\otimes e^{ θ }\\otimes e^{ r }\\otimes e^{ θ } + 2 e_{ r }\\otimes e^{ θ }\\otimes e^{ θ }\\otimes e^{ r } -2 \\, \\sin\\left(θ\\right)^{2} e_{ r }\\otimes e^{ φ }\\otimes e^{ r }\\otimes e^{ φ } + 2 \\, \\sin\\left(θ\\right)^{2} e_{ r }\\otimes e^{ φ }\\otimes e^{ φ }\\otimes e^{ r } + \\frac{2}{r^{2}} e_{ θ }\\otimes e^{ r }\\otimes e^{ r }\\otimes e^{ θ } -\\frac{2}{r^{2}} e_{ θ }\\otimes e^{ r }\\otimes e^{ θ }\\otimes e^{ r } -\\frac{2 \\, {\\left(2 \\, {\\left(r^{2} - 1\\right)} \\sin\\left(θ\\right)^{2} + 1\\right)}}{r^{2}} e_{ θ }\\otimes e^{ φ }\\otimes e^{ θ }\\otimes e^{ φ } + \\frac{2 \\, {\\left(2 \\, {\\left(r^{2} - 1\\right)} \\sin\\left(θ\\right)^{2} + 1\\right)}}{r^{2}} e_{ θ }\\otimes e^{ φ }\\otimes e^{ φ }\\otimes e^{ θ } + \\frac{2}{r^{2}} e_{ φ }\\otimes e^{ r }\\otimes e^{ r }\\otimes e^{ φ } -\\frac{2}{r^{2}} e_{ φ }\\otimes e^{ r }\\otimes e^{ φ }\\otimes e^{ r } + \\frac{2 \\, {\\left(2 \\, {\\left(r^{2} - 1\\right)} \\sin\\left(θ\\right)^{2} + 1\\right)}}{r^{2} \\sin\\left(θ\\right)^{2}} e_{ φ }\\otimes e^{ θ }\\otimes e^{ θ }\\otimes e^{ φ } -\\frac{2 \\, {\\left(2 \\, {\\left(r^{2} - 1\\right)} \\sin\\left(θ\\right)^{2} + 1\\right)}}{r^{2} \\sin\\left(θ\\right)^{2}} e_{ φ }\\otimes e^{ θ }\\otimes e^{ φ }\\otimes e^{ θ }$"
      ],
      "text/plain": [
       "Riem(g) = -2 e_r⊗e^θ⊗e^r⊗e^θ + 2 e_r⊗e^θ⊗e^θ⊗e^r - 2*sin(θ)^2 e_r⊗e^φ⊗e^r⊗e^φ + 2*sin(θ)^2 e_r⊗e^φ⊗e^φ⊗e^r + 2/r^2 e_θ⊗e^r⊗e^r⊗e^θ - 2/r^2 e_θ⊗e^r⊗e^θ⊗e^r - 2*(2*(r^2 - 1)*sin(θ)^2 + 1)/r^2 e_θ⊗e^φ⊗e^θ⊗e^φ + 2*(2*(r^2 - 1)*sin(θ)^2 + 1)/r^2 e_θ⊗e^φ⊗e^φ⊗e^θ + 2/r^2 e_φ⊗e^r⊗e^r⊗e^φ - 2/r^2 e_φ⊗e^r⊗e^φ⊗e^r + 2*(2*(r^2 - 1)*sin(θ)^2 + 1)/(r^2*sin(θ)^2) e_φ⊗e^θ⊗e^θ⊗e^φ - 2*(2*(r^2 - 1)*sin(θ)^2 + 1)/(r^2*sin(θ)^2) e_φ⊗e^θ⊗e^φ⊗e^θ"
      ]
     },
     "execution_count": 18,
     "metadata": {},
     "output_type": "execute_result"
    }
   ],
   "source": [
    "# check that the metric has non-zero curvature, unlike the Minkowski metric\n",
    "g⁀ij.riemann().display()"
   ]
  },
  {
   "cell_type": "code",
   "execution_count": 19,
   "metadata": {},
   "outputs": [
    {
     "data": {
      "text/html": [
       "<html>\\(\\displaystyle \\left(\\begin{array}{rrr}\n",
       "1 & 0 & 0 \\\\\n",
       "0 & \\frac{1}{r^{2}} & 0 \\\\\n",
       "0 & 0 & \\frac{1}{r^{2} \\sin\\left(θ\\right)^{2}}\n",
       "\\end{array}\\right)\\)</html>"
      ],
      "text/latex": [
       "$\\displaystyle \\left(\\begin{array}{rrr}\n",
       "1 & 0 & 0 \\\\\n",
       "0 & \\frac{1}{r^{2}} & 0 \\\\\n",
       "0 & 0 & \\frac{1}{r^{2} \\sin\\left(θ\\right)^{2}}\n",
       "\\end{array}\\right)$"
      ],
      "text/plain": [
       "[               1                0                0]\n",
       "[               0           r^(-2)                0]\n",
       "[               0                0 1/(r^2*sin(θ)^2)]"
      ]
     },
     "execution_count": 19,
     "metadata": {},
     "output_type": "execute_result"
    }
   ],
   "source": [
    "g_inv = g⁀ij.inverse()\n",
    "g_inv[:]"
   ]
  },
  {
   "cell_type": "code",
   "execution_count": 20,
   "metadata": {},
   "outputs": [
    {
     "data": {
      "text/html": [
       "<html>\\(\\displaystyle \\left(\\begin{array}{rrr}\n",
       "1 & 0 & 0 \\\\\n",
       "0 & \\frac{1}{r^{2}} & 0 \\\\\n",
       "0 & 0 & \\frac{1}{r^{2} \\sin\\left(θ\\right)^{2}}\n",
       "\\end{array}\\right)\\)</html>"
      ],
      "text/latex": [
       "$\\displaystyle \\left(\\begin{array}{rrr}\n",
       "1 & 0 & 0 \\\\\n",
       "0 & \\frac{1}{r^{2}} & 0 \\\\\n",
       "0 & 0 & \\frac{1}{r^{2} \\sin\\left(θ\\right)^{2}}\n",
       "\\end{array}\\right)$"
      ],
      "text/plain": [
       "[               1                0                0]\n",
       "[               0           r^(-2)                0]\n",
       "[               0                0 1/(r^2*sin(θ)^2)]"
      ]
     },
     "execution_count": 20,
     "metadata": {},
     "output_type": "execute_result"
    }
   ],
   "source": [
    "from sage.tensor.modules.tensor_with_indices import TensorWithIndices\n",
    "\n",
    "g_inv = TensorWithIndices(g_inv, '^ij')\n",
    "g_inv['ij'][:]"
   ]
  },
  {
   "cell_type": "markdown",
   "metadata": {},
   "source": [
    "We are now able to phrase the Christoffel symbols as contractions on the indices, following the definition.  It turns out that Sage Math incorporates "
   ]
  },
  {
   "cell_type": "code",
   "execution_count": 41,
   "metadata": {},
   "outputs": [
    {
     "data": {
      "text/html": [
       "<html>\\(\\displaystyle \\begin{array}{lcl} \\Gamma_{\\,1\\,2\\,2}^{\\phantom{\\, 1}\\phantom{\\, 2}\\phantom{\\, 2}} & = & -2 \\, r^{3} \\\\ \\Gamma_{\\,1\\,3\\,3}^{\\phantom{\\, 1}\\phantom{\\, 3}\\phantom{\\, 3}} & = & -2 \\, r^{3} \\sin\\left(θ\\right)^{4} \\\\ \\Gamma_{\\,2\\,1\\,2}^{\\phantom{\\, 2}\\phantom{\\, 1}\\phantom{\\, 2}} & = & \\frac{2}{r} \\\\ \\Gamma_{\\,2\\,2\\,1}^{\\phantom{\\, 2}\\phantom{\\, 2}\\phantom{\\, 1}} & = & \\frac{2}{r} \\\\ \\Gamma_{\\,2\\,3\\,3}^{\\phantom{\\, 2}\\phantom{\\, 3}\\phantom{\\, 3}} & = & -2 \\, \\cos\\left(θ\\right) \\sin\\left(θ\\right)^{3} \\\\ \\Gamma_{\\,3\\,1\\,3}^{\\phantom{\\, 3}\\phantom{\\, 1}\\phantom{\\, 3}} & = & \\frac{2}{r} \\\\ \\Gamma_{\\,3\\,2\\,3}^{\\phantom{\\, 3}\\phantom{\\, 2}\\phantom{\\, 3}} & = & \\frac{2 \\, \\cos\\left(θ\\right)}{\\sin\\left(θ\\right)} \\\\ \\Gamma_{\\,3\\,3\\,1}^{\\phantom{\\, 3}\\phantom{\\, 3}\\phantom{\\, 1}} & = & \\frac{2}{r} \\\\ \\Gamma_{\\,3\\,3\\,2}^{\\phantom{\\, 3}\\phantom{\\, 3}\\phantom{\\, 2}} & = & \\frac{2 \\, \\cos\\left(θ\\right)}{\\sin\\left(θ\\right)} \\end{array}\\)</html>"
      ],
      "text/latex": [
       "$\\displaystyle \\begin{array}{lcl} \\Gamma_{\\,1\\,2\\,2}^{\\phantom{\\, 1}\\phantom{\\, 2}\\phantom{\\, 2}} & = & -2 \\, r^{3} \\\\ \\Gamma_{\\,1\\,3\\,3}^{\\phantom{\\, 1}\\phantom{\\, 3}\\phantom{\\, 3}} & = & -2 \\, r^{3} \\sin\\left(θ\\right)^{4} \\\\ \\Gamma_{\\,2\\,1\\,2}^{\\phantom{\\, 2}\\phantom{\\, 1}\\phantom{\\, 2}} & = & \\frac{2}{r} \\\\ \\Gamma_{\\,2\\,2\\,1}^{\\phantom{\\, 2}\\phantom{\\, 2}\\phantom{\\, 1}} & = & \\frac{2}{r} \\\\ \\Gamma_{\\,2\\,3\\,3}^{\\phantom{\\, 2}\\phantom{\\, 3}\\phantom{\\, 3}} & = & -2 \\, \\cos\\left(θ\\right) \\sin\\left(θ\\right)^{3} \\\\ \\Gamma_{\\,3\\,1\\,3}^{\\phantom{\\, 3}\\phantom{\\, 1}\\phantom{\\, 3}} & = & \\frac{2}{r} \\\\ \\Gamma_{\\,3\\,2\\,3}^{\\phantom{\\, 3}\\phantom{\\, 2}\\phantom{\\, 3}} & = & \\frac{2 \\, \\cos\\left(θ\\right)}{\\sin\\left(θ\\right)} \\\\ \\Gamma_{\\,3\\,3\\,1}^{\\phantom{\\, 3}\\phantom{\\, 3}\\phantom{\\, 1}} & = & \\frac{2}{r} \\\\ \\Gamma_{\\,3\\,3\\,2}^{\\phantom{\\, 3}\\phantom{\\, 3}\\phantom{\\, 2}} & = & \\frac{2 \\, \\cos\\left(θ\\right)}{\\sin\\left(θ\\right)} \\end{array}$"
      ],
      "text/plain": [
       "\\Gamma_122 = -2*r^3 \n",
       "\\Gamma_133 = -2*r^3*sin(θ)^4 \n",
       "\\Gamma_212 = 2/r \n",
       "\\Gamma_221 = 2/r \n",
       "\\Gamma_233 = -2*cos(θ)*sin(θ)^3 \n",
       "\\Gamma_313 = 2/r \n",
       "\\Gamma_323 = 2*cos(θ)/sin(θ) \n",
       "\\Gamma_331 = 2/r \n",
       "\\Gamma_332 = 2*cos(θ)/sin(θ) "
      ]
     },
     "execution_count": 41,
     "metadata": {},
     "output_type": "execute_result"
    }
   ],
   "source": [
    "g⁀ij.christoffel_symbols().display('\\Gamma')"
   ]
  },
  {
   "cell_type": "code",
   "execution_count": null,
   "metadata": {},
   "outputs": [],
   "source": [
    "from sage.manifolds.operators import grad\n",
    "\n",
    "christoffel = (1/2) * g_inv['^il'] * ( g⁀ij['kl'] + g⁀ij['jl'] - g⁀ij['jk'] )\n",
    "\n",
    "christoffel[:]"
   ]
  },
  {
   "cell_type": "markdown",
   "metadata": {},
   "source": [
    "* recreate the same thing, but use the manifold definition so I can use the tensor transform to calculate the christoffel symbols from that"
   ]
  },
  {
   "cell_type": "code",
   "execution_count": null,
   "metadata": {},
   "outputs": [],
   "source": [
    "#c, t, r, θ, φ = var('c, t, r, θ, φ')\n",
    "\n",
    "# For convenience, I've copied over the unicode characters here, e.g.: g⸢ij⸣⸤kl⸥ \n",
    "M = Manifold(4, \"g\", latex_name=r'g^{ij}', structure='Lorentzian', field='real') # real, differentiable, manifold with metric g\n",
    "#M.set_calculus_method('sympy') # use sympy for example, instead of Symbolic Ring\n"
   ]
  },
  {
   "cell_type": "code",
   "execution_count": null,
   "metadata": {},
   "outputs": [],
   "source": [
    "# switch to spherical coordinate frame\n",
    "polar.<t, r, θ, φ> = M.chart()\n",
    "polar.coord_range()"
   ]
  },
  {
   "cell_type": "markdown",
   "metadata": {},
   "source": [
    "* use the spherical coordinates of the manifold defined for the rank (0,4) tensor to calculate non-zero christoffel symbols using numpy einsum. "
   ]
  },
  {
   "cell_type": "code",
   "execution_count": null,
   "metadata": {},
   "outputs": [],
   "source": []
  }
 ],
 "metadata": {
  "kernelspec": {
   "display_name": "SageMath 10.5",
   "language": "sage",
   "name": "sagemath-10.5"
  },
  "language_info": {
   "codemirror_mode": {
    "name": "ipython",
    "version": 3
   },
   "file_extension": ".py",
   "mimetype": "text/x-python",
   "name": "python",
   "nbconvert_exporter": "python",
   "pygments_lexer": "ipython3",
   "version": "3.12.5"
  },
  "widgets": {
   "application/vnd.jupyter.widget-state+json": {
    "state": {},
    "version_major": 2,
    "version_minor": 0
   }
  }
 },
 "nbformat": 4,
 "nbformat_minor": 4
}
