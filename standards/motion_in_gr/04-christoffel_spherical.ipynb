{
 "cells": [
  {
   "cell_type": "markdown",
   "metadata": {},
   "source": [
    "# [Std 04] - calculate Christoffel symbols in spherical coords"
   ]
  },
  {
   "cell_type": "code",
   "execution_count": 1,
   "metadata": {
    "vscode": {
     "languageId": "plaintext"
    }
   },
   "outputs": [],
   "source": [
    "%display latex\n",
    "import numpy as np\n",
    "import scipy\n",
    "from numpy import r_"
   ]
  },
  {
   "cell_type": "markdown",
   "metadata": {},
   "source": [
    "First, let's define a Euclidean space in spherical coordinates, over the variables $r$, $\\theta$, and $\\phi$.  "
   ]
  },
  {
   "cell_type": "code",
   "execution_count": 19,
   "metadata": {
    "vscode": {
     "languageId": "plaintext"
    }
   },
   "outputs": [
    {
     "data": {
      "text/html": [
       "<html>\\(\\displaystyle r :\\ \\left( 0 , +\\infty \\right) ;\\quad θ :\\ \\left( 0 , \\pi \\right) ;\\quad φ :\\ \\left[ 0 , 2 \\, \\pi \\right] \\text{(periodic)}\\)</html>"
      ],
      "text/latex": [
       "$\\displaystyle r :\\ \\left( 0 , +\\infty \\right) ;\\quad θ :\\ \\left( 0 , \\pi \\right) ;\\quad φ :\\ \\left[ 0 , 2 \\, \\pi \\right] \\text{(periodic)}$"
      ],
      "text/plain": [
       "r: (0, +oo); θ: (0, pi); φ: [0, 2*pi] (periodic)"
      ]
     },
     "execution_count": 19,
     "metadata": {},
     "output_type": "execute_result"
    }
   ],
   "source": [
    "E.<r, θ, φ> = EuclideanSpace(coordinates='spherical')\n",
    "E.spherical_coordinates().coord_range()"
   ]
  },
  {
   "cell_type": "markdown",
   "metadata": {},
   "source": [
    "To be complete, let's also check out its frames.  These are in order of its coordinate frame (a tuple of its basis and partials), it's basis frame (in spherical coordinates), which is derived as a Chart from the Cartesian coordinates.  Coordinate frames matter in GR, we will address that later. "
   ]
  },
  {
   "cell_type": "code",
   "execution_count": 27,
   "metadata": {},
   "outputs": [
    {
     "data": {
      "text/html": [
       "<html>\\(\\displaystyle \\left[\\left(\\mathbb{E}^{3}, \\left(\\frac{\\partial}{\\partial r },\\frac{\\partial}{\\partial θ },\\frac{\\partial}{\\partial φ }\\right)\\right), \\left(\\mathbb{E}^{3}, \\left(e_{ r },e_{ θ },e_{ φ }\\right)\\right), \\left(\\mathbb{E}^{3}, \\left(e_{ x },e_{ y },e_{ z }\\right)\\right)\\right]\\)</html>"
      ],
      "text/latex": [
       "$\\displaystyle \\left[\\left(\\mathbb{E}^{3}, \\left(\\frac{\\partial}{\\partial r },\\frac{\\partial}{\\partial θ },\\frac{\\partial}{\\partial φ }\\right)\\right), \\left(\\mathbb{E}^{3}, \\left(e_{ r },e_{ θ },e_{ φ }\\right)\\right), \\left(\\mathbb{E}^{3}, \\left(e_{ x },e_{ y },e_{ z }\\right)\\right)\\right]$"
      ],
      "text/plain": [
       "[Coordinate frame (E^3, (∂/∂r,∂/∂θ,∂/∂φ)),\n",
       " Vector frame (E^3, (e_r,e_θ,e_φ)),\n",
       " Coordinate frame (E^3, (e_x,e_y,e_z))]"
      ]
     },
     "execution_count": 27,
     "metadata": {},
     "output_type": "execute_result"
    }
   ],
   "source": [
    "E.frames()"
   ]
  },
  {
   "cell_type": "markdown",
   "metadata": {},
   "source": [
    "* c.ref. https://math.stackexchange.com/q/1985964 and https://mathworld.wolfram.com/SphericalCoordinates.html; order of the parameter definitions matter!\n",
    "\n",
    "* Given a curvilinear world-line path in spherical coordinates $ds^2 = dr^2 + r\\ d \\theta^2 + r^2 \\sin^2 \\theta\\ d\\phi^2$, we define a metric\n",
    "    $$ g^{ij} = \\begin{bmatrix} 1 & 0 & 0 \\\\ 0 & r^2 & 0 \\\\ 0 & 0 & r^2 \\sin^2\\theta \\end{bmatrix}$$\n",
    "\n",
    "* We also define the Christoffel symbols in summation-notation: $$ \\Gamma_{jk}^{i} \\equiv \\frac{1}{2} \\left( g^{-1} \\right)^{il} \\left[ \\frac{\\partial g^{kl}}{\\partial x^j} + \\frac{\\partial g^{jl}}{\\partial x^k} - \\frac{\\partial g^{jk}}{\\partial x^l} \\right] $$ or equivalently $$ \\Gamma_{jk}^i \\equiv \\frac{1}{2} \\left( g^{-1} \\right)^{il} \\left[ \\partial_j g^{kl} + \\partial_k g^{jl} - \\partial_l g^{jk} \\right] $$\n",
    "\n",
    "* **QUESTION :>** in the definitions above, are the coordinate indices supposed to be upper or lower? Is the definition valid for the contravariant, or the covariant, expression of the indices? Differing definitions across sources. "
   ]
  },
  {
   "cell_type": "code",
   "execution_count": 36,
   "metadata": {},
   "outputs": [],
   "source": [
    "from sage.tensor.modules.tensor_with_indices import TensorWithIndices\n",
    "\n",
    "i,j,k,l = var('i,j,k,l')\n",
    "\n",
    "# For our variable names, we'll use Unicode U+2054 (CHARACTER TIE) to \n",
    "#  indicate contravariant (upper) indices, followed by an underscore preceding\n",
    "#  covariant indices.\n",
    "# For convenience, I've copied over the unicode characters here, e.g.: g⸢ij⸣⸤kl⸥ \n",
    "g⁀ij = Manifold(3, \"g^{ij}\", )"
   ]
  },
  {
   "cell_type": "markdown",
   "metadata": {},
   "source": [
    "* recreate the same thing, but use the manifold definition so I can use the tensor transform to calculate the christoffel symbols from that"
   ]
  },
  {
   "cell_type": "markdown",
   "metadata": {},
   "source": [
    "* use the spherical coordinates of the manifold defined for the rank (0,4) tensor to calculate non-zero christoffel symbols using numpy einsum. "
   ]
  },
  {
   "cell_type": "code",
   "execution_count": null,
   "metadata": {},
   "outputs": [],
   "source": []
  }
 ],
 "metadata": {
  "kernelspec": {
   "display_name": "SageMath 10.5",
   "language": "sage",
   "name": "sagemath-10.5"
  },
  "language_info": {
   "codemirror_mode": {
    "name": "ipython",
    "version": 3
   },
   "file_extension": ".py",
   "mimetype": "text/x-python",
   "name": "python",
   "nbconvert_exporter": "python",
   "pygments_lexer": "ipython3",
   "version": "3.12.5"
  },
  "widgets": {
   "application/vnd.jupyter.widget-state+json": {
    "state": {},
    "version_major": 2,
    "version_minor": 0
   }
  }
 },
 "nbformat": 4,
 "nbformat_minor": 4
}
