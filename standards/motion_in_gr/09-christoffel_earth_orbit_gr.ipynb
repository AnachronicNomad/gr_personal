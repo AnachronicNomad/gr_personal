{
 "cells": [
  {
   "cell_type": "markdown",
   "metadata": {},
   "source": [
    "# [Std 09] - compute the Christoffel symbols for the earth orbit problem in GR"
   ]
  },
  {
   "cell_type": "code",
   "execution_count": 16,
   "metadata": {},
   "outputs": [
    {
     "name": "stdout",
     "output_type": "stream",
     "text": [
      "The autoreload extension is already loaded. To reload it, use:\n",
      "  %reload_ext autoreload\n",
      "The Cython extension is already loaded. To reload it, use:\n",
      "  %reload_ext Cython\n"
     ]
    },
    {
     "data": {
      "text/html": [
       "<html>\\(\\displaystyle \\verb|SageMath|\\verb| |\\verb|version|\\verb| |\\verb|10.5,|\\verb| |\\verb|Release|\\verb| |\\verb|Date:|\\verb| |\\verb|2024-12-04|\\)</html>"
      ],
      "text/latex": [
       "$\\displaystyle \\verb|SageMath|\\verb| |\\verb|version|\\verb| |\\verb|10.5,|\\verb| |\\verb|Release|\\verb| |\\verb|Date:|\\verb| |\\verb|2024-12-04|$"
      ],
      "text/plain": [
       "'SageMath version 10.5, Release Date: 2024-12-04'"
      ]
     },
     "execution_count": 16,
     "metadata": {},
     "output_type": "execute_result"
    }
   ],
   "source": [
    "########\n",
    "## Env Setup\n",
    "########\n",
    "%load_ext autoreload\n",
    "%autoreload complete \n",
    "\n",
    "%load_ext Cython\n",
    "\n",
    "%display latex\n",
    "\n",
    "################\n",
    "\n",
    "from sage.all import *\n",
    "\n",
    "import numpy as np\n",
    "np.random.seed(1_618_033)\n",
    "\n",
    "################\n",
    "\n",
    "Parallelism().set(nproc=8)\n",
    "version()\n"
   ]
  },
  {
   "cell_type": "code",
   "execution_count": null,
   "metadata": {},
   "outputs": [],
   "source": [
    "var('τ r θ φ')\n",
    "M = Manifold(4, \"M\")\n",
    "coords.<t, r, θ, φ> = M.chart(r't:(0,+oo) r:(0,+oo) θ:(0,2*pi):\\theta φ:(0,pi):\\phi')\n"
   ]
  },
  {
   "cell_type": "code",
   "execution_count": 18,
   "metadata": {},
   "outputs": [
    {
     "data": {
      "text/html": [
       "<html>\\(\\displaystyle g = c^{2} {\\left(\\frac{r_{s}}{r} - 1\\right)} \\mathrm{d} t\\otimes \\mathrm{d} t + \\left( -\\frac{1}{\\frac{r_{s}}{r} - 1} \\right) \\mathrm{d} r\\otimes \\mathrm{d} r + r^{2} \\mathrm{d} {\\theta}\\otimes \\mathrm{d} {\\theta} + r^{2} \\sin\\left({\\theta}\\right)^{2} \\mathrm{d} {\\phi}\\otimes \\mathrm{d} {\\phi}\\)</html>"
      ],
      "text/latex": [
       "$\\displaystyle g = c^{2} {\\left(\\frac{r_{s}}{r} - 1\\right)} \\mathrm{d} t\\otimes \\mathrm{d} t + \\left( -\\frac{1}{\\frac{r_{s}}{r} - 1} \\right) \\mathrm{d} r\\otimes \\mathrm{d} r + r^{2} \\mathrm{d} {\\theta}\\otimes \\mathrm{d} {\\theta} + r^{2} \\sin\\left({\\theta}\\right)^{2} \\mathrm{d} {\\phi}\\otimes \\mathrm{d} {\\phi}$"
      ],
      "text/plain": [
       "g = c^2*(r_s/r - 1) dt⊗dt - 1/(r_s/r - 1) dr⊗dr + r^2 dθ⊗dθ + r^2*sin(θ)^2 dφ⊗dφ"
      ]
     },
     "execution_count": 18,
     "metadata": {},
     "output_type": "execute_result"
    }
   ],
   "source": [
    "var('r_s c')\n",
    "\n",
    "g⁀ij = M.metric('g')\n",
    "\n",
    "g⁀ij[0,0] = -(1 - (r_s / r)) * c^2\n",
    "g⁀ij[1,1] = (1 - (r_s / r))^(-1)\n",
    "g⁀ij[2,2] = r^2\n",
    "g⁀ij[3,3] = r^2 * (sin(θ))^2\n",
    "\n",
    "g⁀ij.display()\n"
   ]
  },
  {
   "cell_type": "code",
   "execution_count": 20,
   "metadata": {},
   "outputs": [
    {
     "data": {
      "text/html": [
       "<html>\\(\\displaystyle \\begin{array}{lcl} \\Gamma_{\\phantom{\\, 0}\\,0\\,1}^{\\,0\\phantom{\\, 0}\\phantom{\\, 1}} & = & \\frac{r_{s}}{2 \\, {\\left(r^{2} - r r_{s}\\right)}} \\\\ \\Gamma_{\\phantom{\\, 1}\\,0\\,0}^{\\,1\\phantom{\\, 0}\\phantom{\\, 0}} & = & \\frac{c^{2} r r_{s} - c^{2} r_{s}^{2}}{2 \\, r^{3}} \\\\ \\Gamma_{\\phantom{\\, 1}\\,1\\,1}^{\\,1\\phantom{\\, 1}\\phantom{\\, 1}} & = & -\\frac{r_{s}}{2 \\, {\\left(r^{2} - r r_{s}\\right)}} \\\\ \\Gamma_{\\phantom{\\, 1}\\,2\\,2}^{\\,1\\phantom{\\, 2}\\phantom{\\, 2}} & = & -r + r_{s} \\\\ \\Gamma_{\\phantom{\\, 1}\\,3\\,3}^{\\,1\\phantom{\\, 3}\\phantom{\\, 3}} & = & -{\\left(r - r_{s}\\right)} \\sin\\left({\\theta}\\right)^{2} \\\\ \\Gamma_{\\phantom{\\, 2}\\,1\\,2}^{\\,2\\phantom{\\, 1}\\phantom{\\, 2}} & = & \\frac{1}{r} \\\\ \\Gamma_{\\phantom{\\, 2}\\,3\\,3}^{\\,2\\phantom{\\, 3}\\phantom{\\, 3}} & = & -\\cos\\left({\\theta}\\right) \\sin\\left({\\theta}\\right) \\\\ \\Gamma_{\\phantom{\\, 3}\\,1\\,3}^{\\,3\\phantom{\\, 1}\\phantom{\\, 3}} & = & \\frac{1}{r} \\\\ \\Gamma_{\\phantom{\\, 3}\\,2\\,3}^{\\,3\\phantom{\\, 2}\\phantom{\\, 3}} & = & \\frac{\\cos\\left({\\theta}\\right)}{\\sin\\left({\\theta}\\right)} \\end{array}\\)</html>"
      ],
      "text/latex": [
       "$\\displaystyle \\begin{array}{lcl} \\Gamma_{\\phantom{\\, 0}\\,0\\,1}^{\\,0\\phantom{\\, 0}\\phantom{\\, 1}} & = & \\frac{r_{s}}{2 \\, {\\left(r^{2} - r r_{s}\\right)}} \\\\ \\Gamma_{\\phantom{\\, 1}\\,0\\,0}^{\\,1\\phantom{\\, 0}\\phantom{\\, 0}} & = & \\frac{c^{2} r r_{s} - c^{2} r_{s}^{2}}{2 \\, r^{3}} \\\\ \\Gamma_{\\phantom{\\, 1}\\,1\\,1}^{\\,1\\phantom{\\, 1}\\phantom{\\, 1}} & = & -\\frac{r_{s}}{2 \\, {\\left(r^{2} - r r_{s}\\right)}} \\\\ \\Gamma_{\\phantom{\\, 1}\\,2\\,2}^{\\,1\\phantom{\\, 2}\\phantom{\\, 2}} & = & -r + r_{s} \\\\ \\Gamma_{\\phantom{\\, 1}\\,3\\,3}^{\\,1\\phantom{\\, 3}\\phantom{\\, 3}} & = & -{\\left(r - r_{s}\\right)} \\sin\\left({\\theta}\\right)^{2} \\\\ \\Gamma_{\\phantom{\\, 2}\\,1\\,2}^{\\,2\\phantom{\\, 1}\\phantom{\\, 2}} & = & \\frac{1}{r} \\\\ \\Gamma_{\\phantom{\\, 2}\\,3\\,3}^{\\,2\\phantom{\\, 3}\\phantom{\\, 3}} & = & -\\cos\\left({\\theta}\\right) \\sin\\left({\\theta}\\right) \\\\ \\Gamma_{\\phantom{\\, 3}\\,1\\,3}^{\\,3\\phantom{\\, 1}\\phantom{\\, 3}} & = & \\frac{1}{r} \\\\ \\Gamma_{\\phantom{\\, 3}\\,2\\,3}^{\\,3\\phantom{\\, 2}\\phantom{\\, 3}} & = & \\frac{\\cos\\left({\\theta}\\right)}{\\sin\\left({\\theta}\\right)} \\end{array}$"
      ],
      "text/plain": [
       "Gam^0_01 = 1/2*r_s/(r^2 - r*r_s) \n",
       "Gam^1_00 = 1/2*(c^2*r*r_s - c^2*r_s^2)/r^3 \n",
       "Gam^1_11 = -1/2*r_s/(r^2 - r*r_s) \n",
       "Gam^1_22 = -r + r_s \n",
       "Gam^1_33 = -(r - r_s)*sin(θ)^2 \n",
       "Gam^2_12 = 1/r \n",
       "Gam^2_33 = -cos(θ)*sin(θ) \n",
       "Gam^3_13 = 1/r \n",
       "Gam^3_23 = cos(θ)/sin(θ) "
      ]
     },
     "execution_count": 20,
     "metadata": {},
     "output_type": "execute_result"
    }
   ],
   "source": [
    "g⁀ij.christoffel_symbols_display(coordinate_labels=False)\n"
   ]
  },
  {
   "cell_type": "code",
   "execution_count": null,
   "metadata": {},
   "outputs": [
    {
     "ename": "IndexError",
     "evalue": "number of covavariant indices not compatible with the tensor type",
     "output_type": "error",
     "traceback": [
      "\u001b[0;31m---------------------------------------------------------------------------\u001b[0m",
      "\u001b[0;31mIndexError\u001b[0m                                Traceback (most recent call last)",
      "Cell \u001b[0;32mIn[22], line 1\u001b[0m\n\u001b[0;32m----> 1\u001b[0m \u001b[43mg⁀ij\u001b[49m\u001b[43m[\u001b[49m\u001b[38;5;124;43m\"\u001b[39;49m\u001b[38;5;124;43m_k\u001b[39;49m\u001b[38;5;124;43m\"\u001b[39;49m\u001b[43m]\u001b[49m\n",
      "File \u001b[0;32m/private/var/tmp/sage-10.5-current/local/var/lib/sage/venv-python3.12.5/lib/python3.12/site-packages/sage/tensor/modules/free_module_tensor.py:1522\u001b[0m, in \u001b[0;36mFreeModuleTensor.__getitem__\u001b[0;34m(self, args)\u001b[0m\n\u001b[1;32m   1484\u001b[0m \u001b[38;5;250m\u001b[39m\u001b[38;5;124mr\u001b[39m\u001b[38;5;124;03m\"\"\"\u001b[39;00m\n\u001b[1;32m   1485\u001b[0m \u001b[38;5;124;03mReturn a component w.r.t. some basis.\u001b[39;00m\n\u001b[1;32m   1486\u001b[0m \n\u001b[0;32m   (...)\u001b[0m\n\u001b[1;32m   1519\u001b[0m \u001b[38;5;124;03m    [3, -5, 2]\u001b[39;00m\n\u001b[1;32m   1520\u001b[0m \u001b[38;5;124;03m\"\"\"\u001b[39;00m\n\u001b[1;32m   1521\u001b[0m \u001b[38;5;28;01mif\u001b[39;00m \u001b[38;5;28misinstance\u001b[39m(args, \u001b[38;5;28mstr\u001b[39m): \u001b[38;5;66;03m# tensor with specified indices\u001b[39;00m\n\u001b[0;32m-> 1522\u001b[0m     \u001b[38;5;28;01mreturn\u001b[39;00m \u001b[43mTensorWithIndices\u001b[49m\u001b[43m(\u001b[49m\u001b[38;5;28;43mself\u001b[39;49m\u001b[43m,\u001b[49m\u001b[43m \u001b[49m\u001b[43margs\u001b[49m\u001b[43m)\u001b[49m\u001b[38;5;241m.\u001b[39mupdate()\n\u001b[1;32m   1523\u001b[0m \u001b[38;5;28;01mif\u001b[39;00m \u001b[38;5;28misinstance\u001b[39m(args, \u001b[38;5;28mlist\u001b[39m):  \u001b[38;5;66;03m# case of [[...]] syntax\u001b[39;00m\n\u001b[1;32m   1524\u001b[0m     \u001b[38;5;28;01mif\u001b[39;00m \u001b[38;5;28misinstance\u001b[39m(args[\u001b[38;5;241m0\u001b[39m], (\u001b[38;5;28mint\u001b[39m, Integer, \u001b[38;5;28mslice\u001b[39m)):\n",
      "File \u001b[0;32m/private/var/tmp/sage-10.5-current/local/var/lib/sage/venv-python3.12.5/lib/python3.12/site-packages/sage/tensor/modules/tensor_with_indices.py:422\u001b[0m, in \u001b[0;36mTensorWithIndices.__init__\u001b[0;34m(self, tensor, indices)\u001b[0m\n\u001b[1;32m    409\u001b[0m \u001b[38;5;28mself\u001b[39m\u001b[38;5;241m.\u001b[39m_changed \u001b[38;5;241m=\u001b[39m \u001b[38;5;28;01mFalse\u001b[39;00m \u001b[38;5;66;03m# indicates whether self contains an altered\u001b[39;00m\n\u001b[1;32m    410\u001b[0m                       \u001b[38;5;66;03m# version of the original tensor (True if\u001b[39;00m\n\u001b[1;32m    411\u001b[0m                       \u001b[38;5;66;03m# symmetries or contractions are indicated in the\u001b[39;00m\n\u001b[1;32m    412\u001b[0m                       \u001b[38;5;66;03m# indices)\u001b[39;00m\n\u001b[0;32m   (...)\u001b[0m\n\u001b[1;32m    419\u001b[0m \u001b[38;5;66;03m# Latex notations '{' and '}' are totally ignored.\u001b[39;00m\n\u001b[1;32m    420\u001b[0m \u001b[38;5;66;03m# \"^{ijkl}_{ib(cd)}\"\u001b[39;00m\n\u001b[0;32m--> 422\u001b[0m con,cov \u001b[38;5;241m=\u001b[39m \u001b[38;5;28;43mself\u001b[39;49m\u001b[38;5;241;43m.\u001b[39;49m\u001b[43m_parse_indices\u001b[49m\u001b[43m(\u001b[49m\n\u001b[1;32m    423\u001b[0m \u001b[43m    \u001b[49m\u001b[43mindices\u001b[49m\u001b[43m,\u001b[49m\n\u001b[1;32m    424\u001b[0m \u001b[43m    \u001b[49m\u001b[43mtensor_type\u001b[49m\u001b[38;5;241;43m=\u001b[39;49m\u001b[38;5;28;43mself\u001b[39;49m\u001b[38;5;241;43m.\u001b[39;49m\u001b[43m_tensor\u001b[49m\u001b[38;5;241;43m.\u001b[39;49m\u001b[43mtensor_type\u001b[49m\u001b[43m(\u001b[49m\u001b[43m)\u001b[49m\n\u001b[1;32m    425\u001b[0m \u001b[43m\u001b[49m\u001b[43m)\u001b[49m\n\u001b[1;32m    427\u001b[0m \u001b[38;5;66;03m# Apply (anti)symmetrizations on contravariant indices\u001b[39;00m\n\u001b[1;32m    428\u001b[0m first_sym_regex \u001b[38;5;241m=\u001b[39m \u001b[38;5;124mr\u001b[39m\u001b[38;5;124m\"\u001b[39m\u001b[38;5;124m(\u001b[39m\u001b[38;5;124m\\\u001b[39m\u001b[38;5;124m(|\u001b[39m\u001b[38;5;124m\\\u001b[39m\u001b[38;5;124m[)\u001b[39m\u001b[38;5;124m\"\u001b[39m \u001b[38;5;241m+\u001b[39m _alph_or_dot_pattern \u001b[38;5;241m+\u001b[39m \u001b[38;5;124mr\u001b[39m\u001b[38;5;124m\"\u001b[39m\u001b[38;5;124m*[)\u001b[39m\u001b[38;5;124m\\\u001b[39m\u001b[38;5;124m]]\u001b[39m\u001b[38;5;124m\"\u001b[39m\n",
      "File \u001b[0;32m/private/var/tmp/sage-10.5-current/local/var/lib/sage/venv-python3.12.5/lib/python3.12/site-packages/sage/tensor/modules/tensor_with_indices.py:381\u001b[0m, in \u001b[0;36mTensorWithIndices._parse_indices\u001b[0;34m(indices, tensor_type, allow_contraction, allow_symmetries)\u001b[0m\n\u001b[1;32m    378\u001b[0m         \u001b[38;5;28;01mraise\u001b[39;00m \u001b[38;5;167;01mIndexError\u001b[39;00m(\u001b[38;5;124m\"\u001b[39m\u001b[38;5;124mnumber of contravariant indices not compatible \u001b[39m\u001b[38;5;124m\"\u001b[39m\n\u001b[1;32m    379\u001b[0m                          \u001b[38;5;124m\"\u001b[39m\u001b[38;5;124mwith the tensor type\u001b[39m\u001b[38;5;124m\"\u001b[39m)\n\u001b[1;32m    380\u001b[0m     \u001b[38;5;28;01mif\u001b[39;00m \u001b[38;5;28mlen\u001b[39m(cov_without_sym) \u001b[38;5;241m!=\u001b[39m tensor_type[\u001b[38;5;241m1\u001b[39m]:\n\u001b[0;32m--> 381\u001b[0m         \u001b[38;5;28;01mraise\u001b[39;00m \u001b[38;5;167;01mIndexError\u001b[39;00m(\u001b[38;5;124m\"\u001b[39m\u001b[38;5;124mnumber of covavariant indices not compatible \u001b[39m\u001b[38;5;124m\"\u001b[39m\n\u001b[1;32m    382\u001b[0m                          \u001b[38;5;124m\"\u001b[39m\u001b[38;5;124mwith the tensor type\u001b[39m\u001b[38;5;124m\"\u001b[39m)\n\u001b[1;32m    383\u001b[0m \u001b[38;5;28;01mreturn\u001b[39;00m con,cov\n",
      "\u001b[0;31mIndexError\u001b[0m: number of covavariant indices not compatible with the tensor type"
     ]
    }
   ],
   "source": []
  },
  {
   "cell_type": "code",
   "execution_count": null,
   "metadata": {},
   "outputs": [],
   "source": []
  }
 ],
 "metadata": {
  "kernelspec": {
   "display_name": "SageMath 10.5",
   "language": "sage",
   "name": "SageMath-10.5"
  },
  "language_info": {
   "codemirror_mode": {
    "name": "ipython",
    "version": 3
   },
   "file_extension": ".py",
   "mimetype": "text/x-python",
   "name": "python",
   "nbconvert_exporter": "python",
   "pygments_lexer": "ipython3",
   "version": "3.12.5"
  }
 },
 "nbformat": 4,
 "nbformat_minor": 2
}
