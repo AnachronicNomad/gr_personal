{
 "cells": [
  {
   "cell_type": "markdown",
   "metadata": {},
   "source": [
    "# [Std 09] - compute the Christoffel symbols for the earth orbit problem in GR"
   ]
  },
  {
   "cell_type": "code",
   "execution_count": 1,
   "metadata": {
    "vscode": {
     "languageId": "python"
    }
   },
   "outputs": [
    {
     "data": {
      "text/html": [
       "<html>\\(\\displaystyle \\verb|SageMath|\\verb| |\\verb|version|\\verb| |\\verb|10.5,|\\verb| |\\verb|Release|\\verb| |\\verb|Date:|\\verb| |\\verb|2024-12-04|\\)</html>"
      ],
      "text/latex": [
       "$\\displaystyle \\verb|SageMath|\\verb| |\\verb|version|\\verb| |\\verb|10.5,|\\verb| |\\verb|Release|\\verb| |\\verb|Date:|\\verb| |\\verb|2024-12-04|$"
      ],
      "text/plain": [
       "'SageMath version 10.5, Release Date: 2024-12-04'"
      ]
     },
     "execution_count": 1,
     "metadata": {},
     "output_type": "execute_result"
    }
   ],
   "source": [
    "########\n",
    "## Env Setup\n",
    "########\n",
    "%load_ext autoreload\n",
    "%autoreload complete \n",
    "\n",
    "%load_ext Cython\n",
    "\n",
    "%display latex\n",
    "\n",
    "################\n",
    "\n",
    "from sage.all import *\n",
    "\n",
    "import numpy as np\n",
    "np.random.seed(1_618_033)\n",
    "\n",
    "################\n",
    "\n",
    "Parallelism().set(nproc=8)\n",
    "version()\n"
   ]
  },
  {
   "cell_type": "code",
   "execution_count": 2,
   "metadata": {
    "vscode": {
     "languageId": "python"
    }
   },
   "outputs": [],
   "source": [
    "var('τ r θ φ')\n",
    "M = Manifold(4, \"M\")\n",
    "coords.<t, r, θ, φ> = M.chart(r't:(0,+oo) r:(0,+oo) θ:(0,2*pi):\\theta φ:(0,pi):\\phi')\n"
   ]
  },
  {
   "cell_type": "code",
   "execution_count": 3,
   "metadata": {
    "vscode": {
     "languageId": "python"
    }
   },
   "outputs": [
    {
     "data": {
      "text/html": [
       "<html>\\(\\displaystyle g = c^{2} {\\left(\\frac{r_{s}}{r} - 1\\right)} \\mathrm{d} t\\otimes \\mathrm{d} t + \\left( -\\frac{1}{\\frac{r_{s}}{r} - 1} \\right) \\mathrm{d} r\\otimes \\mathrm{d} r + r^{2} \\mathrm{d} {\\theta}\\otimes \\mathrm{d} {\\theta} + r^{2} \\sin\\left({\\theta}\\right)^{2} \\mathrm{d} {\\phi}\\otimes \\mathrm{d} {\\phi}\\)</html>"
      ],
      "text/latex": [
       "$\\displaystyle g = c^{2} {\\left(\\frac{r_{s}}{r} - 1\\right)} \\mathrm{d} t\\otimes \\mathrm{d} t + \\left( -\\frac{1}{\\frac{r_{s}}{r} - 1} \\right) \\mathrm{d} r\\otimes \\mathrm{d} r + r^{2} \\mathrm{d} {\\theta}\\otimes \\mathrm{d} {\\theta} + r^{2} \\sin\\left({\\theta}\\right)^{2} \\mathrm{d} {\\phi}\\otimes \\mathrm{d} {\\phi}$"
      ],
      "text/plain": [
       "g = c^2*(r_s/r - 1) dt⊗dt - 1/(r_s/r - 1) dr⊗dr + r^2 dθ⊗dθ + r^2*sin(θ)^2 dφ⊗dφ"
      ]
     },
     "execution_count": 3,
     "metadata": {},
     "output_type": "execute_result"
    }
   ],
   "source": [
    "var('r_s c')\n",
    "\n",
    "g⁀ij = M.metric('g')\n",
    "\n",
    "g⁀ij[0,0] = -(1 - (r_s / r)) * c^2\n",
    "g⁀ij[1,1] = (1 - (r_s / r))^(-1)\n",
    "g⁀ij[2,2] = r^2\n",
    "g⁀ij[3,3] = r^2 * (sin(θ))^2\n",
    "\n",
    "g⁀ij.display()\n"
   ]
  },
  {
   "cell_type": "code",
   "execution_count": 4,
   "metadata": {
    "vscode": {
     "languageId": "python"
    }
   },
   "outputs": [
    {
     "data": {
      "text/html": [
       "<html>\\(\\displaystyle \\begin{array}{lcl} \\Gamma_{\\phantom{\\, 0}\\,0\\,1}^{\\,0\\phantom{\\, 0}\\phantom{\\, 1}} & = & \\frac{r_{s}}{2 \\, {\\left(r^{2} - r r_{s}\\right)}} \\\\ \\Gamma_{\\phantom{\\, 1}\\,0\\,0}^{\\,1\\phantom{\\, 0}\\phantom{\\, 0}} & = & \\frac{c^{2} r r_{s} - c^{2} r_{s}^{2}}{2 \\, r^{3}} \\\\ \\Gamma_{\\phantom{\\, 1}\\,1\\,1}^{\\,1\\phantom{\\, 1}\\phantom{\\, 1}} & = & -\\frac{r_{s}}{2 \\, {\\left(r^{2} - r r_{s}\\right)}} \\\\ \\Gamma_{\\phantom{\\, 1}\\,2\\,2}^{\\,1\\phantom{\\, 2}\\phantom{\\, 2}} & = & -r + r_{s} \\\\ \\Gamma_{\\phantom{\\, 1}\\,3\\,3}^{\\,1\\phantom{\\, 3}\\phantom{\\, 3}} & = & -{\\left(r - r_{s}\\right)} \\sin\\left({\\theta}\\right)^{2} \\\\ \\Gamma_{\\phantom{\\, 2}\\,1\\,2}^{\\,2\\phantom{\\, 1}\\phantom{\\, 2}} & = & \\frac{1}{r} \\\\ \\Gamma_{\\phantom{\\, 2}\\,3\\,3}^{\\,2\\phantom{\\, 3}\\phantom{\\, 3}} & = & -\\cos\\left({\\theta}\\right) \\sin\\left({\\theta}\\right) \\\\ \\Gamma_{\\phantom{\\, 3}\\,1\\,3}^{\\,3\\phantom{\\, 1}\\phantom{\\, 3}} & = & \\frac{1}{r} \\\\ \\Gamma_{\\phantom{\\, 3}\\,2\\,3}^{\\,3\\phantom{\\, 2}\\phantom{\\, 3}} & = & \\frac{\\cos\\left({\\theta}\\right)}{\\sin\\left({\\theta}\\right)} \\end{array}\\)</html>"
      ],
      "text/latex": [
       "$\\displaystyle \\begin{array}{lcl} \\Gamma_{\\phantom{\\, 0}\\,0\\,1}^{\\,0\\phantom{\\, 0}\\phantom{\\, 1}} & = & \\frac{r_{s}}{2 \\, {\\left(r^{2} - r r_{s}\\right)}} \\\\ \\Gamma_{\\phantom{\\, 1}\\,0\\,0}^{\\,1\\phantom{\\, 0}\\phantom{\\, 0}} & = & \\frac{c^{2} r r_{s} - c^{2} r_{s}^{2}}{2 \\, r^{3}} \\\\ \\Gamma_{\\phantom{\\, 1}\\,1\\,1}^{\\,1\\phantom{\\, 1}\\phantom{\\, 1}} & = & -\\frac{r_{s}}{2 \\, {\\left(r^{2} - r r_{s}\\right)}} \\\\ \\Gamma_{\\phantom{\\, 1}\\,2\\,2}^{\\,1\\phantom{\\, 2}\\phantom{\\, 2}} & = & -r + r_{s} \\\\ \\Gamma_{\\phantom{\\, 1}\\,3\\,3}^{\\,1\\phantom{\\, 3}\\phantom{\\, 3}} & = & -{\\left(r - r_{s}\\right)} \\sin\\left({\\theta}\\right)^{2} \\\\ \\Gamma_{\\phantom{\\, 2}\\,1\\,2}^{\\,2\\phantom{\\, 1}\\phantom{\\, 2}} & = & \\frac{1}{r} \\\\ \\Gamma_{\\phantom{\\, 2}\\,3\\,3}^{\\,2\\phantom{\\, 3}\\phantom{\\, 3}} & = & -\\cos\\left({\\theta}\\right) \\sin\\left({\\theta}\\right) \\\\ \\Gamma_{\\phantom{\\, 3}\\,1\\,3}^{\\,3\\phantom{\\, 1}\\phantom{\\, 3}} & = & \\frac{1}{r} \\\\ \\Gamma_{\\phantom{\\, 3}\\,2\\,3}^{\\,3\\phantom{\\, 2}\\phantom{\\, 3}} & = & \\frac{\\cos\\left({\\theta}\\right)}{\\sin\\left({\\theta}\\right)} \\end{array}$"
      ],
      "text/plain": [
       "Gam^0_01 = 1/2*r_s/(r^2 - r*r_s) \n",
       "Gam^1_00 = 1/2*(c^2*r*r_s - c^2*r_s^2)/r^3 \n",
       "Gam^1_11 = -1/2*r_s/(r^2 - r*r_s) \n",
       "Gam^1_22 = -r + r_s \n",
       "Gam^1_33 = -(r - r_s)*sin(θ)^2 \n",
       "Gam^2_12 = 1/r \n",
       "Gam^2_33 = -cos(θ)*sin(θ) \n",
       "Gam^3_13 = 1/r \n",
       "Gam^3_23 = cos(θ)/sin(θ) "
      ]
     },
     "execution_count": 4,
     "metadata": {},
     "output_type": "execute_result"
    }
   ],
   "source": [
    "g⁀ij.christoffel_symbols_display(coordinate_labels=False)\n"
   ]
  }
 ],
 "metadata": {
  "kernelspec": {
   "display_name": "SageMath 10.5",
   "language": "sage",
   "name": "SageMath-10.5"
  },
  "language_info": {
   "codemirror_mode": {
    "name": "ipython",
    "version": 3
   },
   "file_extension": ".py",
   "mimetype": "text/x-python",
   "name": "sage",
   "nbconvert_exporter": "python",
   "pygments_lexer": "ipython3",
   "version": "3.12.5"
  }
 },
 "nbformat": 4,
 "nbformat_minor": 2
}
