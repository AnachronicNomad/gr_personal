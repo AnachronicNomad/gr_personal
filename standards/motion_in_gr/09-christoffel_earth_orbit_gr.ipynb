{
 "cells": [
  {
   "cell_type": "markdown",
   "metadata": {},
   "source": [
    "# [Std 09] - compute the Christoffel symbols for the earth orbit problem in GR"
   ]
  },
  {
   "cell_type": "markdown",
   "metadata": {},
   "source": []
  }
 ],
 "metadata": {
  "language_info": {
   "name": "python"
  }
 },
 "nbformat": 4,
 "nbformat_minor": 2
}
