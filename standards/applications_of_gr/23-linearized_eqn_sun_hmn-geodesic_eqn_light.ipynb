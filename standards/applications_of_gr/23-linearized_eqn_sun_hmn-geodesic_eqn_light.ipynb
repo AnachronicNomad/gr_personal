{
 "cells": [
  {
   "cell_type": "markdown",
   "metadata": {},
   "source": [
    "# [Std 23] - Get hmn for sun and show that it satisfies the linearized equation, get geodesic equation for light from hmn"
   ]
  },
  {
   "cell_type": "markdown",
   "metadata": {},
   "source": []
  }
 ],
 "metadata": {
  "language_info": {
   "name": "python"
  }
 },
 "nbformat": 4,
 "nbformat_minor": 2
}
