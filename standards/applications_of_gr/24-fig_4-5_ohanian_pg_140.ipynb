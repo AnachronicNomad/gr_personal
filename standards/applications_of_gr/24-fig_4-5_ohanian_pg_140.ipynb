{
 "cells": [
  {
   "cell_type": "markdown",
   "metadata": {},
   "source": [
    "# [Std 24] - Reproduce figure 4.5 from pg 140 of the text on the deflection of light."
   ]
  },
  {
   "cell_type": "markdown",
   "metadata": {},
   "source": []
  }
 ],
 "metadata": {
  "language_info": {
   "name": "python"
  }
 },
 "nbformat": 4,
 "nbformat_minor": 2
}
