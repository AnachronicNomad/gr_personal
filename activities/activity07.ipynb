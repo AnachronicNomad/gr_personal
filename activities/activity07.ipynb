{
 "cells": [
  {
   "cell_type": "markdown",
   "metadata": {},
   "source": [
    ">   # More on General Relativistic Orbits\n",
    ">\n",
    ">   **Instructions:** Answer each question, working with your table group, the LAs, and the professor!\n",
    ">\n",
    ">   **Activity:**\n",
    ">\n",
    ">   The goal of this activity is to get the Equations of Motion for an orbiting body (near Earth) using the Schwarzschild metric, and analyze the behavior of the solution in the case of a circular orbit. \n",
    ">\n",
    ">   Remember, this problem is using General Relativity, so there does not need to be a force; gravity is a pseudo-force accounted for by the metric tensor itself. This part of the activity is sort of a continuation from last week. \n",
    ">\n",
    ">   We will also prepare for next class when we talk about _non-circular_ orbits.  Our goal today is to understand how we can show that in the Newtonian case (non-relativistic) the elliptical orbits are _closed in one trip around the Earth_."
   ]
  },
  {
   "cell_type": "markdown",
   "metadata": {},
   "source": [
    ">   ### [1]\n",
    ">\n",
    ">   The period of a circular Newtonian orbit is:\n",
    ">   \n",
    ">   $$T = 2\\pi \\sqrt{\\frac{r^3}{GM}}$$\n",
    ">\n",
    ">   Calculate that period for the orbital radius of the ISS (6,770 km). What does this result become when we include general relativity? How much longer or shorter in proper time does one orbit take? "
   ]
  },
  {
   "cell_type": "markdown",
   "metadata": {},
   "source": []
  },
  {
   "cell_type": "markdown",
   "metadata": {},
   "source": [
    ">   ### [2]\n",
    ">\n",
    ">   We found in class that the solution to the time equation of \"motion\" was t=$t(\\tau) = A\\tau$ where $A$ is: $$A = \\sqrt{\\frac{1}{1 - \\frac{3}{2} (r_s / r)}}$$\n",
    ">\n",
    ">   Interpret this result. \n",
    ">\n",
    ">   Specifically, compare the \"proper\" time infinitely far away from the singularity to an orbit that's closer.  In the movie Interstellar ([https://en.wikipedia.org/wiki/Interstellar_(film)](https://en.wikipedia.org/wiki/Interstellar_(film))) the \"Miller's Planet\" orbits a black hole. It is said that the time difference between the surface and Earth (effectively infinitely far away) is 7 Earth hours per each 1 hour on Miller's planet.  If this is true, calculate the ratio $r_s / r$ for the orbit of Miller's planet. How close to the event horizon (in percent) is the orbit of Miller's planet? "
   ]
  },
  {
   "cell_type": "markdown",
   "metadata": {},
   "source": []
  },
  {
   "cell_type": "markdown",
   "metadata": {},
   "source": [
    ">   ### [3]\n",
    ">\n",
    ">   The following equations describe a non-circular orbit in the non-relativistic theory of Newton. \n",
    ">\n",
    ">   $$\\begin{align*}\n",
    ">       \\ddot{r} - r \\dot{\\phi}^2 &= - \\frac{GM}{r^2} \\tag{3.1}\\\\\n",
    ">       r \\ddot{\\phi} + 2 \\dot{r} \\dot{\\phi} &= 0 \\tag{3.2}\n",
    ">   \\end{align*}$$\n",
    ">\n",
    ">   Use the second equation to show that the quantity $l = m r \\dot{\\phi}$ must be constant. Similar to what we tried to do in class, but without looking at your notes. "
   ]
  },
  {
   "cell_type": "markdown",
   "metadata": {},
   "source": []
  },
  {
   "cell_type": "markdown",
   "metadata": {},
   "source": [
    ">   ### [4]\n",
    ">\n",
    ">   Use this constant \"angular momentum\" to show that:\n",
    ">\n",
    ">   $$\\ddot{r} = \\frac{l}{mr^2} \\frac{d}{d\\phi} \\left( \\frac{l}{mr^2} \\frac{dr}{d\\phi} \\right)$$\n",
    ">\n",
    ">   Again, similar to what we tried to do in class. This is a major step to change the differential equation for $r(t)$ into a differential equation for $r(\\phi)$, which directly gives the shape of the orbit without needing to solve for $r(t)$ (which is more complex). \n",
    ">\n",
    ">   | | |\n",
    ">   | :---: | ---: |\n",
    ">   | Std. 10 | Get the EoM for the GR Earth orbit and compare to Newtonian case |\n",
    ">   | Std. XY | Fill-in-the-Blank Freebie |"
   ]
  },
  {
   "cell_type": "markdown",
   "metadata": {},
   "source": []
  },
  {
   "cell_type": "code",
   "execution_count": null,
   "metadata": {
    "vscode": {
     "languageId": "plaintext"
    }
   },
   "outputs": [],
   "source": []
  }
 ],
 "metadata": {
  "kernelspec": {
   "display_name": "SageMath 10.5",
   "language": "sage",
   "name": "SageMath-10.5"
  },
  "language_info": {
   "codemirror_mode": {
    "name": "ipython",
    "version": 3
   },
   "file_extension": ".py",
   "mimetype": "text/x-python",
   "name": "sage",
   "nbconvert_exporter": "python",
   "pygments_lexer": "ipython3",
   "version": "3.12.5"
  }
 },
 "nbformat": 4,
 "nbformat_minor": 2
}
