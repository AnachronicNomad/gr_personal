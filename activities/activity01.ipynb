{
 "cells": [
  {
   "cell_type": "markdown",
   "metadata": {},
   "source": [
    ">   # Reference Frames & Component Notation"
   ]
  },
  {
   "cell_type": "markdown",
   "metadata": {},
   "source": [
    ">   **Instructions:** Answer each question, working with your table group, the LAs, and the professor!\n",
    ">\n",
    ">   **Activity:**\n",
    ">\n",
    ">   <center><img width=\"66%\" height=\"66%\" src=\"\"></center>"
   ]
  },
  {
   "cell_type": "markdown",
   "metadata": {},
   "source": [
    ">   ### [1] \n",
    ">\n",
    ">   Draw two reference frames corresponding to Figure 1; one that moves with the rocket, and one that is \"stationary\". Which frame is inertial? What kind of function is $\\ddot{R}_f(t)$?"
   ]
  },
  {
   "cell_type": "markdown",
   "metadata": {},
   "source": [
    ">   ### [2] \n",
    ">\n",
    ">   In the situation in Fig. 1, you release an object at the $t=0$ point and watch it float for $5[s]$ seconds.  Use Newton's 2nd Law, and an appropriate pseudo-force, to figure out the displacement after that time. "
   ]
  },
  {
   "cell_type": "markdown",
   "metadata": {},
   "source": [
    ">   ### [3]\n",
    ">\n",
    ">   The Levi-Civita tensor is defined as:\n",
    ">   $$\\epsilon_{ijk} = \\begin{cases}\n",
    ">   \\end{cases}$$\n",
    ">   \n",
    ">   Verify that the following expression gives the components of the familiar cross-product between two vectors. \n",
    ">\n",
    ">   $$\\left( \\vec{a} \\times \\vec{b} \\right)^i = \\sum_{j=1, k=1}^{3} \\epsilon_{ijk} a^j b^k$$"
   ]
  },
  {
   "cell_type": "markdown",
   "metadata": {},
   "source": [
    ">   ### [4]\n",
    ">\n",
    ">   Taking the following expression for the general pseudoforce, rewrite each term in component notation. Be sure to define all the symbols. \n",
    ">   $$\\begin{align*}\\vec{F}_{\\textrm{eff}} =\\ & \\vec{F}_{\\textrm{net}} \\\\ &- m \\ddot{\\vec{R}}_f \\\\ &- m \\dot{\\vec{\\omega}} \\times \\vec{r} \\\\ &- m\\vec{\\omega} \\times \\left(\\vec{\\omega}\\times \\vec{r} \\right) \\\\ &- 2m\\vec{\\omega} \\times \\vec{v}\\end{align*}$$"
   ]
  },
  {
   "cell_type": "markdown",
   "metadata": {},
   "source": []
  }
 ],
 "metadata": {
  "kernelspec": {
   "display_name": "SageMath 10.5",
   "language": "sage",
   "name": "SageMath-10.5"
  },
  "language_info": {
   "name": "sage"
  }
 },
 "nbformat": 4,
 "nbformat_minor": 2
}
