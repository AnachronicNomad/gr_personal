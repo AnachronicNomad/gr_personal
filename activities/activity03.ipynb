{
 "cells": [
  {
   "cell_type": "markdown",
   "metadata": {},
   "source": [
    ">   # The Geodesic Equation with Polar Coordinates\n",
    "> \n",
    ">   **Instructions:**   Answer each question, working with your table group, the LAs, and the professor!\n",
    ">\n",
    ">   **Activity:**\n",
    ">\n",
    ">   The goal of this activity is to get used to working with different metrics, the Christoffel symbols, and the geodesic equation in a simple setting: 2D flat space.  The geodesic equation in this setting should tell us what \"straight line\" means in our coordinate system.  While this definition is quite straight-forward in Cartesian coordinates, it is a bit more complex in polar coordinates. However, working with this equation in polar coordinates will solve our apparent problem for circular motion -- see notes from previous class. "
   ]
  },
  {
   "cell_type": "markdown",
   "metadata": {},
   "source": [
    ">   ### [1]\n",
    ">\n",
    ">   Calculate the 8 Christoffel symbols in polar coordinates."
   ]
  },
  {
   "cell_type": "markdown",
   "metadata": {},
   "source": [
    ">   ### [2] \n",
    ">\n",
    ">   Write out the geodesic equation in 2D polar coordinates as two coupled differential equations, using the Christoffel symbols you found above. \n"
   ]
  },
  {
   "cell_type": "markdown",
   "metadata": {},
   "source": [
    ">   ### [3]\n",
    ">\n",
    ">   Check that these Christoffel symbols and the geodesic equation make the component form of Newton's 2nd Law correct for circular motion (see class notes). \n",
    ">\n",
    ">   In other words, the expected centripetal force should be balanced by the term including the Christoffel symbols so that, even though the second derivatives of the polar coordinates are zero, the force equation (geodesic equation plus non-zero forces) is satisfied. "
   ]
  },
  {
   "cell_type": "markdown",
   "metadata": {},
   "source": [
    ">   ### [4]\n",
    ">\n",
    ">   Figure 3 shows two straight lines in the 2D plane.  Path A goes through the origin, and is rather simple to parameterize: $r_A(t) = r_0 + vt$, $\\theta_A(t) = \\pi / 4$.  Verify that this line satisfies the polar-coordinate geodesic equation. \n",
    ">\n",
    ">   Path B is more difficult to parameterize.  We can start with cartesian coordinates like: $x_B(t) = x_0 + vt$, $y_B(t) = d$.  Then, we can use the transformation equations between cartesian and polar: $x = r \\cos(\\theta)$, $y=r\\sin(\\theta)$.  That means that the correct parameterization for the Path B in polar coordinates is below:\n",
    ">\n",
    ">   $$\\begin{align*}\n",
    ">       r_B(t) &= \\left( (x_0 + vt)^2 + d^2\\right)^{1/2} \\\\\n",
    ">       \\sin(\\theta_B(t)) &= \\frac{d}{r_B(t)}\n",
    ">   \\end{align*}$$\n",
    ">\n",
    ">   Using these facts, verify that Path B also satisfies the geodesic equation in polar coordinates. \n",
    ">   <center><img width=\"66%\" height=\"66%\" src=\"\"></center>"
   ]
  },
  {
   "cell_type": "markdown",
   "metadata": {},
   "source": []
  }
 ],
 "metadata": {
  "language_info": {
   "name": "python"
  }
 },
 "nbformat": 4,
 "nbformat_minor": 2
}
