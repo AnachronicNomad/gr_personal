{
 "cells": [
  {
   "cell_type": "markdown",
   "metadata": {},
   "source": [
    ">   # The Newtonian Gravity Problem in Spherical Coordinates\n",
    ">\n",
    ">   **Instructions:** Answer each question, working with your table group, the LAs, and the professor!\n",
    ">\n",
    ">   **Activity:**\n",
    ">\n",
    ">   The goal of this activity is to get the equations of motion for an orbiting body (near Earth) in two different ways: using the traditional unit vector approach, and with our component notation. "
   ]
  },
  {
   "cell_type": "markdown",
   "metadata": {},
   "source": [
    ">   ### [1] \n",
    ">\n",
    ">   Break down $\\vec{x}(t)$ and its derivatives in spherical vector notation (i.e., using $\\hat{r}$, $\\hat{\\theta}$, $\\hat{\\phi}$)."
   ]
  },
  {
   "cell_type": "markdown",
   "metadata": {},
   "source": [
    ">   ### [2]\n",
    ">\n",
    ">   Use the answer to the first question to get the equations of motion for the orbit problem with vectors. "
   ]
  },
  {
   "cell_type": "markdown",
   "metadata": {},
   "source": [
    ">   ### [3]\n",
    ">\n",
    ">   Find the Christoffel symbols in 3D spherical coordinates and use them to get the equations of motion for the orbit problem. "
   ]
  },
  {
   "cell_type": "markdown",
   "metadata": {},
   "source": []
  }
 ],
 "metadata": {
  "language_info": {
   "name": "python"
  }
 },
 "nbformat": 4,
 "nbformat_minor": 2
}
