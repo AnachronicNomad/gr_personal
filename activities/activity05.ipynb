{
 "cells": [
  {
   "cell_type": "markdown",
   "metadata": {},
   "source": [
    ">   # The General Relativistic Satellite Problem in Spherical Coordinates\n",
    ">\n",
    ">   **Instructions:** Answer each equestion, working with your table group, the LAs, and the professor!\n",
    ">\n",
    ">   **Activity:**\n",
    ">\n",
    ">   The goal of this activity is to get the equations of motion for an orbiting body (near Earth) using the Schwarzschild metric for a static spherical body. \n",
    ">\n",
    ">   Remember, this problem is using General Relativity, so there does not need to be a force; gravity is a pseudoforce accounted for by the metric tensor itself. "
   ]
  },
  {
   "cell_type": "markdown",
   "metadata": {},
   "source": [
    ">   ### [1]\n",
    ">\n",
    ">   First, we can get a bit of experience with using code to do the work of getting Christoffel symbols. \n",
    ">\n",
    ">   - We can use Google Colab ([https://colab.research.google.com/](https://colab.research.google.com/)). Go to that site, and try to sign in with your Google account if you're willing. Or, you can run the Jupyter notebooks I reference in your favorite environment. \n",
    ">   - In the Colab environment, select 'GitHub' and enter ([https://github.com/villano-lab/general_relativity](https://github.com/villano-lab/general_relativity))\n",
    ">   - Select the notebook `ChristoffelSymbols-Spring2025-ANV.ipynb` and play around by executing cells one at a time. \n",
    ">   - Try to understand what each cell does, and generalize the code to the Christoffel symbols for the Schwarzschild metric. "
   ]
  },
  {
   "cell_type": "markdown",
   "metadata": {},
   "source": [
    ">   ### [2] \n",
    ">\n",
    ">   Using the Christoffel symbols for the Schwarzschild metric, find the equations of motion for the gravitational problem around Earth using General Relativity. _Hint: There should be 4 equations._"
   ]
  },
  {
   "cell_type": "markdown",
   "metadata": {},
   "source": []
  }
 ],
 "metadata": {
  "language_info": {
   "name": "python"
  }
 },
 "nbformat": 4,
 "nbformat_minor": 2
}
