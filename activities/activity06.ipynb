{
 "cells": [
  {
   "cell_type": "markdown",
   "metadata": {},
   "source": [
    ">   # The General Relativistic Satellite Problem (Circular Orbit)\n",
    ">\n",
    ">   **Instructions:** Answer each question, working with your table group, the LAs, and the professor!\n",
    ">\n",
    ">   **Activity:**\n",
    ">\n",
    ">   The goal of this activity is to get the equations of motion for an orbiting body (near Earth) using the Schwarzschild metric and analyze the behavior of the solution in the case of a circular orbit. \n",
    ">\n",
    ">   Remember, this problem is using General Relativity, so there does not need to be a force; gravity is a pseudoforce accounted for by the metric tensor itself. "
   ]
  },
  {
   "cell_type": "markdown",
   "metadata": {},
   "source": [
    ">   ### [1] \n",
    ">\n",
    ">   Write out the full set of differential equations and the \"invariance condition\" for the GR orbit problem in terms of $r$, $\\theta$, $\\phi$, $t$, and $\\tau$.  Define clearly what each variable means, especially which reference frame it pertains to. \n",
    ">"
   ]
  },
  {
   "cell_type": "markdown",
   "metadata": {},
   "source": [
    ">   ### [2] \n",
    ">\n",
    ">   In the differential equation for $r$, take the non-relativistic limit and identify the term that corresponds to the gravitational (radial) force in the Newtonian Equations of Motion. \n",
    ">\n",
    ">   Note, you will have to expand the Schwarzschild radius $r_S$ with its definition: $2GM / c^2$. "
   ]
  },
  {
   "cell_type": "markdown",
   "metadata": {},
   "source": [
    ">   ### [3]\n",
    ">\n",
    ">   Remove the terms that go to zero in the case of a circular orbit, and rewrite the set of differential equations. Solve them. "
   ]
  },
  {
   "cell_type": "markdown",
   "metadata": {},
   "source": [
    ">   ### [4]\n",
    ">  \n",
    ">   Compare $t(\\tau)$ for orbits at two different radii. What does this tell you physically? For one second in the higher orbit how many seconds tick off in a lower orbit, say, close to the surface of the Earth?"
   ]
  },
  {
   "cell_type": "markdown",
   "metadata": {},
   "source": []
  }
 ],
 "metadata": {
  "language_info": {
   "name": "python"
  }
 },
 "nbformat": 4,
 "nbformat_minor": 2
}
