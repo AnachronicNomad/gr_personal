{
 "cells": [
  {
   "cell_type": "markdown",
   "metadata": {},
   "source": [
    ">   # Mutually Non-Inertial Frames & The Metric\n",
    ">\n",
    ">   **Instructions:** Answer each question, working with your table group, the LAs, and the professor!\n",
    ">\n",
    ">   **Activity:**   Part of what we learned in class is pretty profound: two locally inertial frames can be _mutually non-inertial_.  This means that when viewed by the other observer each frame is non-inertial, but appears perfectly inertial when viewing within our own frame only. \n",
    ">   \n",
    ">   The reason this is profound is: \n",
    ">\n",
    ">   - a global definition of inertial frame seems to be lacking, and\n",
    ">   - no coordinate system that we've dealt with before seems to have this property. \n",
    "> \n",
    ">   Figure 2 shows a standard situation with a rotating frame. The frame attached to the merry-go-round (MGR) is clearly non-inertial from the perspective of the outside observer. However, from the perspective of an observer on the MGR, it is clearly discoverable that they themselves are in a non-inertial frame. \n",
    ">\n",
    ">   <center><img width=\"66%\" height=\"66%\" src=\"\"></center>\n",
    ">\n",
    ">   This is very different from the situation we discussed in class. In that case, we had two frames whose internal observers are _absolutely_ sure they are in inertial frames, but they nevertheless judge each others' frame as non-inertial. "
   ]
  },
  {
   "cell_type": "markdown",
   "metadata": {},
   "source": [
    ">   ### [1] \n",
    ">\n",
    ">   Try to reason using words, equations, or both, that in non-relativistic mechanics there is no way to have two locally inertial frames that are mutually non-inertial. In other words, prove the following theorem: \n",
    ">\n",
    ">   **TODO :>**"
   ]
  },
  {
   "cell_type": "markdown",
   "metadata": {},
   "source": [
    ">   ### [2] \n",
    ">\n",
    ">   Show that in 2D Euclidean Space (i.e., with the metric shown below) that the expression $a^i b^i$ is the same as $a^i g^{ij} b^j$.\n",
    ">\n",
    ">   $$g^{ij} = \\begin{pmatrix} 1 & 0 \\\\ 0 & 1 \\end{pmatrix}$$"
   ]
  },
  {
   "cell_type": "markdown",
   "metadata": {},
   "source": [
    ">   ### [3]\n",
    ">\n",
    ">   The preceding discussion is designed to lead us into the concept of the \"metric tensor\" as a mathematical object that will help us measure distances in curved spaces (eventuallY). \n",
    ">\n",
    ">   Now try to calculate the length of a circular path using _polar coordinates_: $x^1 \\equiv r$ and $x^2 \\equiv \\theta$.  Here are some reminders of how to proceed: \n",
    ">\n",
    ">   - parameterize the path: in other words, make $r$ and $\\theta$ functions of time $t$ (time is the parameter).\n",
    ">   - calculate the \"velocity\" in this parameter $v^i = dx^i / dt$\n",
    ">   - insert into the integral length formula using the correct metric, and calculate the length. "
   ]
  },
  {
   "cell_type": "markdown",
   "metadata": {},
   "source": []
  }
 ],
 "metadata": {
  "language_info": {
   "name": "python"
  }
 },
 "nbformat": 4,
 "nbformat_minor": 2
}
