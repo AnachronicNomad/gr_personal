{
 "cells": [
  {
   "cell_type": "markdown",
   "id": "74db6f6a",
   "metadata": {},
   "source": [
    "# Rotating Spherical Pendulums"
   ]
  },
  {
   "cell_type": "markdown",
   "id": "e3d1ec7a",
   "metadata": {},
   "source": [
    "# Resources\n",
    "\n"
   ]
  },
  {
   "cell_type": "markdown",
   "id": "17171285",
   "metadata": {},
   "source": [
    "^[1] https://uuuuuu.lassp.cornell.edu/sites/default/files/lec3.pdf\n",
    "\n",
    "^[2] https://pubs.aip.org/aapt/ajp/article/93/4/308/3340270/A-derivation-of-precessional-effects-in-the\n",
    "\n",
    "^[3] https://phys.libretexts.org/Bookshelves/Classical_Mechanics/Variational_Principles_in_Classical_Mechanics_(Cline)/12%3A_Non-inertial_Reference_Frames/12.13%3A_Foucault_pendulum\n",
    "\n"
   ]
  },
  {
   "cell_type": "markdown",
   "id": "e00ec813",
   "metadata": {},
   "source": []
  }
 ],
 "metadata": {
  "language_info": {
   "name": "python"
  }
 },
 "nbformat": 4,
 "nbformat_minor": 5
}
