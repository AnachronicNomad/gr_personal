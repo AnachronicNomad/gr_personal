{
 "cells": [
  {
   "cell_type": "markdown",
   "id": "74db6f6a",
   "metadata": {},
   "source": [
    "# Rotating Spherical Pendulums\n",
    "\n",
    "---"
   ]
  },
  {
   "cell_type": "markdown",
   "id": "b6d0af85",
   "metadata": {},
   "source": [
    "## Conventional Derivation of Precession of a \"Foucault Pendulum\" in the Analytical Mechanics\n",
    "\n"
   ]
  },
  {
   "cell_type": "markdown",
   "id": "b5d039ee-a338-43c1-9cbc-89c15f8b1f6b",
   "metadata": {},
   "source": [
    "### Spherical Pendulum Equations of Motion\n",
    "\n"
   ]
  },
  {
   "cell_type": "markdown",
   "id": "a378b152-c091-4b20-97a2-51f9d20480b6",
   "metadata": {},
   "source": [
    "### Effective Net Force Related to Observed Effects, Frame Acceleration\n",
    "\n"
   ]
  },
  {
   "cell_type": "markdown",
   "id": "b9744d58",
   "metadata": {},
   "source": [
    "\n",
    "$$\n",
    "\\frac{\\vec{F}_{\\text{eff}}}{m} = \\frac{\\vec{F}_{\\text{net}}}{m} -\n",
    "\\left[\\begin{align}\n",
    "    &       \\ddot{R}_f \\tag{Linear} \\quad \\\\\n",
    "    &\\quad  + \\dot{\\vec{\\omega}} \\times \\vec{r} \\tag{Euler} \\quad \\\\\n",
    "    &\\qquad + \\vec{\\omega} \\times \\left(\\vec{\\omega} \\times \\vec{r}\\right) \\tag{Centrifugal} \\quad \\\\\n",
    "    &\\qquad \\quad + 2 \\vec{\\omega} \\times \\vec{v} \\quad \\tag{Coriolis} \\\\\n",
    "\\end{align}\\right]\n",
    "$$"
   ]
  },
  {
   "cell_type": "markdown",
   "id": "6d0fd6c2",
   "metadata": {},
   "source": [
    "| Expression | Inertial Effect | Precessional Effect | Relativistic Effect |\n",
    "|--:|--:|--:|--:|\n",
    "| $m \\ddot{\\vec{R}}_f$ | Linear |  |  |\n",
    "| $m\\dot{\\vec{\\omega}} \\times \\vec{r}$ | Euler |  |  |\n",
    "| $m\\vec{\\omega} \\times \\left(\\vec{\\omega} \\times \\vec{r}\\right)$ | Centrifugal |  |  |\n",
    "| $2m\\omega \\times \\vec{v}$ | Coriolis | Lense-Thirring | \"Frame-Dragging\" |"
   ]
  },
  {
   "cell_type": "markdown",
   "id": "b1c7edd3",
   "metadata": {},
   "source": [
    "### Solution of Eqn.s of Motion With and Without Small-Angle Approximation"
   ]
  },
  {
   "cell_type": "code",
   "execution_count": null,
   "id": "7af16c3a-bfe1-47ab-b66c-6eab3ba48961",
   "metadata": {},
   "outputs": [],
   "source": []
  },
  {
   "cell_type": "markdown",
   "id": "7668c5d9",
   "metadata": {},
   "source": [
    "---"
   ]
  },
  {
   "cell_type": "markdown",
   "id": "7ede96d7",
   "metadata": {},
   "source": [
    "## Conventional General Relativity"
   ]
  },
  {
   "cell_type": "markdown",
   "id": "53e9da3a",
   "metadata": {},
   "source": [
    "### Schwarzschild Metric, \"Vacuum Solution\""
   ]
  },
  {
   "cell_type": "markdown",
   "id": "ca3e925d",
   "metadata": {},
   "source": []
  },
  {
   "cell_type": "markdown",
   "id": "1ebad37b",
   "metadata": {},
   "source": [
    "### Kerr Metric, Rotational Inertial Frames"
   ]
  },
  {
   "cell_type": "markdown",
   "id": "4ba4e9b5",
   "metadata": {},
   "source": []
  },
  {
   "cell_type": "markdown",
   "id": "a49f6369",
   "metadata": {},
   "source": [
    "---"
   ]
  },
  {
   "cell_type": "markdown",
   "id": "2efd6112",
   "metadata": {},
   "source": [
    "## The Modified Spherical Pendulum"
   ]
  },
  {
   "cell_type": "markdown",
   "id": "a5984c6e",
   "metadata": {},
   "source": []
  },
  {
   "cell_type": "markdown",
   "id": "e3d1ec7a",
   "metadata": {},
   "source": [
    "---\n",
    "\n",
    "# Resources\n"
   ]
  },
  {
   "cell_type": "markdown",
   "id": "17171285",
   "metadata": {},
   "source": [
    "^[1]:\n",
    "https://uuuuuu.lassp.cornell.edu/sites/default/files/lec3.pdf\n",
    "\n",
    "^[2]: https://pubs.aip.org/aapt/ajp/article/93/4/308/3340270/A-derivation-of-precessional-effects-in-the\n",
    "\n",
    "^[3]: https://phys.libretexts.org/Bookshelves/Classical_Mechanics/Variational_Principles_in_Classical_Mechanics_(Cline)/12%3A_Non-inertial_Reference_Frames/12.13%3A_Foucault_pendulum\n",
    "\n",
    "^[4]: https://mhjensen.github.io/Physics321/doc/pub/frames/html/frames.html"
   ]
  },
  {
   "cell_type": "markdown",
   "id": "e00ec813",
   "metadata": {},
   "source": []
  }
 ],
 "metadata": {
  "kernelspec": {
   "display_name": "SageMath 10.6",
   "language": "sage",
   "name": "sagemath"
  },
  "language_info": {
   "codemirror_mode": {
    "name": "ipython",
    "version": 3
   },
   "file_extension": ".py",
   "mimetype": "text/x-python",
   "name": "python",
   "nbconvert_exporter": "python",
   "pygments_lexer": "ipython3",
   "version": "3.12.5"
  },
  "widgets": {
   "application/vnd.jupyter.widget-state+json": {
    "state": {},
    "version_major": 2,
    "version_minor": 0
   }
  }
 },
 "nbformat": 4,
 "nbformat_minor": 5
}
