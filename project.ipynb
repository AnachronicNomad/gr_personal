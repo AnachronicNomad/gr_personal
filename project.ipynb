{
 "cells": [
  {
   "cell_type": "markdown",
   "id": "74db6f6a",
   "metadata": {},
   "source": [
    "# Rotating Spherical Pendulums"
   ]
  },
  {
   "cell_type": "markdown",
   "id": "e3d1ec7a",
   "metadata": {},
   "source": [
    "# Resources\n",
    "\n"
   ]
  },
  {
   "cell_type": "markdown",
   "id": "17171285",
   "metadata": {},
   "source": []
  }
 ],
 "metadata": {
  "language_info": {
   "name": "python"
  }
 },
 "nbformat": 4,
 "nbformat_minor": 5
}
