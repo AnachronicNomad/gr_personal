{
 "cells": [
  {
   "cell_type": "markdown",
   "id": "f20a76c4",
   "metadata": {},
   "source": [
    "# Foucault Pendulum\n",
    "\n",
    "- gravitational effect, earth's rotation in non-inertial frame\n",
    "\n",
    "- Adding a rotating \n",
    "\n",
    "# LIGO - measurement of gravitational waves\n",
    "\n",
    "# Gravity Probe B\n",
    "\n",
    "# Hafaele-Keating \n",
    "\n",
    "# GPS Time-Dilation "
   ]
  }
 ],
 "metadata": {
  "language_info": {
   "name": "python"
  }
 },
 "nbformat": 4,
 "nbformat_minor": 5
}
